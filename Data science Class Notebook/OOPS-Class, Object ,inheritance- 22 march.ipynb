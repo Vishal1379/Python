{
 "cells": [
  {
   "cell_type": "markdown",
   "id": "50ee81b9",
   "metadata": {},
   "source": [
    "# Object Oriented Programming and File I/O"
   ]
  },
  {
   "cell_type": "markdown",
   "id": "78b3beef",
   "metadata": {},
   "source": [
    "__Object Oriented Programming (OOP)__ is a programming paradigm that allows abstraction through the concept of interacting entities. This programming works contradictory to conventional model and is procedural, in which programs are organized as a sequence of commands or statements to perform.\n",
    "\n",
    "We can think an object as an entity that resides in memory, has a state and it's able to perform some actions. \n",
    " \n",
    "More formally objects are entities that represent **instances** of a general abstract concept called **class**. In `Python`, \"attributes\" are the variables defining an object state and the possible actions are called \"methods\".\n",
    "\n",
    "In Python, everything is an object also classes and functions."
   ]
  },
  {
   "cell_type": "code",
   "execution_count": 10,
   "id": "8dd9510c",
   "metadata": {},
   "outputs": [
    {
     "name": "stdout",
     "output_type": "stream",
     "text": [
      "vishal\n",
      "thorat\n",
      "raj thorat born in 2005.\n"
     ]
    }
   ],
   "source": [
    "#this is not useable this is not a good idea\n",
    "\n",
    "class person:\n",
    "    pass\n",
    "\n",
    "vish = person()\n",
    "vish.name = 'vishal'\n",
    "vish.surname = 'thorat'\n",
    "vish.year_of_birth = 1999\n",
    "\n",
    "rj = person()\n",
    "rj.name = 'raj'\n",
    "rj.surname = 'thorat'\n",
    "rj.year_of_birth = 2005\n",
    "\n",
    "\n",
    "print(vish.name)\n",
    "print(rj.surname)\n",
    "print(\"%s %s born in %d.\" % (rj.name,rj.surname,rj.year_of_birth))"
   ]
  },
  {
   "cell_type": "code",
   "execution_count": 14,
   "id": "2b758147",
   "metadata": {},
   "outputs": [
    {
     "name": "stdout",
     "output_type": "stream",
     "text": [
      "vishal thorat\n"
     ]
    }
   ],
   "source": [
    "class person:\n",
    "    def __init__(self,name,surname,year_of_birth):\n",
    "        self.name = name\n",
    "        self.surname = surname \n",
    "        self.year_of_birth = year_of_birth\n",
    "        \n",
    "vish = person('vishal','thorat',1999)\n",
    "#print(vish)\n",
    "print(vish.name,vish.surname)"
   ]
  },
  {
   "cell_type": "markdown",
   "id": "af7627cc",
   "metadata": {},
   "source": [
    "# Methods"
   ]
  },
  {
   "cell_type": "code",
   "execution_count": 21,
   "id": "4a0c8630",
   "metadata": {},
   "outputs": [
    {
     "name": "stdout",
     "output_type": "stream",
     "text": [
      "vishal\n",
      "dict_keys(['name', 'surname', 'year_of_birth'])\n",
      "24\n"
     ]
    }
   ],
   "source": [
    "class person:\n",
    "    def __init__(self, name, surname, year_of_birth):\n",
    "        self.name = name \n",
    "        self.surname =surname\n",
    "        self.year_of_birth = year_of_birth\n",
    "        \n",
    "    def age(self,current_year):\n",
    "        return current_year - self.year_of_birth\n",
    "    \n",
    "    def __str__(self):\n",
    "        return str(self.name)\n",
    "    \n",
    "vish = person('vishal','thorat',1999)\n",
    "\n",
    "print(vish)\n",
    "print(vish.__dict__.keys())\n",
    "print(vish.age(2023))"
   ]
  },
  {
   "cell_type": "code",
   "execution_count": 34,
   "id": "307ea795",
   "metadata": {},
   "outputs": [],
   "source": [
    "#Bad practice\n",
    "#without __init__ method \n",
    "\n",
    "class person:\n",
    "    def set_name(self,name):\n",
    "        self.name = name \n",
    "    \n",
    "    def set_surname(self,surname):\n",
    "        self.surname = surname\n",
    "        \n",
    "    def set_year_of_birth(self, year_of_birth):\n",
    "        self.year_of_birth = year_of_birth\n",
    "        \n",
    "    def age(self,current_year):\n",
    "        return current_year - self.year_of_birth\n",
    "    \n",
    "    def __str__(self):\n",
    "        return \" %d .\" % (self.year_of_birth)"
   ]
  },
  {
   "cell_type": "code",
   "execution_count": 35,
   "id": "964540c7",
   "metadata": {},
   "outputs": [],
   "source": [
    "vish=person()\n",
    "vish.set_name('vishal')\n",
    "vish.set_surname('thorat')\n",
    "vish.set_year_of_birth(1999)"
   ]
  },
  {
   "cell_type": "code",
   "execution_count": 36,
   "id": "6cd92296",
   "metadata": {},
   "outputs": [
    {
     "name": "stdout",
     "output_type": "stream",
     "text": [
      " 1999 .\n"
     ]
    }
   ],
   "source": [
    "print(vish)"
   ]
  },
  {
   "cell_type": "code",
   "execution_count": 37,
   "id": "870e592d",
   "metadata": {},
   "outputs": [
    {
     "name": "stdout",
     "output_type": "stream",
     "text": [
      "vishal thorat\n"
     ]
    }
   ],
   "source": [
    "print(vish.name,vish.surname)"
   ]
  },
  {
   "cell_type": "code",
   "execution_count": 32,
   "id": "3fa2ef64",
   "metadata": {},
   "outputs": [
    {
     "name": "stdout",
     "output_type": "stream",
     "text": [
      "1999\n"
     ]
    }
   ],
   "source": [
    "print(vish.year_of_birth)"
   ]
  },
  {
   "cell_type": "code",
   "execution_count": 38,
   "id": "ffb605bd",
   "metadata": {},
   "outputs": [
    {
     "name": "stdout",
     "output_type": "stream",
     "text": [
      " vishal thorat born in 1999 .\n"
     ]
    }
   ],
   "source": [
    "print(\" %s %s born in %d .\" % (vish.name,vish.surname,vish.year_of_birth))"
   ]
  },
  {
   "cell_type": "markdown",
   "id": "cb3ec440",
   "metadata": {},
   "source": [
    "# Protect your abstraction\n",
    "protected-private-public"
   ]
  },
  {
   "cell_type": "code",
   "execution_count": 51,
   "id": "fb0b7310",
   "metadata": {},
   "outputs": [
    {
     "name": "stdout",
     "output_type": "stream",
     "text": [
      "vishal\n",
      "dict_keys(['_name', '_surname', '_year_of_birth'])\n",
      "24\n"
     ]
    }
   ],
   "source": [
    "#protected \"_\" -one underscore\n",
    "\n",
    "class person:\n",
    "    def __init__(self, name, surname, year_of_birth):\n",
    "        self._name = name \n",
    "        self._surname =surname\n",
    "        self._year_of_birth = year_of_birth\n",
    "        \n",
    "    def age(self,current_year):\n",
    "        return current_year - self._year_of_birth\n",
    "    \n",
    "    def __str__(self):\n",
    "        return str(self._name)\n",
    "    \n",
    "vish = person('vishal','thorat',1999)\n",
    "\n",
    "print(vish)\n",
    "print(vish.__dict__.keys())\n",
    "print(vish.age(2023))"
   ]
  },
  {
   "cell_type": "code",
   "execution_count": 52,
   "id": "04853bb8",
   "metadata": {},
   "outputs": [
    {
     "name": "stdout",
     "output_type": "stream",
     "text": [
      "vishal\n",
      "dict_keys(['_person__name', '_person__surname', '_person__year_of_birth'])\n",
      "24\n",
      "vishal\n"
     ]
    }
   ],
   "source": [
    "#private \"__\" - double underscore\n",
    "class person:\n",
    "    def __init__(self, name, surname, year_of_birth):\n",
    "        self.__name = name \n",
    "        self.__surname =surname\n",
    "        self.__year_of_birth = year_of_birth\n",
    "        \n",
    "    def age(self,current_year):\n",
    "        return current_year - self.__year_of_birth\n",
    "    \n",
    "    def __str__(self):\n",
    "        return str(self.__name)\n",
    "    \n",
    "vish = person('vishal','thorat',1999)\n",
    "\n",
    "print(vish)\n",
    "print(vish.__dict__.keys())\n",
    "print(vish.age(2023))\n",
    "\n",
    "print(vish._person__name)"
   ]
  },
  {
   "cell_type": "code",
   "execution_count": 54,
   "id": "4dc4d7f3",
   "metadata": {},
   "outputs": [
    {
     "name": "stdout",
     "output_type": "stream",
     "text": [
      "vishal\n",
      "dict_keys(['name', 'surname', 'year_of_birth'])\n",
      "24\n"
     ]
    }
   ],
   "source": [
    "#public without underscore\n",
    "class person:\n",
    "    def __init__(self, name, surname, year_of_birth):\n",
    "        self.name = name \n",
    "        self.surname =surname\n",
    "        self.year_of_birth = year_of_birth\n",
    "        \n",
    "    def age(self,current_year):\n",
    "        return current_year - self.year_of_birth\n",
    "    \n",
    "    def __str__(self):\n",
    "        return str(self.name)\n",
    "    \n",
    "vish = person('vishal','thorat',1999)\n",
    "\n",
    "print(vish)\n",
    "print(vish.__dict__.keys())\n",
    "print(vish.age(2023))"
   ]
  },
  {
   "cell_type": "markdown",
   "id": "ae7526f9",
   "metadata": {},
   "source": [
    "# inheritance"
   ]
  },
  {
   "cell_type": "markdown",
   "id": "8b195ea0",
   "metadata": {},
   "source": [
    "Once a class is defined it models a concept. It is useful to extend a class behavior to model a less general concept. Say we need to model a Student, but we know that every student is also a Person so we shouldn't model the Person again but inherit from it instead."
   ]
  },
  {
   "cell_type": "code",
   "execution_count": 63,
   "id": "00a2e246",
   "metadata": {},
   "outputs": [
    {
     "name": "stdout",
     "output_type": "stream",
     "text": [
      "1\n",
      "23\n",
      "True\n",
      "True\n",
      "<class '__main__.student'>\n"
     ]
    }
   ],
   "source": [
    "class student(person):\n",
    "    def __init__(self, student_id,*args):\n",
    "        super(student,self).__init__(*args)\n",
    "        self.student_id = student_id\n",
    "        \n",
    "vish = student(1, 'vishal','thorat',1999)\n",
    "\n",
    "print(vish.student_id)\n",
    "print(vish.age(2022))\n",
    "\n",
    "print(isinstance(vish, person))\n",
    "print(isinstance(vish, object))\n",
    "print(type(vish))"
   ]
  },
  {
   "cell_type": "markdown",
   "id": "32a11c5f",
   "metadata": {},
   "source": [
    "# overriding method"
   ]
  },
  {
   "cell_type": "markdown",
   "id": "b7fcf7df",
   "metadata": {},
   "source": [
    "Inheritance allows to add new methods to a subclass but often is useful to change the behavior of a method defined in the superclass. To override a method just define it again."
   ]
  },
  {
   "cell_type": "code",
   "execution_count": 67,
   "id": "2312ae2d",
   "metadata": {},
   "outputs": [
    {
     "name": "stdout",
     "output_type": "stream",
     "text": [
      "vishal And has ID: 1.\n"
     ]
    }
   ],
   "source": [
    "class student(person):\n",
    "    def __init__(self, student_id,*args):\n",
    "        super(student,self).__init__(*args)\n",
    "        self.student_id = student_id\n",
    "        \n",
    "    def __str__(self):\n",
    "        return super(student, self).__str__() + \" And has ID: %d.\" % self.student_id\n",
    "    \n",
    "    \n",
    "vish = student(1, 'vishal','thorat',1999)\n",
    "\n",
    "print(vish)"
   ]
  },
  {
   "cell_type": "markdown",
   "id": "375de66a",
   "metadata": {},
   "source": [
    "# Encapsulation"
   ]
  },
  {
   "cell_type": "markdown",
   "id": "777c94e5",
   "metadata": {},
   "source": [
    "Encapsulation is an another powerful way to extend a class which consists on wrapping an object with a second one.\n",
    "There are two main reasons to use encapsulation:\n",
    "* Composition\n",
    "* Dynamic Extension"
   ]
  },
  {
   "cell_type": "markdown",
   "id": "a83c93f9",
   "metadata": {},
   "source": [
    "# Composition"
   ]
  },
  {
   "cell_type": "markdown",
   "id": "399b8838",
   "metadata": {},
   "source": [
    "The abstraction process relies on creating a simplified model that remove useless details from a concept. In order to be simplified, a model should be described in terms of other simpler concepts.\n",
    "For example, we can say that a car is composed by:\n",
    "* Tyres\n",
    "* Engine\n",
    "* Body\n",
    "\n",
    "And break down each one of these elements in simpler parts until we reach primitive data."
   ]
  },
  {
   "cell_type": "code",
   "execution_count": 87,
   "id": "a84cfdb0",
   "metadata": {},
   "outputs": [
    {
     "name": "stdout",
     "output_type": "stream",
     "text": [
      "Tyres: \n",
      " \t branch: Pirelli\n",
      " \t belted_bais: True\n",
      " \t opt_pressure: 2.0\n",
      "engine: \n",
      " \t fuel_type: Diesel\n",
      " \t noise_level: 3\n",
      "body: \n",
      " \t size: Medium\n"
     ]
    }
   ],
   "source": [
    "class tyres:\n",
    "    def __init__(self, branch, belted_bais, opt_pressure):\n",
    "        self.branch = branch\n",
    "        self.belted_bais = belted_bais\n",
    "        self.opt_pressure = opt_pressure\n",
    "        \n",
    "    def __str__(self):\n",
    "        return (\"Tyres: \\n \\t branch: \" + str(self.branch) +\n",
    "                \"\\n \\t belted_bais: \" + str(self.belted_bais) +\n",
    "                \"\\n \\t opt_pressure: \" + str(self.opt_pressure))\n",
    "        \n",
    "    \n",
    "class engine:\n",
    "    def __init__(self,fuel_type,noise_level):\n",
    "        self.fuel_type = fuel_type\n",
    "        self.noise_level =noise_level\n",
    "        \n",
    "    def __str__(self):\n",
    "        return(\"engine: \\n \\t fuel_type: \" + str(self.fuel_type) +\n",
    "                  \"\\n \\t noise_level: \"+ str(self.noise_level))\n",
    "        \n",
    "class body:\n",
    "    def __init__(self,size):\n",
    "        self.size=size\n",
    "        \n",
    "    def __str__(self):\n",
    "        return(\"body: \\n \\t size: \" + str(self.size))\n",
    "    \n",
    "class car:\n",
    "    def __init__(self, tyres,engine, body):\n",
    "        self.tyres = tyres \n",
    "        self.engine = engine\n",
    "        self.body = body\n",
    "        \n",
    "    def __str__(self):\n",
    "        return str(self.tyres) + \"\\n\" + str(self.engine) + \"\\n\" + str(self.body)\n",
    "    \n",
    "t = tyres('Pirelli', True, 2.0)\n",
    "e = engine('Diesel', 3)\n",
    "b = body('Medium')\n",
    "c = car(t, e, b)\n",
    "\n",
    "#print(t)   \n",
    "#print(e)\n",
    "#print(b)\n",
    "print(c)"
   ]
  },
  {
   "cell_type": "markdown",
   "id": "3f991472",
   "metadata": {},
   "source": [
    "# Dynamic Extension"
   ]
  },
  {
   "cell_type": "markdown",
   "id": "0cfcbbb3",
   "metadata": {},
   "source": [
    "Sometimes it's necessary to model a concept that may be a subclass of another one, but it isn't possible to know which class should be its superclass until runtime."
   ]
  },
  {
   "cell_type": "markdown",
   "id": "b452a190",
   "metadata": {},
   "source": [
    "Eg: \n",
    "    Suppose we want to model a simple dog school that trains instructors too. It will be nice to re-use Person and Student but students can be dogs or peoples. So we can remodel it this way:"
   ]
  },
  {
   "cell_type": "code",
   "execution_count": 95,
   "id": "5791f8e5",
   "metadata": {},
   "outputs": [
    {
     "name": "stdout",
     "output_type": "stream",
     "text": [
      "Tommy is a pitar born in year 2019.\n"
     ]
    }
   ],
   "source": [
    "class Dog:\n",
    "    def __init__(self, name, year_of_birth, breed):\n",
    "        self._name = name\n",
    "        self._year_of_birth = year_of_birth\n",
    "        self._breed = breed\n",
    "\n",
    "    def __str__(self):\n",
    "        return \"%s is a %s born in year %d.\" % (self._name, self._breed, self._year_of_birth)\n",
    "\n",
    "Tommy = Dog(\"Tommy\", 2019, \"pitar\")\n",
    "print(Tommy)"
   ]
  },
  {
   "cell_type": "code",
   "execution_count": 96,
   "id": "9c0064b1",
   "metadata": {},
   "outputs": [
    {
     "name": "stdout",
     "output_type": "stream",
     "text": [
      "dsfs Student ID: 1\n",
      "Tommy is a pitar born in year 2019. Student ID: 2\n"
     ]
    }
   ],
   "source": [
    "class Student:\n",
    "    def __init__(self, anagraphic, student_id):\n",
    "        self._anagraphic = anagraphic\n",
    "        self._student_id = student_id\n",
    "    def __str__(self):\n",
    "        return str(self._anagraphic) + \" Student ID: %d\" % self._student_id\n",
    "\n",
    "\n",
    "alec_student = Student(\"dsfs\",1)\n",
    "Toomy_student = Student(Tommy, 2)\n",
    "\n",
    "print(alec_student)\n",
    "print(Toomy_student)"
   ]
  },
  {
   "cell_type": "markdown",
   "id": "94200d6b",
   "metadata": {},
   "source": [
    "# Polymorphism and DuckTyping"
   ]
  },
  {
   "cell_type": "markdown",
   "id": "64f3dfa1",
   "metadata": {},
   "source": [
    "`Python` uses dynamic typing which is also called as duck typing. If an object implements a method you can use it, irrespective of the type. This is different from statically typed languages, where the type of a construct need to be explicitly declared. Polymorphism is the ability to use the same syntax for objects of different types:"
   ]
  },
  {
   "cell_type": "code",
   "execution_count": 97,
   "id": "4db9bb51",
   "metadata": {},
   "outputs": [
    {
     "name": "stdout",
     "output_type": "stream",
     "text": [
      "2\n",
      "['a', 'b', 'c', 'd', 'e']\n",
      "abracadabra\n"
     ]
    }
   ],
   "source": [
    "def summer(a, b):\n",
    "    return a + b\n",
    "\n",
    "print(summer(1, 1))\n",
    "print(summer([\"a\", \"b\", \"c\"], [\"d\", \"e\"]))\n",
    "print(summer(\"abra\", \"cadabra\"))"
   ]
  },
  {
   "cell_type": "code",
   "execution_count": 112,
   "id": "6a21c975",
   "metadata": {},
   "outputs": [
    {
     "name": "stdout",
     "output_type": "stream",
     "text": [
      "vishal vishal \n",
      "['a', 'b', 'c', 'a', 'b', 'c', 'a', 'b', 'c', 'a', 'b', 'c', 'a', 'b', 'c']\n"
     ]
    }
   ],
   "source": [
    "def summer(a, b):\n",
    "    return a * b\n",
    "\n",
    "print(summer(\"vishal \",2))\n",
    "print(summer(['a','b','c'],5))"
   ]
  },
  {
   "cell_type": "code",
   "execution_count": null,
   "id": "ec3b35fa",
   "metadata": {},
   "outputs": [],
   "source": []
  }
 ],
 "metadata": {
  "kernelspec": {
   "display_name": "Python 3 (ipykernel)",
   "language": "python",
   "name": "python3"
  },
  "language_info": {
   "codemirror_mode": {
    "name": "ipython",
    "version": 3
   },
   "file_extension": ".py",
   "mimetype": "text/x-python",
   "name": "python",
   "nbconvert_exporter": "python",
   "pygments_lexer": "ipython3",
   "version": "3.9.12"
  }
 },
 "nbformat": 4,
 "nbformat_minor": 5
}
