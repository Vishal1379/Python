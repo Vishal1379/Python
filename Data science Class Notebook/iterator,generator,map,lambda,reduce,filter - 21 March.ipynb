{
 "cells": [
  {
   "cell_type": "markdown",
   "id": "85943571",
   "metadata": {},
   "source": [
    "# Function"
   ]
  },
  {
   "cell_type": "code",
   "execution_count": 9,
   "id": "57188ac8",
   "metadata": {},
   "outputs": [],
   "source": [
    "def is_prime(num):\n",
    "    \"\"\"\n",
    "    naive method to checking for prime\n",
    "    \"\"\"\n",
    "    for n in range(2,num):\n",
    "        if num%n == 0:\n",
    "            print('not prime')\n",
    "            break\n",
    "    else:  #-----> if never mode zero, then prime\n",
    "        print(\"prime\")"
   ]
  },
  {
   "cell_type": "code",
   "execution_count": 15,
   "id": "e8f5e7f4",
   "metadata": {},
   "outputs": [
    {
     "name": "stdout",
     "output_type": "stream",
     "text": [
      "not prime\n"
     ]
    }
   ],
   "source": [
    "is_prime(4545454559068)"
   ]
  },
  {
   "cell_type": "code",
   "execution_count": 17,
   "id": "d8161353",
   "metadata": {},
   "outputs": [],
   "source": [
    "import math\n",
    "\n",
    "def is_prime1(num):\n",
    "    '''\n",
    "    A better method of checking for prime\n",
    "    '''\n",
    "    if num % 2 == 0 and num > 2:\n",
    "        return False\n",
    "    for i in range(3, int(math.sqrt(num))+1,2):\n",
    "        if num % i ==0:\n",
    "            return False\n",
    "    return True"
   ]
  },
  {
   "cell_type": "code",
   "execution_count": 22,
   "id": "b8dea0d3",
   "metadata": {},
   "outputs": [
    {
     "data": {
      "text/plain": [
       "True"
      ]
     },
     "execution_count": 22,
     "metadata": {},
     "output_type": "execute_result"
    }
   ],
   "source": [
    "is_prime1(7)"
   ]
  },
  {
   "cell_type": "code",
   "execution_count": 21,
   "id": "3dab4e7c",
   "metadata": {},
   "outputs": [
    {
     "data": {
      "text/plain": [
       "False"
      ]
     },
     "execution_count": 21,
     "metadata": {},
     "output_type": "execute_result"
    }
   ],
   "source": [
    "is_prime1(102)"
   ]
  },
  {
   "cell_type": "markdown",
   "id": "1a1ef29b",
   "metadata": {},
   "source": [
    "# Iterators and Generator"
   ]
  },
  {
   "cell_type": "code",
   "execution_count": 26,
   "id": "0e62965a",
   "metadata": {},
   "outputs": [
    {
     "name": "stdout",
     "output_type": "stream",
     "text": [
      "v\n",
      "i\n",
      "s\n",
      "h\n",
      "a\n",
      "l\n"
     ]
    }
   ],
   "source": [
    "for i in \"vishal\":\n",
    "    print(i)"
   ]
  },
  {
   "cell_type": "code",
   "execution_count": 27,
   "id": "0c414064",
   "metadata": {},
   "outputs": [],
   "source": [
    "d = iter(\"vishal\")"
   ]
  },
  {
   "cell_type": "code",
   "execution_count": 28,
   "id": "a87de1c2",
   "metadata": {},
   "outputs": [
    {
     "data": {
      "text/plain": [
       "'v'"
      ]
     },
     "execution_count": 28,
     "metadata": {},
     "output_type": "execute_result"
    }
   ],
   "source": [
    "next(d)"
   ]
  },
  {
   "cell_type": "code",
   "execution_count": 29,
   "id": "2704d3be",
   "metadata": {},
   "outputs": [
    {
     "name": "stdout",
     "output_type": "stream",
     "text": [
      "1\n",
      "2\n",
      "3\n",
      "4\n",
      "5\n"
     ]
    }
   ],
   "source": [
    "for i in [1,2,3,4,5]:\n",
    "    print(i)"
   ]
  },
  {
   "cell_type": "code",
   "execution_count": 39,
   "id": "57b7dd1e",
   "metadata": {},
   "outputs": [],
   "source": [
    "v = iter([1,2,3,4,5])"
   ]
  },
  {
   "cell_type": "code",
   "execution_count": 40,
   "id": "14aefd11",
   "metadata": {},
   "outputs": [
    {
     "data": {
      "text/plain": [
       "1"
      ]
     },
     "execution_count": 40,
     "metadata": {},
     "output_type": "execute_result"
    }
   ],
   "source": [
    "next(v)"
   ]
  },
  {
   "cell_type": "code",
   "execution_count": 41,
   "id": "dd839d9d",
   "metadata": {},
   "outputs": [],
   "source": [
    "#Generator function for generate cube\n",
    "def gencubes(n):\n",
    "    for num in range(n):\n",
    "        yield num **3"
   ]
  },
  {
   "cell_type": "code",
   "execution_count": 42,
   "id": "35b94a98",
   "metadata": {},
   "outputs": [
    {
     "data": {
      "text/plain": [
       "<generator object gencubes at 0x000001DC6BA0B5F0>"
      ]
     },
     "execution_count": 42,
     "metadata": {},
     "output_type": "execute_result"
    }
   ],
   "source": [
    "gencubes(7)"
   ]
  },
  {
   "cell_type": "code",
   "execution_count": 44,
   "id": "841a7a15",
   "metadata": {},
   "outputs": [
    {
     "data": {
      "text/plain": [
       "0"
      ]
     },
     "execution_count": 44,
     "metadata": {},
     "output_type": "execute_result"
    }
   ],
   "source": [
    "next(gencubes(8))"
   ]
  },
  {
   "cell_type": "code",
   "execution_count": 49,
   "id": "371b736f",
   "metadata": {},
   "outputs": [
    {
     "name": "stdout",
     "output_type": "stream",
     "text": [
      "0\n",
      "1\n",
      "8\n",
      "27\n",
      "64\n",
      "125\n",
      "216\n"
     ]
    }
   ],
   "source": [
    "for i in gencubes(7):\n",
    "    print(i)"
   ]
  },
  {
   "cell_type": "code",
   "execution_count": 57,
   "id": "70183100",
   "metadata": {},
   "outputs": [],
   "source": [
    "#generate fibonacci number\n",
    "def genfibon(n):\n",
    "    '''\n",
    "    Generate a fibonacci number\n",
    "    '''\n",
    "    a=1\n",
    "    b=1\n",
    "    for i in range(n):\n",
    "        yield a \n",
    "        a,b = b, a+b"
   ]
  },
  {
   "cell_type": "code",
   "execution_count": 58,
   "id": "2d3a4446",
   "metadata": {},
   "outputs": [
    {
     "data": {
      "text/plain": [
       "<generator object genfibon at 0x000001DC6BA3D890>"
      ]
     },
     "execution_count": 58,
     "metadata": {},
     "output_type": "execute_result"
    }
   ],
   "source": [
    "genfibon(10)"
   ]
  },
  {
   "cell_type": "code",
   "execution_count": 63,
   "id": "b23c7fd2",
   "metadata": {},
   "outputs": [
    {
     "name": "stdout",
     "output_type": "stream",
     "text": [
      "1\n",
      "1\n",
      "2\n",
      "3\n"
     ]
    }
   ],
   "source": [
    "for i in  genfibon(4):\n",
    "    print(i)"
   ]
  },
  {
   "cell_type": "code",
   "execution_count": 70,
   "id": "709e7b91",
   "metadata": {},
   "outputs": [],
   "source": [
    "def fibon(n):\n",
    "    a=1\n",
    "    b=1\n",
    "    output=[]\n",
    "    \n",
    "    \n",
    "    for i in range(n):\n",
    "        output.append(a)\n",
    "        a,b = b,a+b\n",
    "        print(output)\n",
    "    #return output"
   ]
  },
  {
   "cell_type": "code",
   "execution_count": 72,
   "id": "bf887f54",
   "metadata": {},
   "outputs": [
    {
     "name": "stdout",
     "output_type": "stream",
     "text": [
      "[1]\n",
      "[1, 1]\n",
      "[1, 1, 2]\n",
      "[1, 1, 2, 3]\n",
      "[1, 1, 2, 3, 5]\n",
      "[1, 1, 2, 3, 5, 8]\n",
      "[1, 1, 2, 3, 5, 8, 13]\n",
      "[1, 1, 2, 3, 5, 8, 13, 21]\n",
      "[1, 1, 2, 3, 5, 8, 13, 21, 34]\n",
      "[1, 1, 2, 3, 5, 8, 13, 21, 34, 55]\n"
     ]
    }
   ],
   "source": [
    "fibon(10)"
   ]
  },
  {
   "cell_type": "markdown",
   "id": "2d684cc1",
   "metadata": {},
   "source": [
    "# map()"
   ]
  },
  {
   "cell_type": "code",
   "execution_count": 85,
   "id": "a4ae2cc5",
   "metadata": {},
   "outputs": [],
   "source": [
    "def fahrenheit(T):\n",
    "    return((float(9)/5)*T+32)\n",
    "def celcius(T):\n",
    "    return ((float(5)/9)*T+32)\n",
    "\n",
    "Temp =[0,12.34,12.12]"
   ]
  },
  {
   "cell_type": "code",
   "execution_count": 86,
   "id": "03c2f6f1",
   "metadata": {},
   "outputs": [
    {
     "name": "stdout",
     "output_type": "stream",
     "text": [
      "[32.0, 54.212, 53.816]\n"
     ]
    }
   ],
   "source": [
    "#regular \n",
    "a=[]\n",
    "\n",
    "for i in Temp:\n",
    "    a.append(fahrenheit(i))\n",
    "\n",
    "print(a)"
   ]
  },
  {
   "cell_type": "code",
   "execution_count": 90,
   "id": "7b58b7d0",
   "metadata": {},
   "outputs": [
    {
     "data": {
      "text/plain": [
       "[32.0, 54.212, 53.816]"
      ]
     },
     "execution_count": 90,
     "metadata": {},
     "output_type": "execute_result"
    }
   ],
   "source": [
    "#by using map function\n",
    "F_temp = list(map(fahrenheit,Temp))\n",
    "\n",
    "#to_show\n",
    "F_temp"
   ]
  },
  {
   "cell_type": "code",
   "execution_count": null,
   "id": "886b6f44",
   "metadata": {},
   "outputs": [],
   "source": [
    "F_temps=list(map())"
   ]
  },
  {
   "cell_type": "markdown",
   "id": "3b408585",
   "metadata": {},
   "source": [
    "# lambda operation"
   ]
  },
  {
   "cell_type": "code",
   "execution_count": 91,
   "id": "705f0087",
   "metadata": {},
   "outputs": [],
   "source": [
    "l=['vishal','thorat']"
   ]
  },
  {
   "cell_type": "code",
   "execution_count": 92,
   "id": "5d824831",
   "metadata": {},
   "outputs": [
    {
     "data": {
      "text/plain": [
       "['VISHAL', 'THORAT']"
      ]
     },
     "execution_count": 92,
     "metadata": {},
     "output_type": "execute_result"
    }
   ],
   "source": [
    "list(map(lambda x:x.upper(),l))"
   ]
  },
  {
   "cell_type": "code",
   "execution_count": 95,
   "id": "406419ee",
   "metadata": {},
   "outputs": [
    {
     "data": {
      "text/plain": [
       "[12, 16, 18, 18, 23]"
      ]
     },
     "execution_count": 95,
     "metadata": {},
     "output_type": "execute_result"
    }
   ],
   "source": [
    "a=[1,2,3,4,5]\n",
    "b=[5,6,7,8,9]\n",
    "c=[6,8,8,6,9]\n",
    "\n",
    "list(map(lambda x,y,z:x+y+z, a,b,c))"
   ]
  },
  {
   "cell_type": "markdown",
   "id": "246c7827",
   "metadata": {},
   "source": [
    "# reduce operation"
   ]
  },
  {
   "cell_type": "code",
   "execution_count": 101,
   "id": "9a974a2f",
   "metadata": {},
   "outputs": [
    {
     "data": {
      "text/plain": [
       "125"
      ]
     },
     "execution_count": 101,
     "metadata": {},
     "output_type": "execute_result"
    }
   ],
   "source": [
    "from functools import reduce\n",
    "lst=[12,23,34,56,]\n",
    "reduce(lambda x,y:x+y ,lst)"
   ]
  },
  {
   "cell_type": "code",
   "execution_count": 105,
   "id": "8bd0c67e",
   "metadata": {},
   "outputs": [],
   "source": [
    "#find the maximum of the sequence\n",
    "lst=[12,3,45,56,72]\n",
    "max_find = lambda a,b: a if (1>b) else b"
   ]
  },
  {
   "cell_type": "code",
   "execution_count": 106,
   "id": "ea6fa3ab",
   "metadata": {},
   "outputs": [
    {
     "data": {
      "text/plain": [
       "72"
      ]
     },
     "execution_count": 106,
     "metadata": {},
     "output_type": "execute_result"
    }
   ],
   "source": [
    "#find max\n",
    "reduce(max_find, lst)"
   ]
  },
  {
   "cell_type": "markdown",
   "id": "94741a76",
   "metadata": {},
   "source": [
    "# Filter operation"
   ]
  },
  {
   "cell_type": "code",
   "execution_count": 144,
   "id": "618dfa12",
   "metadata": {},
   "outputs": [],
   "source": [
    "def even_check(num):\n",
    "    if num%2==0:\n",
    "        return True"
   ]
  },
  {
   "cell_type": "code",
   "execution_count": 145,
   "id": "16bd2bf0",
   "metadata": {},
   "outputs": [
    {
     "ename": "TypeError",
     "evalue": "'filter' object is not callable",
     "output_type": "error",
     "traceback": [
      "\u001b[1;31m---------------------------------------------------------------------------\u001b[0m",
      "\u001b[1;31mTypeError\u001b[0m                                 Traceback (most recent call last)",
      "Input \u001b[1;32mIn [145]\u001b[0m, in \u001b[0;36m<cell line: 3>\u001b[1;34m()\u001b[0m\n\u001b[0;32m      1\u001b[0m lst\u001b[38;5;241m=\u001b[39m\u001b[38;5;28mrange\u001b[39m(\u001b[38;5;241m10\u001b[39m)\n\u001b[1;32m----> 3\u001b[0m \u001b[38;5;28;43mlist\u001b[39;49m\u001b[43m(\u001b[49m\u001b[38;5;28;43mfilter\u001b[39;49m\u001b[43m(\u001b[49m\u001b[43meven_check\u001b[49m\u001b[43m,\u001b[49m\u001b[43mlst\u001b[49m\u001b[43m)\u001b[49m\u001b[43m)\u001b[49m\n",
      "\u001b[1;31mTypeError\u001b[0m: 'filter' object is not callable"
     ]
    }
   ],
   "source": [
    "lst=range(10)\n",
    "\n",
    "list(filter(even_check,lst))"
   ]
  },
  {
   "cell_type": "code",
   "execution_count": null,
   "id": "19811f29",
   "metadata": {},
   "outputs": [],
   "source": [
    "list(filter(lambda x:x))"
   ]
  },
  {
   "cell_type": "code",
   "execution_count": null,
   "id": "75eb058e",
   "metadata": {},
   "outputs": [],
   "source": []
  },
  {
   "cell_type": "code",
   "execution_count": null,
   "id": "5f281456",
   "metadata": {},
   "outputs": [],
   "source": []
  }
 ],
 "metadata": {
  "kernelspec": {
   "display_name": "Python 3 (ipykernel)",
   "language": "python",
   "name": "python3"
  },
  "language_info": {
   "codemirror_mode": {
    "name": "ipython",
    "version": 3
   },
   "file_extension": ".py",
   "mimetype": "text/x-python",
   "name": "python",
   "nbconvert_exporter": "python",
   "pygments_lexer": "ipython3",
   "version": "3.9.12"
  }
 },
 "nbformat": 4,
 "nbformat_minor": 5
}
