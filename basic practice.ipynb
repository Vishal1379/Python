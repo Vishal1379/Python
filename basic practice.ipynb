{
 "cells": [
  {
   "cell_type": "code",
   "execution_count": 106,
   "id": "2a71994a",
   "metadata": {},
   "outputs": [
    {
     "name": "stdout",
     "output_type": "stream",
     "text": [
      "enter the value : vishal\\\n",
      "enter the amount : thorat\n"
     ]
    },
    {
     "data": {
      "text/plain": [
       "'vishal\\\\thorat'"
      ]
     },
     "execution_count": 106,
     "metadata": {},
     "output_type": "execute_result"
    }
   ],
   "source": [
    "v=input(\"enter the value : \")\n",
    "t=input(\"enter the amount : \")\n",
    "v+ t"
   ]
  },
  {
   "cell_type": "code",
   "execution_count": 81,
   "id": "ffbb7fa6",
   "metadata": {},
   "outputs": [
    {
     "name": "stdout",
     "output_type": "stream",
     "text": [
      "  + + + + + + + + +\n",
      "   + + + + + + + +\n",
      "    + + + + + + +\n",
      "     + + + + + +\n",
      "      + + + + +\n",
      "       + + + +\n",
      "        + + +\n",
      "         + +\n",
      "          +\n"
     ]
    }
   ],
   "source": [
    "v=9\n",
    "for i in range(0,v):\n",
    "    for j in range(i+1):\n",
    "        print(\" \",end=\"\")\n",
    "    for j in range (v-i):\n",
    "        print(\" +\",end=\"\")\n",
    "    print()"
   ]
  },
  {
   "cell_type": "code",
   "execution_count": null,
   "id": "03f26848",
   "metadata": {},
   "outputs": [],
   "source": []
  },
  {
   "cell_type": "code",
   "execution_count": 25,
   "id": "c81fa847",
   "metadata": {},
   "outputs": [
    {
     "name": "stdout",
     "output_type": "stream",
     "text": [
      "         + \n",
      "        + + \n",
      "       + + + \n",
      "      + + + + \n",
      "     + + + + + \n",
      "    + + + + + + \n",
      "   + + + + + + + \n",
      "  + + + + + + + + \n",
      " + + + + + + + + + \n"
     ]
    }
   ],
   "source": [
    "n=9\n",
    "i=0\n",
    "\n",
    "while i < n:\n",
    "    print(\" \"*(n-i) + \"+ \"*(i+1))\n",
    "    i+=1"
   ]
  },
  {
   "cell_type": "code",
   "execution_count": null,
   "id": "2a135f42",
   "metadata": {},
   "outputs": [],
   "source": []
  },
  {
   "cell_type": "markdown",
   "id": "355e29f8",
   "metadata": {},
   "source": [
    "1.Write a program to demonstrate different number data types in Python."
   ]
  },
  {
   "cell_type": "code",
   "execution_count": 27,
   "id": "0c6e1cfc",
   "metadata": {},
   "outputs": [
    {
     "name": "stdout",
     "output_type": "stream",
     "text": [
      "a is type of  <class 'str'>\n",
      "b is type of  <class 'int'>\n",
      "c is type of  <class 'float'>\n",
      "d is type of  <class 'bool'>\n"
     ]
    }
   ],
   "source": [
    "a=\"vishal\"\n",
    "b=71\n",
    "c=12.97\n",
    "d=True\n",
    "\n",
    "print(\"a is type of \",type(a))\n",
    "print(\"b is type of \",type(b))\n",
    "print(\"c is type of \",type(c))\n",
    "print(\"d is type of \",type(d))"
   ]
  },
  {
   "cell_type": "code",
   "execution_count": null,
   "id": "c059e463",
   "metadata": {},
   "outputs": [],
   "source": []
  },
  {
   "cell_type": "markdown",
   "id": "f763b7c4",
   "metadata": {},
   "source": [
    "2. Write a program to perform different Arithmetic Operations on numbers in Python."
   ]
  },
  {
   "cell_type": "code",
   "execution_count": 32,
   "id": "372f15ab",
   "metadata": {},
   "outputs": [
    {
     "name": "stdout",
     "output_type": "stream",
     "text": [
      "enter a value : 3\n",
      "enter a value : 2\n",
      "addition 5\n",
      "substraction 1\n",
      "multiplication 6\n",
      "division 1.5\n",
      "remainder 1\n",
      "exponent 9\n",
      "flot divison 1\n"
     ]
    }
   ],
   "source": [
    "a=int(input(\"enter a value : \"))\n",
    "b=int(input(\"enter a value : \"))\n",
    "\n",
    "print(\"addition\", a+b)\n",
    "print(\"substraction\", a-b)\n",
    "print(\"multiplication\", a*b)\n",
    "print(\"division\", a/b)\n",
    "print(\"remainder\",a%b)\n",
    "print(\"exponent\", a**b)\n",
    "print(\"flot divison\", a//b)"
   ]
  },
  {
   "cell_type": "code",
   "execution_count": null,
   "id": "235102e6",
   "metadata": {},
   "outputs": [],
   "source": []
  },
  {
   "cell_type": "markdown",
   "id": "ac3f3458",
   "metadata": {},
   "source": [
    "3. Write a program to create, concatenate and print a string and accessing sub-string from a given string."
   ]
  },
  {
   "cell_type": "code",
   "execution_count": 34,
   "id": "94cfe5ed",
   "metadata": {},
   "outputs": [
    {
     "name": "stdout",
     "output_type": "stream",
     "text": [
      "first string is: vishal \n",
      "secound string is: thorat\n",
      "concatination of string--> vishal thorat\n",
      "substring of the given string--> isha\n"
     ]
    }
   ],
   "source": [
    "v1 = input(\"first string is: \")\n",
    "v2 = input(\"secound string is: \")\n",
    "\n",
    "print(\"concatination of string-->\", v1+v2)\n",
    "print(\"substring of the given string-->\",v1[1:5])"
   ]
  },
  {
   "cell_type": "code",
   "execution_count": null,
   "id": "a3cbf809",
   "metadata": {},
   "outputs": [],
   "source": []
  },
  {
   "cell_type": "markdown",
   "id": "d505e3bd",
   "metadata": {},
   "source": [
    "4. Write a python script to print the current date in the following format “Sun May 29 02:26:23 IST 2017”"
   ]
  },
  {
   "cell_type": "code",
   "execution_count": 37,
   "id": "bacb969e",
   "metadata": {},
   "outputs": [
    {
     "name": "stdout",
     "output_type": "stream",
     "text": [
      "Tue Aug 02 15 56 57 India Standard Time 2022\n"
     ]
    }
   ],
   "source": [
    "import time\n",
    "ltime=time.localtime()\n",
    "print(time.strftime(\"%a %b %d %H %M %S %Z %Y\",ltime))\n",
    "\n",
    "\n",
    "# %a = abbrivated weekday name \n",
    "# %b = abbrivated month name \n",
    "# %d = day of the month\n",
    "# %H = Hour (24 hour clock)\n",
    "# %M = minute\n",
    "# S = sec\n",
    "# %Z = Time zwone name \n",
    "# %Y = Year"
   ]
  },
  {
   "cell_type": "code",
   "execution_count": null,
   "id": "0cd1d617",
   "metadata": {},
   "outputs": [],
   "source": []
  },
  {
   "cell_type": "markdown",
   "id": "2126d7e6",
   "metadata": {},
   "source": [
    "5. Write a program to create, append, and remove lists in python. "
   ]
  },
  {
   "cell_type": "code",
   "execution_count": 44,
   "id": "147b0f8a",
   "metadata": {},
   "outputs": [
    {
     "name": "stdout",
     "output_type": "stream",
     "text": [
      "[1, 2, 3, 'vishal', 'thorat']\n",
      "[1, 2, 3, 'vishal', 'thorat', 4, 5, 6]\n",
      "['v', 'i', 'h', 'a', 'l']\n"
     ]
    }
   ],
   "source": [
    "vish=[1,2,3,\"vishal\"]\n",
    "\n",
    "#append\n",
    "vish.append(\"thorat\")\n",
    "print(vish)\n",
    "\n",
    "#extend operation take only one argument\n",
    "vish.extend([4,5,6])\n",
    "print(vish)\n",
    "\n",
    "\n",
    "#deleting 3rd string \n",
    "my_list= ['v','i','s','h','a','l']\n",
    "del my_list[2]\n",
    "print(my_list)"
   ]
  },
  {
   "cell_type": "code",
   "execution_count": null,
   "id": "f9efc4d6",
   "metadata": {},
   "outputs": [],
   "source": []
  },
  {
   "cell_type": "markdown",
   "id": "730e4e60",
   "metadata": {},
   "source": [
    "6. Write a program to demonstrate working with tuples in python."
   ]
  },
  {
   "cell_type": "code",
   "execution_count": 47,
   "id": "a3094fbc",
   "metadata": {},
   "outputs": [
    {
     "name": "stdout",
     "output_type": "stream",
     "text": [
      "(1, 2, 3.4, 'vishal', ['thorat', 5])\n",
      "1\n",
      "2\n",
      "3\n",
      "vishal\n"
     ]
    }
   ],
   "source": [
    "#diff type of touple\n",
    "\n",
    "#mixed data type touple\n",
    "my_tuple = (1,2,3.4,\"vishal\",[\"thorat\",5])\n",
    "print (my_tuple)\n",
    "\n",
    "#Touple unpacking \n",
    "tuple1=(1,2,3,\"vishal\")\n",
    "a,b,c,d = tuple1\n",
    "print(a)\n",
    "print(b)\n",
    "print(c)\n",
    "print(d)"
   ]
  },
  {
   "cell_type": "code",
   "execution_count": null,
   "id": "bdf2b7d7",
   "metadata": {},
   "outputs": [],
   "source": []
  },
  {
   "cell_type": "markdown",
   "id": "2053a33d",
   "metadata": {},
   "source": [
    "7. Write a program to demonstrate working with dictionaries in python"
   ]
  },
  {
   "cell_type": "code",
   "execution_count": 67,
   "id": "47ef59dc",
   "metadata": {},
   "outputs": [
    {
     "name": "stdout",
     "output_type": "stream",
     "text": [
      "{1: 'vishal', 2: 'thorat', 3: 1234, 'vishal': True}\n",
      "{1: 'vishal', 2: 'thorat'}\n",
      "vishal\n",
      "thorat\n"
     ]
    }
   ],
   "source": [
    "#dict with mixed keys\n",
    "dict1={1:\"vishal\",2:\"thorat\",3:1234,\"vishal\":True}\n",
    "print(dict1)\n",
    "\n",
    "dict2=dict([(1,\"vishal\"),(2,\"thorat\")])\n",
    "print(dict2)\n",
    "\n",
    "dict3={\"name\":\"vishal\",\"surename\":\"thorat\",\"age\":23}\n",
    "\n",
    "print(dict3[\"name\"])\n",
    "\n",
    "print(dict3.get(\"surename\"))"
   ]
  },
  {
   "cell_type": "code",
   "execution_count": null,
   "id": "16342600",
   "metadata": {},
   "outputs": [],
   "source": []
  },
  {
   "cell_type": "markdown",
   "id": "776631be",
   "metadata": {},
   "source": [
    "8. Write a python program to find largest of three numbers. "
   ]
  },
  {
   "cell_type": "code",
   "execution_count": 69,
   "id": "762a4b34",
   "metadata": {},
   "outputs": [
    {
     "name": "stdout",
     "output_type": "stream",
     "text": [
      "The largest number is:  15\n"
     ]
    }
   ],
   "source": [
    "num1=10\n",
    "num2=15\n",
    "num3=12\n",
    "\n",
    "if num1 >= num2 and num1 >= num3:\n",
    "    largest = num1\n",
    "    \n",
    "elif num2 >= num1 and num2 >= num3:\n",
    "    largest = num2\n",
    "    \n",
    "else:\n",
    "    largest = num3\n",
    "    \n",
    "print(\"The largest number is: \",largest)"
   ]
  },
  {
   "cell_type": "code",
   "execution_count": null,
   "id": "3f4e96af",
   "metadata": {},
   "outputs": [],
   "source": []
  },
  {
   "cell_type": "markdown",
   "id": "078381c8",
   "metadata": {},
   "source": [
    "9. Write a Python program to convert temperatures to and from Celsius, Fahrenheit. [ Formula: c = (f-32)(5/9)]"
   ]
  },
  {
   "cell_type": "code",
   "execution_count": 77,
   "id": "a5149725",
   "metadata": {},
   "outputs": [
    {
     "name": "stdout",
     "output_type": "stream",
     "text": [
      "enter temp : 38\n",
      "enter unit('c' is for celcius and 'f' is for fahreheit) : C\n",
      "temp in fahreheit is : 100.4\n"
     ]
    }
   ],
   "source": [
    "temp = float(input(\"enter temp : \"))\n",
    "unit = input(\"enter unit('c' is for celcius and 'f' is for fahreheit) : \")\n",
    "\n",
    "if unit == 'C' or unit == 'c':\n",
    "    newTemp = 9/5*temp+32\n",
    "    print(\"temp in fahreheit is :\", newTemp)\n",
    "\n",
    "elif unit == 'F' or unit == 'f':\n",
    "    newTemp = 5/9*temp-32\n",
    "    print(\"temp in celcious is : \",newTemp)\n",
    "\n",
    "else:\n",
    "    print(\"unkown unit\",unit)"
   ]
  },
  {
   "cell_type": "code",
   "execution_count": null,
   "id": "e2a41e05",
   "metadata": {},
   "outputs": [],
   "source": []
  },
  {
   "cell_type": "markdown",
   "id": "ee1dea0c",
   "metadata": {},
   "source": [
    "10. Write a Python program to construct the following pattern, using a nested for loop "
   ]
  },
  {
   "cell_type": "code",
   "execution_count": 96,
   "id": "796e11af",
   "metadata": {
    "scrolled": true
   },
   "outputs": [
    {
     "name": "stdout",
     "output_type": "stream",
     "text": [
      "*\n",
      "**\n",
      "***\n",
      "****\n",
      "*****\n",
      "****\n",
      "***\n",
      "**\n",
      "*\n"
     ]
    }
   ],
   "source": [
    "n = 5\n",
    "for i in range(0,n):\n",
    "    for j in range(i+1):\n",
    "        print(\"*\",end=\"\")\n",
    "    print()\n",
    "    \n",
    "for i in range(1,n):\n",
    "    for j in range(n-i):\n",
    "        print(\"*\",end=\"\")\n",
    "    print()\n",
    "        "
   ]
  },
  {
   "cell_type": "code",
   "execution_count": null,
   "id": "77e034d1",
   "metadata": {},
   "outputs": [],
   "source": []
  },
  {
   "cell_type": "markdown",
   "id": "3f85808c",
   "metadata": {},
   "source": [
    "11. Write a Python script that prints prime numbers less than 20."
   ]
  },
  {
   "cell_type": "code",
   "execution_count": 101,
   "id": "f5c4afa8",
   "metadata": {},
   "outputs": [
    {
     "name": "stdout",
     "output_type": "stream",
     "text": [
      "enter the lower number0\n",
      "enter the upper number10\n",
      "2\n",
      "3\n",
      "5\n",
      "7\n"
     ]
    }
   ],
   "source": [
    "lower = int(input(\"enter the lower number\"))\n",
    "upper = int(input(\"enter the upper number\"))\n",
    "\n",
    "for num in range(lower,upper+1):\n",
    "    if num > 1:\n",
    "        for i in range(2,num):\n",
    "            if(num%i)==0:\n",
    "                break\n",
    "                \n",
    "        else:\n",
    "            print(num)\n",
    "        "
   ]
  },
  {
   "cell_type": "code",
   "execution_count": null,
   "id": "216b7d7b",
   "metadata": {},
   "outputs": [],
   "source": []
  },
  {
   "cell_type": "markdown",
   "id": "898ebec4",
   "metadata": {},
   "source": [
    "12. Write a python program to find factorial of a number using Recursion. "
   ]
  },
  {
   "cell_type": "code",
   "execution_count": 121,
   "id": "ecd9f77f",
   "metadata": {},
   "outputs": [
    {
     "name": "stdout",
     "output_type": "stream",
     "text": [
      "enter the number: 7\n",
      "the factorial of:  7  is  5040\n"
     ]
    }
   ],
   "source": [
    "def recur_factorial(n):\n",
    "    if n == 1:\n",
    "        return n\n",
    "    else:\n",
    "        return n*recur_factorial(n-1)\n",
    "\n",
    "num=int(input(\"enter the number: \"))\n",
    "\n",
    "if num < 0:\n",
    "    print(\"sorry, factorial does not exiest for negative number\")\n",
    "elif num == 0:\n",
    "    print(\"The factorial of 0 is 1\")\n",
    "else:\n",
    "    print(\"the factorial of: \",num ,\" is \",recur_factorial(num))"
   ]
  },
  {
   "cell_type": "code",
   "execution_count": null,
   "id": "d31c68c4",
   "metadata": {},
   "outputs": [],
   "source": []
  },
  {
   "cell_type": "markdown",
   "id": "30bd2ef5",
   "metadata": {},
   "source": [
    "13. Write a program that accepts the lengths of three sides of a triangle as inputs. The program output should indicate whether or not the triangle is a right triangle (Recall from the Pythagorean Theorem that in a right triangle, the square of one side equals the sum of the squares of the other two sides). "
   ]
  },
  {
   "cell_type": "code",
   "execution_count": 126,
   "id": "63b613ba",
   "metadata": {},
   "outputs": [
    {
     "name": "stdout",
     "output_type": "stream",
     "text": [
      "enter lenght of base: 3\n",
      "enter lenght of perpendicular: 4\n",
      "enter lenght of hypotheus: 5\n",
      "It's a right angle traingle\n"
     ]
    }
   ],
   "source": [
    "base = float(input(\"enter lenght of base: \"))\n",
    "perp = float(input(\"enter lenght of perpendicular: \"))\n",
    "hypo = float(input(\"enter lenght of hypotheus: \"))\n",
    "\n",
    "if hypo**2 == ((base**2)+(perp**2)):\n",
    "    print(\"It's a right angle traingle\")\n",
    "\n",
    "else:\n",
    "    print(\"It's not a right angle traingle\")"
   ]
  },
  {
   "cell_type": "code",
   "execution_count": null,
   "id": "1305eea1",
   "metadata": {},
   "outputs": [],
   "source": []
  },
  {
   "cell_type": "code",
   "execution_count": null,
   "id": "d11b5a2c",
   "metadata": {},
   "outputs": [],
   "source": []
  }
 ],
 "metadata": {
  "kernelspec": {
   "display_name": "Python 3 (ipykernel)",
   "language": "python",
   "name": "python3"
  },
  "language_info": {
   "codemirror_mode": {
    "name": "ipython",
    "version": 3
   },
   "file_extension": ".py",
   "mimetype": "text/x-python",
   "name": "python",
   "nbconvert_exporter": "python",
   "pygments_lexer": "ipython3",
   "version": "3.9.12"
  }
 },
 "nbformat": 4,
 "nbformat_minor": 5
}
