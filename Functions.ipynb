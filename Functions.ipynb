{
 "cells": [
  {
   "cell_type": "code",
   "execution_count": 1,
   "id": "ffc69208",
   "metadata": {},
   "outputs": [],
   "source": [
    "def is_prime(num):\n",
    "    \n",
    "    for n in range(2,num):\n",
    "        if num % n ==0:\n",
    "            print('not prime')\n",
    "            break\n",
    "        \n",
    "    else:\n",
    "        print('prime')"
   ]
  },
  {
   "cell_type": "code",
   "execution_count": 8,
   "id": "bc022acf",
   "metadata": {},
   "outputs": [
    {
     "name": "stdout",
     "output_type": "stream",
     "text": [
      "prime\n"
     ]
    }
   ],
   "source": [
    "is_prime(101)"
   ]
  },
  {
   "cell_type": "code",
   "execution_count": null,
   "id": "a8ce2803",
   "metadata": {},
   "outputs": [],
   "source": []
  },
  {
   "cell_type": "code",
   "execution_count": 19,
   "id": "9d960974",
   "metadata": {},
   "outputs": [],
   "source": [
    "import math\n",
    "\n",
    "def is_prime1(num):\n",
    "    \n",
    "    if num % 2 == 0 and num > 2:\n",
    "        return False\n",
    "    for i in range(3, int(math.sqrt(num)) + 1, 2):\n",
    "        if num % i ==0:\n",
    "            return False\n",
    "    \n",
    "    return True"
   ]
  },
  {
   "cell_type": "code",
   "execution_count": 20,
   "id": "f2a77fdb",
   "metadata": {},
   "outputs": [
    {
     "data": {
      "text/plain": [
       "False"
      ]
     },
     "execution_count": 20,
     "metadata": {},
     "output_type": "execute_result"
    }
   ],
   "source": [
    "is_prime1(4)"
   ]
  },
  {
   "cell_type": "code",
   "execution_count": null,
   "id": "59724ce1",
   "metadata": {},
   "outputs": [],
   "source": []
  },
  {
   "cell_type": "code",
   "execution_count": 22,
   "id": "e6dea9c8",
   "metadata": {},
   "outputs": [
    {
     "name": "stdout",
     "output_type": "stream",
     "text": [
      "v\n",
      "i\n",
      "s\n",
      "h\n"
     ]
    }
   ],
   "source": [
    "for i in \"vish\":\n",
    "    print (i)"
   ]
  },
  {
   "cell_type": "code",
   "execution_count": null,
   "id": "e5de1b5b",
   "metadata": {},
   "outputs": [],
   "source": []
  },
  {
   "cell_type": "code",
   "execution_count": 24,
   "id": "b459525c",
   "metadata": {},
   "outputs": [],
   "source": [
    "d= iter(\"vishal\")"
   ]
  },
  {
   "cell_type": "code",
   "execution_count": 27,
   "id": "f9d56558",
   "metadata": {},
   "outputs": [
    {
     "data": {
      "text/plain": [
       "'s'"
      ]
     },
     "execution_count": 27,
     "metadata": {},
     "output_type": "execute_result"
    }
   ],
   "source": [
    "next(d)"
   ]
  },
  {
   "cell_type": "code",
   "execution_count": null,
   "id": "2d0bea5a",
   "metadata": {},
   "outputs": [],
   "source": []
  },
  {
   "cell_type": "code",
   "execution_count": 29,
   "id": "3f945e88",
   "metadata": {},
   "outputs": [],
   "source": [
    "#Generate function for the cube of the number\n",
    "def gencubes(n):\n",
    "    for num in range(n):\n",
    "        yield num ** 3"
   ]
  },
  {
   "cell_type": "code",
   "execution_count": 42,
   "id": "028e875d",
   "metadata": {},
   "outputs": [],
   "source": [
    "a = iter(gencubes(7))"
   ]
  },
  {
   "cell_type": "code",
   "execution_count": 44,
   "id": "82cd04e3",
   "metadata": {},
   "outputs": [
    {
     "data": {
      "text/plain": [
       "1"
      ]
     },
     "execution_count": 44,
     "metadata": {},
     "output_type": "execute_result"
    }
   ],
   "source": [
    "next(a)"
   ]
  },
  {
   "cell_type": "code",
   "execution_count": null,
   "id": "66d54b4b",
   "metadata": {},
   "outputs": [],
   "source": []
  },
  {
   "cell_type": "code",
   "execution_count": 45,
   "id": "dbd6ad96",
   "metadata": {},
   "outputs": [
    {
     "name": "stdout",
     "output_type": "stream",
     "text": [
      "0\n",
      "1\n",
      "8\n",
      "27\n",
      "64\n",
      "125\n"
     ]
    }
   ],
   "source": [
    "for i in gencubes(6):\n",
    "    print(i)"
   ]
  },
  {
   "cell_type": "code",
   "execution_count": null,
   "id": "d8254d5c",
   "metadata": {},
   "outputs": [],
   "source": []
  },
  {
   "cell_type": "code",
   "execution_count": 71,
   "id": "5bafcb46",
   "metadata": {},
   "outputs": [],
   "source": [
    "#Generate function for the cube of the number\n",
    "def gensquares(n):\n",
    "    for num in range(n):\n",
    "        yield num ** 2"
   ]
  },
  {
   "cell_type": "code",
   "execution_count": 158,
   "id": "d3847771",
   "metadata": {},
   "outputs": [],
   "source": [
    "b = iter(gensquares(7))"
   ]
  },
  {
   "cell_type": "code",
   "execution_count": null,
   "id": "a74da149",
   "metadata": {},
   "outputs": [],
   "source": []
  },
  {
   "cell_type": "code",
   "execution_count": 73,
   "id": "c740f51f",
   "metadata": {},
   "outputs": [
    {
     "name": "stdout",
     "output_type": "stream",
     "text": [
      "0\n",
      "1\n",
      "4\n",
      "9\n",
      "16\n",
      "25\n",
      "36\n"
     ]
    }
   ],
   "source": [
    "for i in gensquares(7):\n",
    "    print(i)"
   ]
  },
  {
   "cell_type": "code",
   "execution_count": null,
   "id": "db812d27",
   "metadata": {},
   "outputs": [],
   "source": []
  },
  {
   "cell_type": "code",
   "execution_count": 74,
   "id": "418c3c87",
   "metadata": {},
   "outputs": [],
   "source": [
    "#generate a fibonacci sequence \n",
    "\n",
    "def genfibon(n):\n",
    "    a=1\n",
    "    b=1\n",
    "    for i in range(n):\n",
    "        yield a \n",
    "        a,b = b, a+b"
   ]
  },
  {
   "cell_type": "code",
   "execution_count": 81,
   "id": "f255ad20",
   "metadata": {},
   "outputs": [
    {
     "name": "stdout",
     "output_type": "stream",
     "text": [
      "1\n",
      "1\n",
      "2\n",
      "3\n",
      "5\n",
      "8\n",
      "13\n",
      "21\n",
      "34\n",
      "55\n"
     ]
    }
   ],
   "source": [
    "for i in genfibon(10):\n",
    "    print(i)"
   ]
  },
  {
   "cell_type": "code",
   "execution_count": null,
   "id": "d89606ca",
   "metadata": {},
   "outputs": [],
   "source": []
  },
  {
   "cell_type": "code",
   "execution_count": 97,
   "id": "fd4a1be2",
   "metadata": {},
   "outputs": [],
   "source": [
    "def fibon(n):\n",
    "    a=1\n",
    "    b=1\n",
    "    output=[]\n",
    "    \n",
    "    for i in range(n):\n",
    "        output.append(a)\n",
    "        a,b=b,a+b\n",
    "    \n",
    "    print(output)"
   ]
  },
  {
   "cell_type": "code",
   "execution_count": 98,
   "id": "47cad6f3",
   "metadata": {},
   "outputs": [
    {
     "name": "stdout",
     "output_type": "stream",
     "text": [
      "[1, 1, 2, 3, 5, 8, 13, 21, 34, 55]\n"
     ]
    }
   ],
   "source": [
    "fibon(10)"
   ]
  },
  {
   "cell_type": "code",
   "execution_count": null,
   "id": "a22de1fb",
   "metadata": {},
   "outputs": [],
   "source": []
  },
  {
   "cell_type": "code",
   "execution_count": 102,
   "id": "2242bf84",
   "metadata": {},
   "outputs": [],
   "source": [
    "def fahrenheit(T):\n",
    "    return(float(9)/5*T +32)\n",
    "def celsius(T):\n",
    "    return(float(5)/9)*(T-32)\n",
    "\n",
    "temp = [0,22.5, 40,100]"
   ]
  },
  {
   "cell_type": "code",
   "execution_count": 104,
   "id": "dfd86817",
   "metadata": {},
   "outputs": [],
   "source": [
    "a=[]\n",
    "for i in temp:\n",
    "    a.append(fahrenheit(i))"
   ]
  },
  {
   "cell_type": "code",
   "execution_count": 105,
   "id": "47a2fc88",
   "metadata": {},
   "outputs": [
    {
     "data": {
      "text/plain": [
       "[32.0, 72.5, 104.0, 212.0]"
      ]
     },
     "execution_count": 105,
     "metadata": {},
     "output_type": "execute_result"
    }
   ],
   "source": [
    "a"
   ]
  },
  {
   "cell_type": "code",
   "execution_count": null,
   "id": "7851815e",
   "metadata": {},
   "outputs": [],
   "source": []
  },
  {
   "cell_type": "code",
   "execution_count": 116,
   "id": "5adcdc78",
   "metadata": {},
   "outputs": [
    {
     "data": {
      "text/plain": [
       "[32.0, 72.5, 104.0, 212.0]"
      ]
     },
     "execution_count": 116,
     "metadata": {},
     "output_type": "execute_result"
    }
   ],
   "source": [
    "F_temps = list(map(fahrenheit, temp))\n",
    "\n",
    "F_temps"
   ]
  },
  {
   "cell_type": "code",
   "execution_count": 159,
   "id": "cba94a7e",
   "metadata": {},
   "outputs": [
    {
     "data": {
      "text/plain": [
       "(0.0, 22.5, 40.0, 100.0)"
      ]
     },
     "execution_count": 159,
     "metadata": {},
     "output_type": "execute_result"
    }
   ],
   "source": [
    "tuple(map(celsius,F_temps))"
   ]
  },
  {
   "cell_type": "code",
   "execution_count": null,
   "id": "c83dbc5f",
   "metadata": {},
   "outputs": [],
   "source": []
  },
  {
   "cell_type": "code",
   "execution_count": 118,
   "id": "313e75c5",
   "metadata": {},
   "outputs": [],
   "source": [
    "l = ['vishal', 'thorat']\n",
    "k=[]\n",
    "for i in l:\n",
    "    k.append(i.upper())"
   ]
  },
  {
   "cell_type": "code",
   "execution_count": 119,
   "id": "eb9bebc2",
   "metadata": {},
   "outputs": [
    {
     "data": {
      "text/plain": [
       "['VISHAL', 'THORAT']"
      ]
     },
     "execution_count": 119,
     "metadata": {},
     "output_type": "execute_result"
    }
   ],
   "source": [
    "k"
   ]
  },
  {
   "cell_type": "code",
   "execution_count": null,
   "id": "a7267198",
   "metadata": {},
   "outputs": [],
   "source": []
  },
  {
   "cell_type": "code",
   "execution_count": 120,
   "id": "123c1bdb",
   "metadata": {},
   "outputs": [],
   "source": [
    "def convert(n):\n",
    "    return n.upper()"
   ]
  },
  {
   "cell_type": "code",
   "execution_count": 122,
   "id": "f42a5d53",
   "metadata": {},
   "outputs": [
    {
     "data": {
      "text/plain": [
       "('VISHAL', 'THORAT')"
      ]
     },
     "execution_count": 122,
     "metadata": {},
     "output_type": "execute_result"
    }
   ],
   "source": [
    "tuple(map(convert,k))"
   ]
  },
  {
   "cell_type": "code",
   "execution_count": null,
   "id": "2203df5b",
   "metadata": {},
   "outputs": [],
   "source": []
  },
  {
   "cell_type": "code",
   "execution_count": 124,
   "id": "e1d4abe9",
   "metadata": {},
   "outputs": [
    {
     "data": {
      "text/plain": [
       "['VISHAL', 'THORAT']"
      ]
     },
     "execution_count": 124,
     "metadata": {},
     "output_type": "execute_result"
    }
   ],
   "source": [
    "#lambda\n",
    "list(map(lambda x:x.upper(),l))"
   ]
  },
  {
   "cell_type": "code",
   "execution_count": 126,
   "id": "965d6965",
   "metadata": {},
   "outputs": [
    {
     "data": {
      "text/plain": [
       "(9, 11, 12, 11, 8)"
      ]
     },
     "execution_count": 126,
     "metadata": {},
     "output_type": "execute_result"
    }
   ],
   "source": [
    "a=[2,3,4,5,6]\n",
    "b=[7,8,8,6,2]\n",
    "\n",
    "tuple(map(lambda x,y:x+y,a,b))"
   ]
  },
  {
   "cell_type": "code",
   "execution_count": 131,
   "id": "3002aa3c",
   "metadata": {},
   "outputs": [
    {
     "data": {
      "text/plain": [
       "402"
      ]
     },
     "execution_count": 131,
     "metadata": {},
     "output_type": "execute_result"
    }
   ],
   "source": [
    "from functools import reduce\n",
    "lst=[34,45,67,69,89,98]\n",
    "reduce(lambda x,y:x+y,lst)"
   ]
  },
  {
   "cell_type": "code",
   "execution_count": null,
   "id": "e202c5d5",
   "metadata": {},
   "outputs": [],
   "source": []
  },
  {
   "cell_type": "code",
   "execution_count": 144,
   "id": "8094384b",
   "metadata": {},
   "outputs": [
    {
     "data": {
      "text/plain": [
       "IPython.core.display.Image"
      ]
     },
     "execution_count": 144,
     "metadata": {},
     "output_type": "execute_result"
    }
   ],
   "source": [
    "from IPython.display import Image\n",
    "Image"
   ]
  },
  {
   "cell_type": "code",
   "execution_count": null,
   "id": "61ece46c",
   "metadata": {},
   "outputs": [],
   "source": []
  },
  {
   "cell_type": "code",
   "execution_count": 139,
   "id": "607d27fb",
   "metadata": {},
   "outputs": [],
   "source": [
    "lst=[23,45,67,62,34,45,87]\n",
    "max_find = lambda a,b: a if (a>b) else b"
   ]
  },
  {
   "cell_type": "code",
   "execution_count": 140,
   "id": "7ff83b56",
   "metadata": {},
   "outputs": [
    {
     "data": {
      "text/plain": [
       "87"
      ]
     },
     "execution_count": 140,
     "metadata": {},
     "output_type": "execute_result"
    }
   ],
   "source": [
    "reduce(max_find,lst)"
   ]
  },
  {
   "cell_type": "code",
   "execution_count": null,
   "id": "5d188f41",
   "metadata": {},
   "outputs": [],
   "source": []
  },
  {
   "cell_type": "code",
   "execution_count": 151,
   "id": "bd142113",
   "metadata": {},
   "outputs": [],
   "source": [
    "def even_check(num):\n",
    "    if num%2 == 0:\n",
    "        return True"
   ]
  },
  {
   "cell_type": "code",
   "execution_count": 152,
   "id": "50a22d67",
   "metadata": {},
   "outputs": [
    {
     "data": {
      "text/plain": [
       "[0, 2, 4, 6, 8, 10, 12, 14, 16, 18]"
      ]
     },
     "execution_count": 152,
     "metadata": {},
     "output_type": "execute_result"
    }
   ],
   "source": [
    "lst = range(20)\n",
    "\n",
    "list(filter(even_check,lst))"
   ]
  },
  {
   "cell_type": "code",
   "execution_count": null,
   "id": "0352c3cf",
   "metadata": {},
   "outputs": [],
   "source": []
  },
  {
   "cell_type": "code",
   "execution_count": 155,
   "id": "37ccb921",
   "metadata": {},
   "outputs": [],
   "source": [
    "def odd_check(num):\n",
    "    if num%2 ==1:\n",
    "        return True"
   ]
  },
  {
   "cell_type": "code",
   "execution_count": 157,
   "id": "17439acf",
   "metadata": {},
   "outputs": [
    {
     "data": {
      "text/plain": [
       "(1, 3, 5, 7, 9, 11, 13, 15, 17, 19)"
      ]
     },
     "execution_count": 157,
     "metadata": {},
     "output_type": "execute_result"
    }
   ],
   "source": [
    "v = range(20)\n",
    "\n",
    "tuple(filter(odd_check,v))"
   ]
  },
  {
   "cell_type": "code",
   "execution_count": null,
   "id": "e654902c",
   "metadata": {},
   "outputs": [],
   "source": []
  }
 ],
 "metadata": {
  "kernelspec": {
   "display_name": "Python 3 (ipykernel)",
   "language": "python",
   "name": "python3"
  },
  "language_info": {
   "codemirror_mode": {
    "name": "ipython",
    "version": 3
   },
   "file_extension": ".py",
   "mimetype": "text/x-python",
   "name": "python",
   "nbconvert_exporter": "python",
   "pygments_lexer": "ipython3",
   "version": "3.9.12"
  }
 },
 "nbformat": 4,
 "nbformat_minor": 5
}
