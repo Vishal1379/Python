{
 "cells": [
  {
   "cell_type": "markdown",
   "id": "c95eeb90",
   "metadata": {},
   "source": [
    "# class"
   ]
  },
  {
   "cell_type": "code",
   "execution_count": 33,
   "id": "4b6ab356",
   "metadata": {},
   "outputs": [
    {
     "name": "stdout",
     "output_type": "stream",
     "text": [
      "<__main__.person object at 0x0000021C67C073A0>\n",
      "vishal thorat was boin in 1999.\n"
     ]
    }
   ],
   "source": [
    "class person:\n",
    "    pass\n",
    "\n",
    "vish = person()\n",
    "vish.name = 'vishal'\n",
    "vish.surname = 'thorat'\n",
    "vish.year_of_birth = 1999\n",
    "\n",
    "print(vish)\n",
    "print(\"%s %s was boin in %d.\"% (vish.name,vish.surname,vish.year_of_birth))"
   ]
  },
  {
   "cell_type": "code",
   "execution_count": 34,
   "id": "95340651",
   "metadata": {},
   "outputs": [
    {
     "name": "stdout",
     "output_type": "stream",
     "text": [
      "dharmendra bhosale\n",
      "vishal thorat\n"
     ]
    }
   ],
   "source": [
    "class person:\n",
    "    def __init__(self, name, surname, year_of_birth):\n",
    "        self.name1 = name\n",
    "        self.surname1 = surname\n",
    "        self.year_of_birth1 = year_of_birth\n",
    "        \n",
    "vish = person(\"vishal\",\"thorat\",1999)\n",
    "shubh = person(\"shubhangi\",\"dorle\",1999)\n",
    "dharma = person(\"dharmendra\",\"bhosale\",1997)\n",
    "\n",
    "print(dharma.name1,dharma.surname1)\n",
    "print(vish.name1,vish.surname1)"
   ]
  },
  {
   "cell_type": "code",
   "execution_count": 35,
   "id": "f8d62186",
   "metadata": {},
   "outputs": [
    {
     "name": "stdout",
     "output_type": "stream",
     "text": [
      "vishal thorat and was born 1999\n",
      "vishal thorat\n",
      "23\n",
      "dict_keys(['name1', 'surname1', 'year_of_birth1'])\n"
     ]
    }
   ],
   "source": [
    "class person:\n",
    "    def __init__(self, name, surname, year_of_birth):\n",
    "        self.name1 = name\n",
    "        self.surname1 = surname\n",
    "        self.year_of_birth1 = year_of_birth\n",
    "        \n",
    "    def age(self,current_year):\n",
    "        return current_year - self.year_of_birth1\n",
    "    \n",
    "    def __str__(self):\n",
    "        return \"%s %s and was born %d\" \\\n",
    "    %(self.name1,self.surname1,self.year_of_birth1)\n",
    "    \n",
    "vish = person(\"vishal\",\"thorat\",1999)\n",
    "\n",
    "print(vish)\n",
    "print(vish.name1,vish.surname1)\n",
    "print(vish.age(2022))\n",
    "print(vish.__dict__.keys())"
   ]
  },
  {
   "cell_type": "code",
   "execution_count": 36,
   "id": "28d33abf",
   "metadata": {},
   "outputs": [
    {
     "name": "stdout",
     "output_type": "stream",
     "text": [
      "1999\n",
      "vishal thorat\n",
      "23\n",
      "dict_keys(['name1', 'surname1', 'year_of_birth1'])\n"
     ]
    }
   ],
   "source": [
    "class person:\n",
    "    def __init__(self, name, surname, year_of_birth):\n",
    "        self.name1 = name\n",
    "        self.surname1 = surname\n",
    "        self.year_of_birth1 = year_of_birth\n",
    "        \n",
    "    def age(self,current_year):\n",
    "        return current_year - self.year_of_birth1\n",
    "    \n",
    "    def __str__(self):\n",
    "        return str(self.year_of_birth1)\n",
    "    \n",
    "vish = person(\"vishal\",\"thorat\",1999)\n",
    "\n",
    "print(vish)\n",
    "print(vish.name1,vish.surname1)\n",
    "print(vish.age(2022))\n",
    "print(vish.__dict__.keys())"
   ]
  },
  {
   "cell_type": "code",
   "execution_count": 37,
   "id": "d6c83b17",
   "metadata": {},
   "outputs": [
    {
     "name": "stdout",
     "output_type": "stream",
     "text": [
      "dict_keys(['_person__name', '_person__surname', '_person__year_of_birth'])\n",
      "vishal\n"
     ]
    }
   ],
   "source": [
    "class person:\n",
    "    def __init__(self, name, surname, year_of_birth):\n",
    "        self.__name = name\n",
    "        self.__surname = surname\n",
    "        self.__year_of_birth = year_of_birth\n",
    "        \n",
    "    def age(self,current_year):\n",
    "        return current_year - ___year_of_birth\n",
    "    \n",
    "    def __str__(self):\n",
    "        return \"%s %s and was born %d\" \\\n",
    "    %(self.name1,self.surname1,self.year_of_birth1)\n",
    "    \n",
    "vish = person(\"vishal\",\"thorat\",1999)\n",
    "\n",
    "print(vish.__dict__.keys())\n",
    "print(vish._person__name)"
   ]
  },
  {
   "cell_type": "code",
   "execution_count": 38,
   "id": "2cc62c91",
   "metadata": {},
   "outputs": [
    {
     "data": {
      "text/plain": [
       "['__add__',\n",
       " '__class__',\n",
       " '__class_getitem__',\n",
       " '__contains__',\n",
       " '__delattr__',\n",
       " '__delitem__',\n",
       " '__dir__',\n",
       " '__doc__',\n",
       " '__eq__',\n",
       " '__format__',\n",
       " '__ge__',\n",
       " '__getattribute__',\n",
       " '__getitem__',\n",
       " '__gt__',\n",
       " '__hash__',\n",
       " '__iadd__',\n",
       " '__imul__',\n",
       " '__init__',\n",
       " '__init_subclass__',\n",
       " '__iter__',\n",
       " '__le__',\n",
       " '__len__',\n",
       " '__lt__',\n",
       " '__mul__',\n",
       " '__ne__',\n",
       " '__new__',\n",
       " '__reduce__',\n",
       " '__reduce_ex__',\n",
       " '__repr__',\n",
       " '__reversed__',\n",
       " '__rmul__',\n",
       " '__setattr__',\n",
       " '__setitem__',\n",
       " '__sizeof__',\n",
       " '__str__',\n",
       " '__subclasshook__',\n",
       " 'append',\n",
       " 'clear',\n",
       " 'copy',\n",
       " 'count',\n",
       " 'extend',\n",
       " 'index',\n",
       " 'insert',\n",
       " 'pop',\n",
       " 'remove',\n",
       " 'reverse',\n",
       " 'sort']"
      ]
     },
     "execution_count": 38,
     "metadata": {},
     "output_type": "execute_result"
    }
   ],
   "source": [
    "dir(list())"
   ]
  },
  {
   "cell_type": "markdown",
   "id": "cda0b4fa",
   "metadata": {},
   "source": [
    "# inheritance"
   ]
  },
  {
   "cell_type": "code",
   "execution_count": 44,
   "id": "4773da25",
   "metadata": {},
   "outputs": [
    {
     "name": "stdout",
     "output_type": "stream",
     "text": [
      "1\n",
      "<class '__main__.Student'>\n",
      "True\n",
      "True\n",
      "Charlie Brown and was born 2006.\n"
     ]
    }
   ],
   "source": [
    "class Student(Person):\n",
    "    def __init__(self, student_id, *args):\n",
    "        super(Student, self).__init__(*args)\n",
    "        self._student_id = student_id\n",
    "        \n",
    "charlie = Student(1, 'Charlie', 'Brown', 2006)\n",
    "print(charlie._student_id)\n",
    "print(type(charlie))\n",
    "print(isinstance(charlie, Person))\n",
    "print(isinstance(charlie, object))\n",
    "print(charlie)"
   ]
  },
  {
   "cell_type": "code",
   "execution_count": 40,
   "id": "54fee24c",
   "metadata": {},
   "outputs": [],
   "source": [
    "class Person:\n",
    "  \n",
    "    def set_name(self, name):\n",
    "        self.name = name\n",
    "        \n",
    "    def set_surname(self, surname):\n",
    "        self.surname = surname\n",
    "        \n",
    "    def set_year_of_birth(self, year_of_birth):\n",
    "        self.year_of_birth = year_of_birth\n",
    "        \n",
    "    def age(self, current_year):\n",
    "        return current_year - self.year_of_birth\n",
    "    \n",
    "    def __str__(self):\n",
    "        return \"%s %s was born in %d .\" \\\n",
    "                % (self.name, self.surname, self.year_of_birth)"
   ]
  },
  {
   "cell_type": "code",
   "execution_count": 153,
   "id": "ab67c82d",
   "metadata": {},
   "outputs": [
    {
     "name": "stdout",
     "output_type": "stream",
     "text": [
      "Alec Baldwin and was born 1958.\n",
      "Baldwin\n"
     ]
    }
   ],
   "source": [
    "class Person:\n",
    "    def __init__(self, name, surname, year_of_birth):\n",
    "        self._name = name\n",
    "        self._surname = surname\n",
    "        self._year_of_birth = year_of_birth\n",
    "    \n",
    "    def age(self, current_year):\n",
    "        return current_year - self._year_of_birth\n",
    "    \n",
    "    def __str__(self):\n",
    "        return \"%s %s and was born %d.\" \\\n",
    "                % (self._name, self._surname, self._year_of_birth)\n",
    "    \n",
    "alec = Person(\"Alec\", \"Baldwin\", 1958)\n",
    "print(alec)\n",
    "print(alec._surname)"
   ]
  },
  {
   "cell_type": "markdown",
   "id": "36e36fae",
   "metadata": {},
   "source": [
    "creat class"
   ]
  },
  {
   "cell_type": "code",
   "execution_count": 59,
   "id": "d534d3d7",
   "metadata": {},
   "outputs": [
    {
     "name": "stdout",
     "output_type": "stream",
     "text": [
      "<__main__.Person object at 0x0000021C67C0C2B0>\n",
      "vishal thorat was born in 1999.\n"
     ]
    }
   ],
   "source": [
    "class Person:\n",
    "    pass\n",
    "\n",
    "vish = Person()\n",
    "vish.name = \"vishal\"\n",
    "vish.surname = \"thorat\"\n",
    "vish.year_of_birth = 1999\n",
    "\n",
    "print(vish)\n",
    "print(\"%s %s was born in %d.\" %\n",
    "     (vish.name, vish.surname, vish.year_of_birth))"
   ]
  },
  {
   "cell_type": "code",
   "execution_count": 60,
   "id": "58dc73b5",
   "metadata": {},
   "outputs": [],
   "source": [
    "class Person:\n",
    "    def __init__(self, name, surname, year_of_birth):\n",
    "        self.name1= name\n",
    "        self.surname1 = surname\n",
    "        self.year_of_birth1 = year_of_birth"
   ]
  },
  {
   "cell_type": "code",
   "execution_count": 61,
   "id": "b7761926",
   "metadata": {},
   "outputs": [
    {
     "name": "stdout",
     "output_type": "stream",
     "text": [
      "<__main__.Person object at 0x0000021C6837EE80>\n",
      "Raj thorat was born in 2003.\n"
     ]
    }
   ],
   "source": [
    "rj = Person(\"Raj\",\"thorat\",2003)\n",
    "print(rj)\n",
    "print(\"%s %s was born in %d.\" %\n",
    "     (rj.name1, rj.surname1, rj.year_of_birth1))"
   ]
  },
  {
   "cell_type": "code",
   "execution_count": 62,
   "id": "f5af3e50",
   "metadata": {
    "scrolled": true
   },
   "outputs": [
    {
     "name": "stdout",
     "output_type": "stream",
     "text": [
      "<__main__.Person object at 0x0000021C67BF53D0>\n",
      "Aditya thorat was born in 2005.\n"
     ]
    }
   ],
   "source": [
    "ad = Person(\"Aditya\", \"thorat\", 2005)\n",
    "print(ad)\n",
    "print(\"%s %s was born in %d.\" % (ad.name1, ad.surname1, ad.year_of_birth1))"
   ]
  },
  {
   "cell_type": "markdown",
   "id": "84590a04",
   "metadata": {},
   "source": [
    "Methods"
   ]
  },
  {
   "cell_type": "code",
   "execution_count": 151,
   "id": "0c5f2f28",
   "metadata": {},
   "outputs": [
    {
     "name": "stdout",
     "output_type": "stream",
     "text": [
      "vishal thorat was born in 1999.\n",
      "23\n"
     ]
    }
   ],
   "source": [
    "class Person:\n",
    "    def __init__(a,name,surname,year_of_birth):\n",
    "        a.name = name\n",
    "        a.surname = surname\n",
    "        a.year_of_birth = year_of_birth\n",
    "        \n",
    "    def age(a, current_year):\n",
    "        return current_year - a.year_of_birth\n",
    "    \n",
    "    def __str__(a):\n",
    "        return \"%s %s was born in %d.\" % (a.name, a.surname, a.year_of_birth)\n",
    "    \n",
    "vish = Person(\"vishal\",\"thorat\",1999)\n",
    "print(vish)\n",
    "print(vish.age(2022))"
   ]
  },
  {
   "cell_type": "markdown",
   "id": "c345921f",
   "metadata": {},
   "source": [
    "Bad practice\n",
    "\n",
    "but it is possible to create a class without using __init__ method"
   ]
  },
  {
   "cell_type": "code",
   "execution_count": 148,
   "id": "1f7d5811",
   "metadata": {},
   "outputs": [],
   "source": [
    "class Person:\n",
    "    def set_name(self,name):\n",
    "        self.name = name\n",
    "        \n",
    "    def set_surname(self,surname):\n",
    "        self.surname =surname\n",
    "        \n",
    "    def set_year_of_birth(self,year_of_birth):\n",
    "        self.year_of_birth = year_of_birth\n",
    "        \n",
    "    def age(self,current_year):\n",
    "        return current_year - self.year_of_birth\n",
    "    \n",
    "    def __str__(self):\n",
    "        return \"%s %s born on %d.\" %(self.name,self.surname,self.year_of_birth)"
   ]
  },
  {
   "cell_type": "code",
   "execution_count": 99,
   "id": "9cf40614",
   "metadata": {},
   "outputs": [],
   "source": [
    "president = Person()"
   ]
  },
  {
   "cell_type": "code",
   "execution_count": 95,
   "id": "7ec8cc0c",
   "metadata": {},
   "outputs": [
    {
     "name": "stdout",
     "output_type": "stream",
     "text": [
      "John\n"
     ]
    }
   ],
   "source": [
    "print(president.name)"
   ]
  },
  {
   "cell_type": "code",
   "execution_count": 100,
   "id": "9cb66702",
   "metadata": {},
   "outputs": [],
   "source": [
    "president.set_name('John')\n",
    "president.set_surname('Deo')\n",
    "president.set_year_of_birth(1940)"
   ]
  },
  {
   "cell_type": "code",
   "execution_count": 102,
   "id": "220a2925",
   "metadata": {},
   "outputs": [
    {
     "name": "stdout",
     "output_type": "stream",
     "text": [
      "Mr. John Deo is the president, and he is very old. He is  82\n"
     ]
    }
   ],
   "source": [
    "print('Mr.',president.name, president.surname,\n",
    "      'is the president, and he is very old. He is ',\n",
    "      president.age(2022))"
   ]
  },
  {
   "cell_type": "markdown",
   "id": "23bbd350",
   "metadata": {},
   "source": [
    "Protect your abstraction"
   ]
  },
  {
   "cell_type": "code",
   "execution_count": 184,
   "id": "df46fb44",
   "metadata": {},
   "outputs": [
    {
     "name": "stdout",
     "output_type": "stream",
     "text": [
      "vishal thorat and was born 1999.\n",
      "thorat\n",
      "vishal\n",
      "24\n",
      "dict_keys(['_name', '_surname', '_year_of_birth'])\n"
     ]
    }
   ],
   "source": [
    "class Person:\n",
    "    def __init__(self, name, surname, year_of_birth):\n",
    "        self._name = name\n",
    "        self._surname = surname\n",
    "        self._year_of_birth = year_of_birth\n",
    "        \n",
    "    def age(self,current_year):\n",
    "        return current_year - self._year_of_birth\n",
    "    \n",
    "    def __str__ (self):\n",
    "        return \"%s %s and was born %d.\" % (self._name,self._surname,self._year_of_birth)\n",
    "    \n",
    "vish = Person(\"vishal\",\"thorat\",1999)\n",
    "print(vish)\n",
    "print(vish._surname)\n",
    "print(vish._name)\n",
    "print(vish.age(2023))\n",
    "print(vish.__dict__.keys())"
   ]
  },
  {
   "cell_type": "code",
   "execution_count": 183,
   "id": "920e9160",
   "metadata": {},
   "outputs": [
    {
     "name": "stdout",
     "output_type": "stream",
     "text": [
      "vishal\n",
      "dict_keys(['_Person__name', '_Person__surname', '_Person__year_of_birth'])\n",
      "1999\n"
     ]
    }
   ],
   "source": [
    "# wrote 'a' instead of 'self'\n",
    "class Person:\n",
    "    def __init__(a,name,surname,year_of_birth):\n",
    "        a.__name = name\n",
    "        a.__surname = surname\n",
    "        a.__year_of_birth = year_of_birth\n",
    "        \n",
    "    def age(self, current_year):\n",
    "        return current_year - self.__year_of_birth\n",
    "    \n",
    "    def __str__(self):\n",
    "        return \"%s %s born in %d.\"\\\n",
    "    %(a.__name, a.__surname, a.__year_of_birth)\n",
    "    \n",
    "vish = Person(\"vishal\",\"thorat\", 1999)\n",
    "print(vish._Person__name)\n",
    "print(vish.__dict__.keys())\n",
    "print(vish._Person__year_of_birth)"
   ]
  },
  {
   "cell_type": "markdown",
   "id": "e1ee90f7",
   "metadata": {},
   "source": [
    "Inheritance"
   ]
  },
  {
   "cell_type": "code",
   "execution_count": 181,
   "id": "6d753361",
   "metadata": {},
   "outputs": [
    {
     "name": "stdout",
     "output_type": "stream",
     "text": [
      "1\n",
      "vishal\n",
      "True\n",
      "True\n"
     ]
    }
   ],
   "source": [
    "class Student(Person):\n",
    "    def __init__(self, student_id, *args):\n",
    "        super(Student, self).__init__(*args)\n",
    "        self._student_id = student_id\n",
    "        \n",
    "    def __str__(self):\n",
    "        return \"self._name\"\n",
    "        \n",
    "vish = Student(1,'vishal','thorat',1999)\n",
    "print(vish._student_id)\n",
    "print(vish._name)\n",
    "print(isinstance(vish, Person))\n",
    "print(isinstance(vish, object))"
   ]
  },
  {
   "cell_type": "code",
   "execution_count": 182,
   "id": "565324f2",
   "metadata": {},
   "outputs": [
    {
     "name": "stdout",
     "output_type": "stream",
     "text": [
      "vishal thorat and was born 1999.and has ID: 1\n"
     ]
    }
   ],
   "source": [
    "class Student(Person):\n",
    "    def __init__(self, student_id, *args, **kwargs):\n",
    "        super(Student, self).__init__(*args, **kwargs)\n",
    "        self._student_id = student_id\n",
    "        \n",
    "    def __str__(self):\n",
    "        return super(Student,self).__str__() + \"and has ID: %d\" % self._student_id\n",
    "    \n",
    "vish = Student(1,\"vishal\",\"thorat\",1999)\n",
    "print(vish)"
   ]
  },
  {
   "cell_type": "code",
   "execution_count": 187,
   "id": "ab47a8f9",
   "metadata": {},
   "outputs": [
    {
     "name": "stdout",
     "output_type": "stream",
     "text": [
      "Tyres: \n",
      " \tBranch: Pirelli\n",
      " \tbelted_bias: True\n",
      " \topt_pressure: 2.0\n",
      "Engine: \n",
      " \tfuel_typeDiesel\n",
      " \tnoise_level3\n",
      "Body: \n",
      " \tSize: Medium\n"
     ]
    }
   ],
   "source": [
    "class Tyres:\n",
    "    def __init__(self, branch, belted_bias,opt_pressure):\n",
    "        self.branch = branch\n",
    "        self.belted_bias = belted_bias\n",
    "        self.opt_pressure = opt_pressure\n",
    "        \n",
    "    def __str__(self):\n",
    "        return(\"Tyres: \\n \\tBranch: \" + self.branch +\n",
    "              \"\\n \\tbelted_bias: \" + str(self.belted_bias)+\n",
    "              \"\\n \\topt_pressure: \"+ str(self.opt_pressure))\n",
    "    \n",
    "class Engine:\n",
    "    def __init__(self,fuel_type,noise_level):\n",
    "        self.fuel_type = fuel_type\n",
    "        self.noise_level = noise_level\n",
    "        \n",
    "    def __str__(self):\n",
    "        return(\"Engine: \\n \\tfuel_type\" + self.fuel_type + \n",
    "               \"\\n \\tnoise_level\" + str(self.noise_level))\n",
    "    \n",
    "class Body:\n",
    "    def __init__ (self,size):\n",
    "        self.size = size\n",
    "        \n",
    "    def __str__ (self):\n",
    "        return \"Body: \\n \\tSize: \" + self.size\n",
    "    \n",
    "class Car:\n",
    "    def __init__ (self,tyres, engine, body):\n",
    "        self.tyres = tyres\n",
    "        self.engine = engine\n",
    "        self.body = body\n",
    "        \n",
    "    def __str__(self):\n",
    "        return str(self.tyres) + \"\\n\" + str(self.engine) + \"\\n\" + str(self.body)\n",
    "    \n",
    "t = Tyres('Pirelli', True, 2.0)\n",
    "e = Engine('Diesel', 3)\n",
    "b = Body('Medium')\n",
    "c = Car(t, e, b)\n",
    "\n",
    "print(c)"
   ]
  },
  {
   "cell_type": "code",
   "execution_count": 188,
   "id": "5de13fb8",
   "metadata": {},
   "outputs": [
    {
     "name": "stdout",
     "output_type": "stream",
     "text": [
      "Kudrjavka is a Laika born in 1954.\n"
     ]
    }
   ],
   "source": [
    "class Dog:\n",
    "    def __init__ (self, name, year_of_birth, breed):\n",
    "        self._name = name \n",
    "        self._year_of_birth = year_of_birth\n",
    "        self._breed = breed\n",
    "        \n",
    "    def __str__ (self):\n",
    "        return \"%s is a %s born in %d.\" % (self._name,self._breed,self._year_of_birth)\n",
    "    \n",
    "kudrjavka = Dog(\"Kudrjavka\", 1954, \"Laika\")\n",
    "print(kudrjavka)"
   ]
  },
  {
   "cell_type": "code",
   "execution_count": 189,
   "id": "3703f74d",
   "metadata": {},
   "outputs": [
    {
     "name": "stdout",
     "output_type": "stream",
     "text": [
      "dsfs Student ID: 1\n",
      "Kudrjavka is a Laika born in 1954. Student ID: 2\n"
     ]
    }
   ],
   "source": [
    "class Student:\n",
    "    def __init__(self, anagraphic, student_id):\n",
    "        self._anagraphic = anagraphic\n",
    "        self._student_id = student_id\n",
    "    def __str__(self):\n",
    "        return str(self._anagraphic) + \" Student ID: %d\" % self._student_id\n",
    "\n",
    "\n",
    "alec_student = Student(\"dsfs\",1)\n",
    "kudrjavka_student = Student(kudrjavka, 2)\n",
    "\n",
    "print(alec_student)\n",
    "print(kudrjavka_student)"
   ]
  },
  {
   "cell_type": "markdown",
   "id": "b32a786f",
   "metadata": {},
   "source": [
    "Polymorphism and DuckTyping"
   ]
  },
  {
   "cell_type": "code",
   "execution_count": 192,
   "id": "eccbbe1d",
   "metadata": {},
   "outputs": [
    {
     "name": "stdout",
     "output_type": "stream",
     "text": [
      "2\n",
      "['a', 'b', 'c', 'd', 'e']\n",
      "abracadabra\n"
     ]
    }
   ],
   "source": [
    "def summer(a, b):\n",
    "    return a + b\n",
    "\n",
    "print(summer(1, 1))\n",
    "print(summer([\"a\", \"b\", \"c\"], [\"d\", \"e\"]))\n",
    "print(summer(\"abra\", \"cadabra\"))"
   ]
  },
  {
   "cell_type": "code",
   "execution_count": 196,
   "id": "432fa1cf",
   "metadata": {},
   "outputs": [
    {
     "name": "stdout",
     "output_type": "stream",
     "text": [
      "1\n",
      "['a', 'b', 'd', 'a', 'b', 'd']\n"
     ]
    }
   ],
   "source": [
    "def summer1 (a,b):\n",
    "    return a*b\n",
    "\n",
    "print(summer1(1,1))\n",
    "print(summer1(['a','b','d'],2))\n"
   ]
  },
  {
   "cell_type": "code",
   "execution_count": null,
   "id": "e228e28b",
   "metadata": {},
   "outputs": [],
   "source": []
  }
 ],
 "metadata": {
  "kernelspec": {
   "display_name": "Python 3 (ipykernel)",
   "language": "python",
   "name": "python3"
  },
  "language_info": {
   "codemirror_mode": {
    "name": "ipython",
    "version": 3
   },
   "file_extension": ".py",
   "mimetype": "text/x-python",
   "name": "python",
   "nbconvert_exporter": "python",
   "pygments_lexer": "ipython3",
   "version": "3.9.12"
  }
 },
 "nbformat": 4,
 "nbformat_minor": 5
}
