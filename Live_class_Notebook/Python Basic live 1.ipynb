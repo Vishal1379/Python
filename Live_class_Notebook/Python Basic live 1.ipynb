{
 "cells": [
  {
   "cell_type": "code",
   "execution_count": 3,
   "id": "8711d0c8",
   "metadata": {},
   "outputs": [],
   "source": [
    "#I want all my even number in one list and another list\n",
    "num_list=[1,2,3,4,34,54,5,65,6,43,5,23,56,767,67,5444,322]\n",
    "a=[]\n",
    "b=[]"
   ]
  },
  {
   "cell_type": "code",
   "execution_count": 4,
   "id": "6c951ff7",
   "metadata": {},
   "outputs": [],
   "source": [
    "#with a range function \n",
    "for i in range(len(num_list)):\n",
    "    if(num_list[i]%2 ==0):\n",
    "        a.append(num_list[i])\n",
    "    else :\n",
    "        b.append(num_list[i])"
   ]
  },
  {
   "cell_type": "code",
   "execution_count": 5,
   "id": "fdfaa43e",
   "metadata": {},
   "outputs": [
    {
     "data": {
      "text/plain": [
       "([2, 4, 34, 54, 6, 56, 5444, 322], [1, 3, 5, 65, 43, 5, 23, 767, 67])"
      ]
     },
     "execution_count": 5,
     "metadata": {},
     "output_type": "execute_result"
    }
   ],
   "source": [
    "a,b"
   ]
  },
  {
   "cell_type": "code",
   "execution_count": 9,
   "id": "7819f228",
   "metadata": {},
   "outputs": [],
   "source": [
    "for i in num_list:\n",
    "    if i%2 ==0:\n",
    "        c.append(i)\n",
    "    else:\n",
    "        d.append(i)"
   ]
  },
  {
   "cell_type": "code",
   "execution_count": 8,
   "id": "cf1284fa",
   "metadata": {},
   "outputs": [],
   "source": [
    "c=[]\n",
    "d=[]"
   ]
  },
  {
   "cell_type": "code",
   "execution_count": 10,
   "id": "f9df05c0",
   "metadata": {},
   "outputs": [
    {
     "data": {
      "text/plain": [
       "[2, 4, 34, 54, 6, 56, 5444, 322]"
      ]
     },
     "execution_count": 10,
     "metadata": {},
     "output_type": "execute_result"
    }
   ],
   "source": [
    "c"
   ]
  },
  {
   "cell_type": "code",
   "execution_count": 11,
   "id": "055a9526",
   "metadata": {},
   "outputs": [
    {
     "data": {
      "text/plain": [
       "[1, 3, 5, 65, 43, 5, 23, 767, 67]"
      ]
     },
     "execution_count": 11,
     "metadata": {},
     "output_type": "execute_result"
    }
   ],
   "source": [
    "d"
   ]
  },
  {
   "cell_type": "code",
   "execution_count": 12,
   "id": "f297bf01",
   "metadata": {},
   "outputs": [
    {
     "data": {
      "text/plain": [
       "True"
      ]
     },
     "execution_count": 12,
     "metadata": {},
     "output_type": "execute_result"
    }
   ],
   "source": [
    "4 in num_list"
   ]
  },
  {
   "cell_type": "code",
   "execution_count": 14,
   "id": "4516a8ab",
   "metadata": {},
   "outputs": [],
   "source": [
    "str_obj = 'bsvxzchgsdvzxhcgvaszxghbcsxhjzbcjhsz'"
   ]
  },
  {
   "cell_type": "code",
   "execution_count": 23,
   "id": "fe9b3e12",
   "metadata": {},
   "outputs": [
    {
     "data": {
      "text/plain": [
       "2"
      ]
     },
     "execution_count": 23,
     "metadata": {},
     "output_type": "execute_result"
    }
   ],
   "source": [
    "str_obj.find('v') #it gives first occurance "
   ]
  },
  {
   "cell_type": "code",
   "execution_count": 20,
   "id": "492effdc",
   "metadata": {},
   "outputs": [
    {
     "data": {
      "text/plain": [
       "-1"
      ]
     },
     "execution_count": 20,
     "metadata": {},
     "output_type": "execute_result"
    }
   ],
   "source": [
    "str_obj.find('33') #if does not exists returns -1"
   ]
  },
  {
   "cell_type": "code",
   "execution_count": 21,
   "id": "f58d3565",
   "metadata": {},
   "outputs": [
    {
     "data": {
      "text/plain": [
       "['bs', 'xzchgsd', 'zxhcg', 'aszxghbcsxhjzbcjhsz']"
      ]
     },
     "execution_count": 21,
     "metadata": {},
     "output_type": "execute_result"
    }
   ],
   "source": [
    "str_obj.split('v')"
   ]
  },
  {
   "cell_type": "code",
   "execution_count": 22,
   "id": "67afd7ec",
   "metadata": {},
   "outputs": [
    {
     "data": {
      "text/plain": [
       "('bs', 'v', 'xzchgsdvzxhcgvaszxghbcsxhjzbcjhsz')"
      ]
     },
     "execution_count": 22,
     "metadata": {},
     "output_type": "execute_result"
    }
   ],
   "source": [
    "str_obj.partition('v')"
   ]
  },
  {
   "cell_type": "code",
   "execution_count": 24,
   "id": "f79a38bd",
   "metadata": {},
   "outputs": [],
   "source": [
    "text = 'INDIA IS MY COUNTRY'"
   ]
  },
  {
   "cell_type": "code",
   "execution_count": 28,
   "id": "5f34dbb8",
   "metadata": {},
   "outputs": [
    {
     "data": {
      "text/plain": [
       "'***INDIA IS MY COUNTRY****'"
      ]
     },
     "execution_count": 28,
     "metadata": {},
     "output_type": "execute_result"
    }
   ],
   "source": [
    "text.center(26,\"*\")"
   ]
  },
  {
   "cell_type": "code",
   "execution_count": 38,
   "id": "fb48f218",
   "metadata": {},
   "outputs": [],
   "source": [
    "s =[1,2,3,4,5,5]"
   ]
  },
  {
   "cell_type": "code",
   "execution_count": 39,
   "id": "7127fee1",
   "metadata": {},
   "outputs": [],
   "source": [
    "s.append([3,4,5,6,7]) #appending a list inside a list"
   ]
  },
  {
   "cell_type": "code",
   "execution_count": 40,
   "id": "0734056a",
   "metadata": {},
   "outputs": [
    {
     "data": {
      "text/plain": [
       "[1, 2, 3, 4, 5, 5, [3, 4, 5, 6, 7]]"
      ]
     },
     "execution_count": 40,
     "metadata": {},
     "output_type": "execute_result"
    }
   ],
   "source": [
    "s"
   ]
  },
  {
   "cell_type": "code",
   "execution_count": 41,
   "id": "0e5dc3ff",
   "metadata": {},
   "outputs": [],
   "source": [
    "s.extend([2,3,45,5,'vishal']) #wrap up data and then insert it"
   ]
  },
  {
   "cell_type": "code",
   "execution_count": 42,
   "id": "8f9d8b8f",
   "metadata": {},
   "outputs": [
    {
     "data": {
      "text/plain": [
       "[1, 2, 3, 4, 5, 5, [3, 4, 5, 6, 7], 2, 3, 45, 5, 'vishal']"
      ]
     },
     "execution_count": 42,
     "metadata": {},
     "output_type": "execute_result"
    }
   ],
   "source": [
    "s"
   ]
  },
  {
   "cell_type": "code",
   "execution_count": 44,
   "id": "01020293",
   "metadata": {},
   "outputs": [
    {
     "name": "stdout",
     "output_type": "stream",
     "text": [
      "please input your name vishal\n"
     ]
    }
   ],
   "source": [
    "var = input('please input your name ')"
   ]
  },
  {
   "cell_type": "code",
   "execution_count": 45,
   "id": "7d3aa643",
   "metadata": {},
   "outputs": [
    {
     "data": {
      "text/plain": [
       "'My name is vishal'"
      ]
     },
     "execution_count": 45,
     "metadata": {},
     "output_type": "execute_result"
    }
   ],
   "source": [
    "'My name is {}'.format(var)"
   ]
  },
  {
   "cell_type": "code",
   "execution_count": 48,
   "id": "a184b2b2",
   "metadata": {},
   "outputs": [],
   "source": [
    "a = [1,2,3,4,4,5,6,6,7,9]\n",
    "b = ['vidh','sgucy','hsd','shubha']\n",
    "c = [1.2,33.334]\n",
    "\n",
    "d=[a,b,c]"
   ]
  },
  {
   "cell_type": "code",
   "execution_count": 50,
   "id": "f115ff32",
   "metadata": {},
   "outputs": [
    {
     "data": {
      "text/plain": [
       "'shubha'"
      ]
     },
     "execution_count": 50,
     "metadata": {},
     "output_type": "execute_result"
    }
   ],
   "source": [
    "d[1][-1]"
   ]
  },
  {
   "cell_type": "code",
   "execution_count": 55,
   "id": "0ef531f5",
   "metadata": {},
   "outputs": [],
   "source": [
    "list_num = [12,34,45,45,5,54]"
   ]
  },
  {
   "cell_type": "code",
   "execution_count": 56,
   "id": "5df3da15",
   "metadata": {},
   "outputs": [
    {
     "data": {
      "text/plain": [
       "[24, 68, 90, 90, 10, 108]"
      ]
     },
     "execution_count": 56,
     "metadata": {},
     "output_type": "execute_result"
    }
   ],
   "source": [
    "[i *2 for i in list_num]"
   ]
  },
  {
   "cell_type": "code",
   "execution_count": null,
   "id": "7d37ddb4",
   "metadata": {},
   "outputs": [],
   "source": []
  }
 ],
 "metadata": {
  "kernelspec": {
   "display_name": "Python 3 (ipykernel)",
   "language": "python",
   "name": "python3"
  },
  "language_info": {
   "codemirror_mode": {
    "name": "ipython",
    "version": 3
   },
   "file_extension": ".py",
   "mimetype": "text/x-python",
   "name": "python",
   "nbconvert_exporter": "python",
   "pygments_lexer": "ipython3",
   "version": "3.9.12"
  }
 },
 "nbformat": 4,
 "nbformat_minor": 5
}
