{
 "cells": [
  {
   "cell_type": "code",
   "execution_count": 1,
   "id": "fd0ced59",
   "metadata": {},
   "outputs": [
    {
     "name": "stdout",
     "output_type": "stream",
     "text": [
      "this is my first python program\n"
     ]
    }
   ],
   "source": [
    "print(\"this is my first python program\")"
   ]
  },
  {
   "cell_type": "code",
   "execution_count": 2,
   "id": "eb420c8f",
   "metadata": {},
   "outputs": [
    {
     "data": {
      "text/plain": [
       "\"Tripple cote is used for multiple line of comment\\njhdkj\\nsjkzhj\\nksjcbck\\n'bdjshx\\nbhdf\\nbcjsz\\nsdgahdc\\nbids\\nviudl\\n'\""
      ]
     },
     "execution_count": 2,
     "metadata": {},
     "output_type": "execute_result"
    }
   ],
   "source": [
    "#my name is vish\n",
    "\"\"\"Tripple cote is used for multiple line of comment\n",
    "jhdkj\n",
    "sjkzhj\n",
    "ksjcbck\n",
    "'bdjshx\n",
    "bhdf\n",
    "bcjsz\n",
    "sdgahdc\n",
    "bids\n",
    "viudl\n",
    "'\"\"\""
   ]
  },
  {
   "cell_type": "code",
   "execution_count": 1,
   "id": "34017111",
   "metadata": {},
   "outputs": [
    {
     "data": {
      "text/plain": [
       "'vishal thorat\\nraj thorat\\naditya thorat\\naryan thorat\\nvaibhavi thorat'"
      ]
     },
     "execution_count": 1,
     "metadata": {},
     "output_type": "execute_result"
    }
   ],
   "source": [
    "\"\"\"vishal thorat\n",
    "raj thorat\n",
    "aditya thorat\n",
    "aryan thorat\n",
    "vaibhavi thorat\"\"\""
   ]
  },
  {
   "cell_type": "code",
   "execution_count": 4,
   "id": "778ba441",
   "metadata": {},
   "outputs": [],
   "source": [
    "a,b,s=55,\"vishal\",'shubh'"
   ]
  },
  {
   "cell_type": "code",
   "execution_count": 5,
   "id": "f5c63320",
   "metadata": {},
   "outputs": [
    {
     "data": {
      "text/plain": [
       "55"
      ]
     },
     "execution_count": 5,
     "metadata": {},
     "output_type": "execute_result"
    }
   ],
   "source": [
    "a"
   ]
  },
  {
   "cell_type": "code",
   "execution_count": 6,
   "id": "f80955fb",
   "metadata": {},
   "outputs": [
    {
     "data": {
      "text/plain": [
       "'shubh'"
      ]
     },
     "execution_count": 6,
     "metadata": {},
     "output_type": "execute_result"
    }
   ],
   "source": [
    "s"
   ]
  },
  {
   "cell_type": "code",
   "execution_count": 7,
   "id": "95485a5a",
   "metadata": {},
   "outputs": [
    {
     "data": {
      "text/plain": [
       "'vishal'"
      ]
     },
     "execution_count": 7,
     "metadata": {},
     "output_type": "execute_result"
    }
   ],
   "source": [
    "b"
   ]
  },
  {
   "cell_type": "code",
   "execution_count": 8,
   "id": "f38194f8",
   "metadata": {},
   "outputs": [
    {
     "data": {
      "text/plain": [
       "str"
      ]
     },
     "execution_count": 8,
     "metadata": {},
     "output_type": "execute_result"
    }
   ],
   "source": [
    "type(s)"
   ]
  },
  {
   "cell_type": "code",
   "execution_count": 9,
   "id": "22624e44",
   "metadata": {},
   "outputs": [
    {
     "name": "stdout",
     "output_type": "stream",
     "text": [
      "55 vishal shubh Vishal 99\n"
     ]
    }
   ],
   "source": [
    "print(a,b,s,\"Vishal\",99)"
   ]
  },
  {
   "cell_type": "code",
   "execution_count": 10,
   "id": "0103a933",
   "metadata": {},
   "outputs": [],
   "source": [
    "# variable is nothing but store same data"
   ]
  },
  {
   "cell_type": "code",
   "execution_count": 11,
   "id": "a336b7ba",
   "metadata": {},
   "outputs": [],
   "source": [
    "name = \"vish\"\n",
    "userid =\"IN001\"\n",
    "password = \"vidhdljdl\"\n",
    "mail = \"vishalt1379@gmail.com\""
   ]
  },
  {
   "cell_type": "code",
   "execution_count": 1,
   "id": "f40dae0f",
   "metadata": {},
   "outputs": [],
   "source": [
    "a= 1.4736487683"
   ]
  },
  {
   "cell_type": "code",
   "execution_count": 2,
   "id": "b2fd6497",
   "metadata": {},
   "outputs": [
    {
     "data": {
      "text/plain": [
       "float"
      ]
     },
     "execution_count": 2,
     "metadata": {},
     "output_type": "execute_result"
    }
   ],
   "source": [
    "type(a)"
   ]
  },
  {
   "cell_type": "code",
   "execution_count": 3,
   "id": "a9e77036",
   "metadata": {},
   "outputs": [],
   "source": [
    "b = True\n",
    "c = False"
   ]
  },
  {
   "cell_type": "code",
   "execution_count": 4,
   "id": "dc1e3d67",
   "metadata": {},
   "outputs": [
    {
     "data": {
      "text/plain": [
       "bool"
      ]
     },
     "execution_count": 4,
     "metadata": {},
     "output_type": "execute_result"
    }
   ],
   "source": [
    "type(b)"
   ]
  },
  {
   "cell_type": "code",
   "execution_count": 5,
   "id": "2ed6fd4c",
   "metadata": {},
   "outputs": [
    {
     "data": {
      "text/plain": [
       "bool"
      ]
     },
     "execution_count": 5,
     "metadata": {},
     "output_type": "execute_result"
    }
   ],
   "source": [
    "type(c)"
   ]
  },
  {
   "cell_type": "code",
   "execution_count": 17,
   "id": "5c1878c4",
   "metadata": {},
   "outputs": [
    {
     "name": "stdout",
     "output_type": "stream",
     "text": [
      "4\n"
     ]
    }
   ],
   "source": [
    "print (True + True + True + False + True)"
   ]
  },
  {
   "cell_type": "code",
   "execution_count": 18,
   "id": "ef0584f9",
   "metadata": {},
   "outputs": [
    {
     "data": {
      "text/plain": [
       "2"
      ]
     },
     "execution_count": 18,
     "metadata": {},
     "output_type": "execute_result"
    }
   ],
   "source": [
    "False + True + True "
   ]
  },
  {
   "cell_type": "code",
   "execution_count": 19,
   "id": "1ec11e73",
   "metadata": {},
   "outputs": [
    {
     "data": {
      "text/plain": [
       "2"
      ]
     },
     "execution_count": 19,
     "metadata": {},
     "output_type": "execute_result"
    }
   ],
   "source": [
    "True * True + False + True "
   ]
  },
  {
   "cell_type": "code",
   "execution_count": 20,
   "id": "b244651f",
   "metadata": {},
   "outputs": [
    {
     "data": {
      "text/plain": [
       "False"
      ]
     },
     "execution_count": 20,
     "metadata": {},
     "output_type": "execute_result"
    }
   ],
   "source": [
    "True and False"
   ]
  },
  {
   "cell_type": "code",
   "execution_count": 5,
   "id": "017ca1c6",
   "metadata": {},
   "outputs": [
    {
     "data": {
      "text/plain": [
       "2"
      ]
     },
     "execution_count": 5,
     "metadata": {},
     "output_type": "execute_result"
    }
   ],
   "source": [
    "True+True"
   ]
  },
  {
   "cell_type": "code",
   "execution_count": 21,
   "id": "8cce3b73",
   "metadata": {},
   "outputs": [
    {
     "data": {
      "text/plain": [
       "True"
      ]
     },
     "execution_count": 21,
     "metadata": {},
     "output_type": "execute_result"
    }
   ],
   "source": [
    "True or False"
   ]
  },
  {
   "cell_type": "code",
   "execution_count": 6,
   "id": "c3c3d2a0",
   "metadata": {},
   "outputs": [
    {
     "data": {
      "text/plain": [
       "2"
      ]
     },
     "execution_count": 6,
     "metadata": {},
     "output_type": "execute_result"
    }
   ],
   "source": [
    "\n",
    "True*False*True+True+True"
   ]
  },
  {
   "cell_type": "code",
   "execution_count": 23,
   "id": "7ee5d922",
   "metadata": {},
   "outputs": [],
   "source": [
    "#True=1 & False=0\n",
    "#Boolen Variable"
   ]
  },
  {
   "cell_type": "code",
   "execution_count": 7,
   "id": "fa376df4",
   "metadata": {},
   "outputs": [],
   "source": [
    "n = 45 + 9j"
   ]
  },
  {
   "cell_type": "code",
   "execution_count": 8,
   "id": "40dc1c53",
   "metadata": {},
   "outputs": [
    {
     "data": {
      "text/plain": [
       "complex"
      ]
     },
     "execution_count": 8,
     "metadata": {},
     "output_type": "execute_result"
    }
   ],
   "source": [
    "type(n)"
   ]
  },
  {
   "cell_type": "code",
   "execution_count": 9,
   "id": "5e930ebd",
   "metadata": {},
   "outputs": [
    {
     "data": {
      "text/plain": [
       "45.0"
      ]
     },
     "execution_count": 9,
     "metadata": {},
     "output_type": "execute_result"
    }
   ],
   "source": [
    "n.real"
   ]
  },
  {
   "cell_type": "code",
   "execution_count": 10,
   "id": "4a67abe6",
   "metadata": {},
   "outputs": [
    {
     "data": {
      "text/plain": [
       "9.0"
      ]
     },
     "execution_count": 10,
     "metadata": {},
     "output_type": "execute_result"
    }
   ],
   "source": [
    "n.imag"
   ]
  },
  {
   "cell_type": "code",
   "execution_count": 11,
   "id": "40639c74",
   "metadata": {},
   "outputs": [
    {
     "data": {
      "text/plain": [
       "'1vish'"
      ]
     },
     "execution_count": 11,
     "metadata": {},
     "output_type": "execute_result"
    }
   ],
   "source": [
    "\"1\" + \"vish\""
   ]
  },
  {
   "cell_type": "code",
   "execution_count": 12,
   "id": "0e597a36",
   "metadata": {},
   "outputs": [],
   "source": [
    "v= 787+65j"
   ]
  },
  {
   "cell_type": "code",
   "execution_count": 13,
   "id": "10980a98",
   "metadata": {},
   "outputs": [
    {
     "data": {
      "text/plain": [
       "65.0"
      ]
     },
     "execution_count": 13,
     "metadata": {},
     "output_type": "execute_result"
    }
   ],
   "source": [
    "v.imag"
   ]
  },
  {
   "cell_type": "code",
   "execution_count": 14,
   "id": "7fb0f99b",
   "metadata": {},
   "outputs": [],
   "source": [
    "#Consatination operation"
   ]
  },
  {
   "cell_type": "code",
   "execution_count": 15,
   "id": "7e31cdb2",
   "metadata": {},
   "outputs": [
    {
     "data": {
      "text/plain": [
       "2.0"
      ]
     },
     "execution_count": 15,
     "metadata": {},
     "output_type": "execute_result"
    }
   ],
   "source": [
    "1+1.0"
   ]
  },
  {
   "cell_type": "code",
   "execution_count": 16,
   "id": "5094b673",
   "metadata": {},
   "outputs": [
    {
     "data": {
      "text/plain": [
       "float"
      ]
     },
     "execution_count": 16,
     "metadata": {},
     "output_type": "execute_result"
    }
   ],
   "source": [
    "type(2.0)"
   ]
  },
  {
   "cell_type": "code",
   "execution_count": 18,
   "id": "54154447",
   "metadata": {},
   "outputs": [
    {
     "name": "stdout",
     "output_type": "stream",
     "text": [
      "visha: thorat\n"
     ]
    }
   ],
   "source": [
    "a = input(\"visha: \")"
   ]
  },
  {
   "cell_type": "code",
   "execution_count": 21,
   "id": "0bca0b05",
   "metadata": {},
   "outputs": [
    {
     "data": {
      "text/plain": [
       "'thorat'"
      ]
     },
     "execution_count": 21,
     "metadata": {},
     "output_type": "execute_result"
    }
   ],
   "source": [
    "a"
   ]
  },
  {
   "cell_type": "code",
   "execution_count": 22,
   "id": "45abd4f7",
   "metadata": {},
   "outputs": [
    {
     "name": "stdout",
     "output_type": "stream",
     "text": [
      "this is my var a 78\n",
      "this is my var b 56\n",
      "this is my var 23\n"
     ]
    }
   ],
   "source": [
    "a = int(input(\"this is my var a \"))\n",
    "b = int(input(\"this is my var b \"))\n",
    "c = int (input(\"this is my var \"))"
   ]
  },
  {
   "cell_type": "code",
   "execution_count": 27,
   "id": "dd1c0f0c",
   "metadata": {},
   "outputs": [],
   "source": [
    "o = a+ b/ c +a"
   ]
  },
  {
   "cell_type": "code",
   "execution_count": 34,
   "id": "e962a578",
   "metadata": {},
   "outputs": [
    {
     "data": {
      "text/plain": [
       "158.43478260869566"
      ]
     },
     "execution_count": 34,
     "metadata": {},
     "output_type": "execute_result"
    }
   ],
   "source": [
    "o"
   ]
  },
  {
   "cell_type": "code",
   "execution_count": 35,
   "id": "3df0e7ab",
   "metadata": {},
   "outputs": [],
   "source": [
    "o1= o + 7+9j -b"
   ]
  },
  {
   "cell_type": "code",
   "execution_count": 36,
   "id": "7c2db16f",
   "metadata": {},
   "outputs": [
    {
     "data": {
      "text/plain": [
       "(109.43478260869566+9j)"
      ]
     },
     "execution_count": 36,
     "metadata": {},
     "output_type": "execute_result"
    }
   ],
   "source": [
    "o1"
   ]
  },
  {
   "cell_type": "code",
   "execution_count": 41,
   "id": "db330014",
   "metadata": {},
   "outputs": [
    {
     "name": "stdout",
     "output_type": "stream",
     "text": [
      "this is the no: 99\n",
      "this is the no: 98\n",
      "this is the no: 97\n"
     ]
    }
   ],
   "source": [
    "v=int(input(\"this is the no: \"))\n",
    "w=int(input(\"this is the no: \"))\n",
    "x=int(input(\"this is the no: \"))"
   ]
  },
  {
   "cell_type": "code",
   "execution_count": 42,
   "id": "41748bd0",
   "metadata": {},
   "outputs": [
    {
     "data": {
      "text/plain": [
       "294"
      ]
     },
     "execution_count": 42,
     "metadata": {},
     "output_type": "execute_result"
    }
   ],
   "source": [
    "o=v+w+x\n",
    "o"
   ]
  },
  {
   "cell_type": "code",
   "execution_count": 43,
   "id": "2fad7be1",
   "metadata": {},
   "outputs": [
    {
     "data": {
      "text/plain": [
       "939278"
      ]
     },
     "execution_count": 43,
     "metadata": {},
     "output_type": "execute_result"
    }
   ],
   "source": [
    "o1=938984\n",
    "o2=o+o1\n",
    "o2"
   ]
  },
  {
   "cell_type": "code",
   "execution_count": 37,
   "id": "94fd21d8",
   "metadata": {},
   "outputs": [
    {
     "data": {
      "text/plain": [
       "'(109.43478260869566+9j)vishal'"
      ]
     },
     "execution_count": 37,
     "metadata": {},
     "output_type": "execute_result"
    }
   ],
   "source": [
    "str(o1)+\"vishal\""
   ]
  },
  {
   "cell_type": "code",
   "execution_count": 40,
   "id": "67ffb942",
   "metadata": {},
   "outputs": [
    {
     "name": "stdout",
     "output_type": "stream",
     "text": [
      "this is my var v 77\n"
     ]
    }
   ],
   "source": [
    "v= float(input(\"this is my var v \"))"
   ]
  },
  {
   "cell_type": "code",
   "execution_count": 41,
   "id": "f828e2ba",
   "metadata": {},
   "outputs": [
    {
     "data": {
      "text/plain": [
       "77.0"
      ]
     },
     "execution_count": 41,
     "metadata": {},
     "output_type": "execute_result"
    }
   ],
   "source": [
    "v"
   ]
  },
  {
   "cell_type": "code",
   "execution_count": 49,
   "id": "3bbe7983",
   "metadata": {},
   "outputs": [
    {
     "name": "stdout",
     "output_type": "stream",
     "text": [
      "this is my var a 77\n",
      "this is my var b 75\n",
      "this is my var 57\n"
     ]
    },
    {
     "data": {
      "text/plain": [
       "'(85.3157894736842+9j)vishal'"
      ]
     },
     "execution_count": 49,
     "metadata": {},
     "output_type": "execute_result"
    }
   ],
   "source": [
    "a = int(input(\"this is my var a \"))\n",
    "b = int(input(\"this is my var b \"))\n",
    "c = int (input(\"this is my var \"))\n",
    "o = a+ b/ c\n",
    "o1= o + 7+9j\n",
    "str(o1)+\"vishal\""
   ]
  },
  {
   "cell_type": "code",
   "execution_count": 50,
   "id": "2769e2ec",
   "metadata": {},
   "outputs": [
    {
     "name": "stdout",
     "output_type": "stream",
     "text": [
      "input a number lesser than 32 --67\n"
     ]
    }
   ],
   "source": [
    "a = int(input(\"input a number lesser than 32 --\"))"
   ]
  },
  {
   "cell_type": "code",
   "execution_count": 52,
   "id": "63eda558",
   "metadata": {},
   "outputs": [
    {
     "name": "stdout",
     "output_type": "stream",
     "text": [
      "input a number899898\n",
      "user input is not lesser then 34\n"
     ]
    }
   ],
   "source": [
    "a = int(input(\"input a number\"))\n",
    "if a < 34:\n",
    "    print(\"data is lesser than 34 and im fine with it\")\n",
    "elif a <100:\n",
    "    print(\"data is lesser than 100\")\n",
    "else:\n",
    "    print(\"user input is not lesser then 34 \")"
   ]
  },
  {
   "cell_type": "code",
   "execution_count": 1,
   "id": "754bbce2",
   "metadata": {},
   "outputs": [
    {
     "name": "stdout",
     "output_type": "stream",
     "text": [
      "Price of laptop: 54651\n",
      "i5 Configuration of laptop\n"
     ]
    }
   ],
   "source": [
    "laptop_price = int(input(\"Price of laptop: \"))\n",
    "\n",
    "if 25000 < laptop_price <= 40000:\n",
    "    print(\"i3 Configuration of laptop\")\n",
    "    \n",
    "    if 40000 >= laptop_price > 37000:\n",
    "        print(\"8Gb RAM, 556 SSD, 1TB HD\")\n",
    "        \n",
    "    elif 37000 >= laptop_price > 32000:\n",
    "        print(\"4Gb RAM, 256 SSD, 1TB HD\")\n",
    "        \n",
    "    elif 32000 >= laptop_price >25000:\n",
    "        print(\"8Gb RAM, 1TB HD\")\n",
    "        \n",
    "elif 60000 >= laptop_price > 40000:\n",
    "     print(\"i5 Configuration of laptop\")\n",
    "        \n",
    "elif laptop_price<25000:\n",
    "    print(\"Go for mobile\")\n",
    "        \n",
    "else:\n",
    "    print(\"Go for Apple Laptops\")\n"
   ]
  },
  {
   "cell_type": "code",
   "execution_count": 21,
   "id": "7302c430",
   "metadata": {},
   "outputs": [
    {
     "name": "stdout",
     "output_type": "stream",
     "text": [
      "Enter the value : 400\n",
      "value is greater than 300\n"
     ]
    }
   ],
   "source": [
    "v=int(input(\"Enter the value : \"))\n",
    "\n",
    "if v<100:\n",
    "    print(\"value is under 100\")\n",
    "    \n",
    "    if v<20:\n",
    "        print(\"value is under 20\")\n",
    "        \n",
    "    elif v<40:\n",
    "        print(\"value is grater than 20 but less than 40\")\n",
    "    \n",
    "    elif v<=70:\n",
    "        print(\"value is grater than 40 but less than 70\")\n",
    "    \n",
    "    elif v<=100:\n",
    "        print(\"value is grater than 70 but less than or equal to 100\")\n",
    "\n",
    "elif v<=200:\n",
    "    print(\"value is grater than 100 but less than or equal to 200\")\n",
    "    \n",
    "elif v<=300:\n",
    "    print(\"value is grater than 200 but less than or equal to 300\")\n",
    "    \n",
    "else:\n",
    "    print(\"value is greater than 300\")"
   ]
  },
  {
   "cell_type": "code",
   "execution_count": 19,
   "id": "8b807f99",
   "metadata": {},
   "outputs": [
    {
     "name": "stdout",
     "output_type": "stream",
     "text": [
      "enter the money you spent for the room Rs : 400\n",
      "Money allow to add in common bazaar list\n",
      "Money spent for material of kitchen\n"
     ]
    }
   ],
   "source": [
    "Rs=int(input(\"enter the money you spent for the room Rs : \"))\n",
    "\n",
    "if Rs>30:\n",
    "    print(\"Money allow to add in common bazaar list\")\n",
    "    \n",
    "    if Rs < 100 > 30:\n",
    "        print(\"Money spent for Tarkari \")\n",
    "        \n",
    "    elif Rs < 200 > 100:\n",
    "        print(\"Money spent for Sunday special Lunch\")\n",
    "        \n",
    "    elif Rs < 500 > 200:\n",
    "        print(\"Money spent for material of kitchen\")\n",
    "        \n",
    "    elif Rs <1000>500:\n",
    "        print (\"money spent for Light & wifi bill\")\n",
    "        \n",
    "    elif Rs>1000:\n",
    "        print(\"money spent for room rent\")\n",
    "        \n",
    "else:\n",
    "    print(\"Money cannot add in common bazaar list\")"
   ]
  },
  {
   "cell_type": "code",
   "execution_count": 65,
   "id": "924223cb",
   "metadata": {},
   "outputs": [
    {
     "name": "stdout",
     "output_type": "stream",
     "text": [
      "enter your salary 500\n",
      "i will not buy anything \n"
     ]
    }
   ],
   "source": [
    "salary =int(input(\"enter your salary \"))\n",
    "if salary > 1000:\n",
    "    print(\"your salry is good \")\n",
    "    if salary > 5000:\n",
    "        print(\"i will go with nano \")\n",
    "        if True:\n",
    "            print(\"false code \")\n",
    "    elif salary >10000:\n",
    "        print(\"i will go with maruti \")\n",
    "    elif salary > 50000:\n",
    "        print(\"i will go with toyota \")\n",
    "    else:\n",
    "        print(\"i will rent a car \")\n",
    "elif salary > 500:\n",
    "    print (\" i will buy a bike \")\n",
    "elif salary > 100:\n",
    "    print (\"i will not buy anything \")\n",
    "else:\n",
    "    print(\"i will go for saving \")"
   ]
  },
  {
   "cell_type": "code",
   "execution_count": 64,
   "id": "6649971e",
   "metadata": {},
   "outputs": [
    {
     "data": {
      "text/plain": [
       "False"
      ]
     },
     "execution_count": 64,
     "metadata": {},
     "output_type": "execute_result"
    }
   ],
   "source": [
    "salary > 5000"
   ]
  },
  {
   "cell_type": "code",
   "execution_count": 56,
   "id": "2f832edf",
   "metadata": {},
   "outputs": [
    {
     "name": "stdout",
     "output_type": "stream",
     "text": [
      "this statement is valid in elif\n"
     ]
    }
   ],
   "source": [
    "a = 10\n",
    "b =20\n",
    "if a==10 and b>20:\n",
    "    print(\"this is valid condition\")\n",
    "elif a==10 and b<=20:\n",
    "    print(\"this statement is valid in elif\")\n",
    "else:\n",
    "    print(\"condition is not valid\")"
   ]
  },
  {
   "cell_type": "code",
   "execution_count": 68,
   "id": "92fd3ea7",
   "metadata": {},
   "outputs": [
    {
     "name": "stdout",
     "output_type": "stream",
     "text": [
      "Driving speed of the customer: 150\n",
      "Highly trained professional Rider Driving speed \n"
     ]
    }
   ],
   "source": [
    "speed=int(input(\"Driving speed of the customer: \"))\n",
    "\n",
    "if 70 >speed>=50:\n",
    "    print(\"Normal people driving speed \")\n",
    "    \n",
    "elif 110 >speed>=70:\n",
    "    print (\"Semi-professional Rider driving speed \")\n",
    "    \n",
    "elif 150>speed>=110:\n",
    "    print(\"professional Rider Driving speed \")\n",
    "    \n",
    "elif speed>=150:\n",
    "    print(\"Highly trained professional Rider Driving speed \")\n",
    "    \n",
    "else:\n",
    "    print(\"Driver is beggainer\")"
   ]
  },
  {
   "cell_type": "code",
   "execution_count": 73,
   "id": "b1379a7f",
   "metadata": {},
   "outputs": [
    {
     "name": "stdout",
     "output_type": "stream",
     "text": [
      "this statement is valid in elif\n"
     ]
    }
   ],
   "source": [
    "a = 10\n",
    "b =20\n",
    "if a==11 or b>20:\n",
    "    print(\"this is valid condition\")\n",
    "elif a==10 and b<=20:\n",
    "    print(\"this statement is valid in elif\")\n",
    "else:\n",
    "    print(\"condition is not valid\")"
   ]
  },
  {
   "cell_type": "code",
   "execution_count": 75,
   "id": "5a064d24",
   "metadata": {},
   "outputs": [
    {
     "name": "stdout",
     "output_type": "stream",
     "text": [
      "my first name is vishal\n",
      "my last name is thorat\n",
      "correct name\n"
     ]
    }
   ],
   "source": [
    "x = input(\"my first name is \")\n",
    "y = input(\"my last name is \")\n",
    "if x==\"vishal\" and y==\"thorat\":\n",
    "    print (\"correct name\")\n",
    "elif x==\"Vishal\" and y==\"Thorat\":\n",
    "    print(\"correct, but fist letter is in Uppercase\")\n",
    "else:\n",
    "    print(\"wrong conditions\")"
   ]
  },
  {
   "cell_type": "code",
   "execution_count": 25,
   "id": "3b07a2c9",
   "metadata": {},
   "outputs": [
    {
     "name": "stdout",
     "output_type": "stream",
     "text": [
      "My speed is 0\n",
      "My speed is 1\n",
      "My speed is 2\n",
      "My speed is 3\n",
      "My speed is 4\n",
      "My speed is 5\n",
      "My speed is 6\n",
      "My speed is 7\n",
      "My speed is 8\n",
      "My speed is 9\n"
     ]
    }
   ],
   "source": [
    "initial_speed = 0\n",
    "final_speed=100\n",
    "#count = 1\n",
    "while initial_speed < final_speed:\n",
    "    print(\"My speed is\",initial_speed,)\n",
    "    initial_speed = initial_speed +1\n",
    "    if initial_speed ==10:\n",
    "        break"
   ]
  },
  {
   "cell_type": "code",
   "execution_count": 60,
   "id": "dca95bfe",
   "metadata": {},
   "outputs": [
    {
     "name": "stdout",
     "output_type": "stream",
     "text": [
      "No. of Rakesh is:  1\n",
      "No. of Rakesh is:  2\n",
      "No. of Rakesh is:  3\n",
      "No. of Rakesh is:  4\n",
      "No. of Rakesh is:  5\n",
      "No. of Rakesh is:  6\n",
      "No. of Rakesh is:  7\n",
      "No. of Rakesh is:  8\n",
      "No. of Rakesh is:  9\n",
      "No. of Rakesh is:  10\n",
      "No. of Rakesh is:  11\n",
      "Rakesh is 12 now\n"
     ]
    }
   ],
   "source": [
    "Rakesh = 1\n",
    "Dharma = 100\n",
    "\n",
    "while Rakesh < Dharma:\n",
    "    print(\"No. of Rakesh is: \",Rakesh)\n",
    "    \n",
    "    Rakesh = Rakesh+1\n",
    "    if Rakesh == 12:\n",
    "        print(\"Rakesh is 12 now\")\n",
    "        break"
   ]
  },
  {
   "cell_type": "code",
   "execution_count": 7,
   "id": "8a3105ed",
   "metadata": {},
   "outputs": [
    {
     "name": "stdout",
     "output_type": "stream",
     "text": [
      "Roll No:  1\n",
      "Roll No:  3\n",
      "Roll No:  5\n",
      "Roll No:  7\n",
      "Roll No:  9\n",
      "Roll No:  11\n",
      "Roll No:  13\n",
      "Roll No:  15\n",
      "Roll No:  17\n",
      "Roll No:  19\n"
     ]
    }
   ],
   "source": [
    "#Give odd Roll No.\n",
    "\n",
    "start_count = 1\n",
    "final_count =20\n",
    "\n",
    "while start_count <= final_count:\n",
    "    print(\"Roll No: \",start_count)\n",
    "    \n",
    "    start_count = start_count + 2\n",
    "    if start_count > final_count:\n",
    "        break"
   ]
  },
  {
   "cell_type": "code",
   "execution_count": 56,
   "id": "bda67cbb",
   "metadata": {},
   "outputs": [
    {
     "name": "stdout",
     "output_type": "stream",
     "text": [
      "0  is done\n",
      "1  is done\n",
      "2  is done\n",
      "3  is done\n",
      "4  is done\n",
      "5  is done\n",
      "6  is done\n",
      "7  is done\n",
      "8  is done\n",
      "9  is done\n"
     ]
    }
   ],
   "source": [
    "v=0\n",
    "d=10\n",
    "count=1\n",
    "while v<d:\n",
    "    print(v,\" is done\")\n",
    "    v=v+count"
   ]
  },
  {
   "cell_type": "code",
   "execution_count": 39,
   "id": "0c121119",
   "metadata": {},
   "outputs": [
    {
     "name": "stdout",
     "output_type": "stream",
     "text": [
      "0 1 2 3 4 5 6 7 8 9 "
     ]
    }
   ],
   "source": [
    "vishal=0\n",
    "shubhangi=10\n",
    "while vishal < shubhangi:\n",
    "    print (vishal,end=\" \")\n",
    "    vishal=vishal+1"
   ]
  },
  {
   "cell_type": "code",
   "execution_count": 9,
   "id": "c4017251",
   "metadata": {},
   "outputs": [
    {
     "name": "stdout",
     "output_type": "stream",
     "text": [
      "1\n",
      "2\n",
      "3\n",
      "4\n"
     ]
    }
   ],
   "source": [
    "i =1 \n",
    "j =5\n",
    "while i < j:\n",
    "    print (i)\n",
    "    i = i+1"
   ]
  },
  {
   "cell_type": "code",
   "execution_count": 25,
   "id": "612efd14",
   "metadata": {},
   "outputs": [
    {
     "name": "stdout",
     "output_type": "stream",
     "text": [
      "1\n",
      "2\n",
      "3\n",
      "4\n",
      "no 10 rs notes are available\n"
     ]
    }
   ],
   "source": [
    "#While loop\n",
    "notes = 5\n",
    "i = 1\n",
    "while i < notes:\n",
    "    print (i)\n",
    "    i+=1\n",
    "else:\n",
    "    print(\"no 10 rs notes are available\")"
   ]
  },
  {
   "cell_type": "code",
   "execution_count": 58,
   "id": "96d352ca",
   "metadata": {},
   "outputs": [
    {
     "name": "stdout",
     "output_type": "stream",
     "text": [
      "15\n",
      "16\n",
      "17\n",
      "18\n",
      "19\n",
      "vishal and shubhangi is equal now\n"
     ]
    }
   ],
   "source": [
    "vishal=15\n",
    "shubhangi=20\n",
    "\n",
    "while vishal<shubhangi:\n",
    "    print(vishal)\n",
    "    vishal=vishal+1\n",
    "    \n",
    "else:\n",
    "    print(\"vishal and shubhangi is equal now\")"
   ]
  },
  {
   "cell_type": "code",
   "execution_count": 42,
   "id": "2a514e30",
   "metadata": {},
   "outputs": [],
   "source": [
    "v =\"my name is vishal\""
   ]
  },
  {
   "cell_type": "code",
   "execution_count": 43,
   "id": "55e0392f",
   "metadata": {},
   "outputs": [
    {
     "data": {
      "text/plain": [
       "'m'"
      ]
     },
     "execution_count": 43,
     "metadata": {},
     "output_type": "execute_result"
    }
   ],
   "source": [
    "v[0]"
   ]
  },
  {
   "cell_type": "code",
   "execution_count": 44,
   "id": "632435cc",
   "metadata": {},
   "outputs": [
    {
     "data": {
      "text/plain": [
       "'l'"
      ]
     },
     "execution_count": 44,
     "metadata": {},
     "output_type": "execute_result"
    }
   ],
   "source": [
    "v[-1]"
   ]
  },
  {
   "cell_type": "code",
   "execution_count": 46,
   "id": "2e288556",
   "metadata": {},
   "outputs": [
    {
     "data": {
      "text/plain": [
       "'name is vishal'"
      ]
     },
     "execution_count": 46,
     "metadata": {},
     "output_type": "execute_result"
    }
   ],
   "source": [
    "v[3:50]"
   ]
  },
  {
   "cell_type": "code",
   "execution_count": 47,
   "id": "87aa220b",
   "metadata": {},
   "outputs": [
    {
     "data": {
      "text/plain": [
       "'nm s'"
      ]
     },
     "execution_count": 47,
     "metadata": {},
     "output_type": "execute_result"
    }
   ],
   "source": [
    "v[3:10:2]"
   ]
  },
  {
   "cell_type": "code",
   "execution_count": 48,
   "id": "6ad26b8d",
   "metadata": {},
   "outputs": [
    {
     "data": {
      "text/plain": [
       "' si eman'"
      ]
     },
     "execution_count": 48,
     "metadata": {},
     "output_type": "execute_result"
    }
   ],
   "source": [
    "v[10:2:-1]"
   ]
  },
  {
   "cell_type": "code",
   "execution_count": 49,
   "id": "98632a89",
   "metadata": {},
   "outputs": [
    {
     "data": {
      "text/plain": [
       "'my name is vishal'"
      ]
     },
     "execution_count": 49,
     "metadata": {},
     "output_type": "execute_result"
    }
   ],
   "source": [
    "v[::1]"
   ]
  },
  {
   "cell_type": "code",
   "execution_count": 68,
   "id": "314e9aeb",
   "metadata": {},
   "outputs": [],
   "source": [
    "v =\"my name is vishal \""
   ]
  },
  {
   "cell_type": "code",
   "execution_count": 69,
   "id": "38eb834b",
   "metadata": {},
   "outputs": [
    {
     "data": {
      "text/plain": [
       "'name is vishal'"
      ]
     },
     "execution_count": 69,
     "metadata": {},
     "output_type": "execute_result"
    }
   ],
   "source": [
    "v[3:-1]"
   ]
  },
  {
   "cell_type": "code",
   "execution_count": 70,
   "id": "8d44b95d",
   "metadata": {},
   "outputs": [
    {
     "data": {
      "text/plain": [
       "' name is vishal '"
      ]
     },
     "execution_count": 70,
     "metadata": {},
     "output_type": "execute_result"
    }
   ],
   "source": [
    "v[2::1]"
   ]
  },
  {
   "cell_type": "code",
   "execution_count": 71,
   "id": "7974c60c",
   "metadata": {},
   "outputs": [
    {
     "data": {
      "text/plain": [
       "'my name is vishal'"
      ]
     },
     "execution_count": 71,
     "metadata": {},
     "output_type": "execute_result"
    }
   ],
   "source": [
    "v[:-1:1]"
   ]
  },
  {
   "cell_type": "code",
   "execution_count": 11,
   "id": "d67d0e1f",
   "metadata": {},
   "outputs": [
    {
     "ename": "NameError",
     "evalue": "name 'v' is not defined",
     "output_type": "error",
     "traceback": [
      "\u001b[1;31m---------------------------------------------------------------------------\u001b[0m",
      "\u001b[1;31mNameError\u001b[0m                                 Traceback (most recent call last)",
      "Input \u001b[1;32mIn [11]\u001b[0m, in \u001b[0;36m<cell line: 1>\u001b[1;34m()\u001b[0m\n\u001b[1;32m----> 1\u001b[0m \u001b[43mv\u001b[49m\n",
      "\u001b[1;31mNameError\u001b[0m: name 'v' is not defined"
     ]
    }
   ],
   "source": [
    "v"
   ]
  },
  {
   "cell_type": "code",
   "execution_count": 73,
   "id": "94c49b58",
   "metadata": {},
   "outputs": [
    {
     "data": {
      "text/plain": [
       "' lahsiv si eman y'"
      ]
     },
     "execution_count": 73,
     "metadata": {},
     "output_type": "execute_result"
    }
   ],
   "source": [
    "v[17:0:-1]"
   ]
  },
  {
   "cell_type": "code",
   "execution_count": 74,
   "id": "071dc83f",
   "metadata": {},
   "outputs": [
    {
     "data": {
      "text/plain": [
       "str"
      ]
     },
     "execution_count": 74,
     "metadata": {},
     "output_type": "execute_result"
    }
   ],
   "source": [
    "type(v)"
   ]
  },
  {
   "cell_type": "code",
   "execution_count": 13,
   "id": "2d1ce03a",
   "metadata": {},
   "outputs": [],
   "source": [
    "v=\"my name is vishal\""
   ]
  },
  {
   "cell_type": "code",
   "execution_count": 14,
   "id": "53109469",
   "metadata": {},
   "outputs": [
    {
     "name": "stdout",
     "output_type": "stream",
     "text": [
      "m\n",
      "y\n",
      " \n",
      "n\n",
      "a\n",
      "m\n",
      "e\n",
      " \n",
      "i\n",
      "there is s\n",
      "s\n",
      " \n",
      "v\n",
      "i\n",
      "there is s\n",
      "s\n",
      "h\n",
      "a\n",
      "l\n"
     ]
    }
   ],
   "source": [
    "for i in v:\n",
    "    if i == 's':\n",
    "        print(\"there is s\")\n",
    "    print(i)"
   ]
  },
  {
   "cell_type": "code",
   "execution_count": 15,
   "id": "15a90ffa",
   "metadata": {},
   "outputs": [
    {
     "name": "stdout",
     "output_type": "stream",
     "text": [
      "y\n",
      " \n",
      "n\n",
      "a\n",
      "e\n",
      " \n",
      "s\n",
      "i\n",
      "s\n",
      " \n",
      "v\n",
      "s\n",
      "i\n",
      "s\n",
      "h\n",
      "a\n",
      "l\n",
      "this is else condition\n"
     ]
    }
   ],
   "source": [
    "for i in v:\n",
    "    if i==\"m\":\n",
    "        continue\n",
    "    elif i==\"i\":\n",
    "        print(\"s\")\n",
    "    print(i)\n",
    "else:\n",
    "    if i==\" \":\n",
    "        print(\"i am vishal\")\n",
    "    print(\"this is else condition\")"
   ]
  },
  {
   "cell_type": "code",
   "execution_count": 276,
   "id": "3aef9ed1",
   "metadata": {},
   "outputs": [
    {
     "name": "stdout",
     "output_type": "stream",
     "text": [
      "m\n",
      "y\n",
      " \n",
      "n\n",
      "a\n",
      "m\n",
      "e\n",
      " \n",
      "i\n",
      "s\n",
      " \n",
      "i\n",
      "s\n",
      "h\n",
      "a\n",
      "l\n",
      "this is else condition?\n"
     ]
    }
   ],
   "source": [
    "for i in v:\n",
    "    if i == \"v\":\n",
    "        continue\n",
    "    print (i)\n",
    "else:\n",
    "    if i == '':\n",
    "        print (\"last char is v\")\n",
    "    print(\"this is else condition?\")"
   ]
  },
  {
   "cell_type": "code",
   "execution_count": 75,
   "id": "fa9c1994",
   "metadata": {},
   "outputs": [
    {
     "data": {
      "text/plain": [
       "17"
      ]
     },
     "execution_count": 75,
     "metadata": {},
     "output_type": "execute_result"
    }
   ],
   "source": [
    "len(v)"
   ]
  },
  {
   "cell_type": "code",
   "execution_count": 87,
   "id": "006ceffe",
   "metadata": {},
   "outputs": [
    {
     "name": "stdout",
     "output_type": "stream",
     "text": [
      "kieuro\n"
     ]
    }
   ],
   "source": [
    "s = \"ineuron\"\n",
    "ss=\"k\"\n",
    "for i in range(len(s)):\n",
    "    if s[i]=='n':\n",
    "        continue\n",
    "    else:\n",
    "        ss= ss+ s[i]\n",
    "print(ss)"
   ]
  },
  {
   "cell_type": "code",
   "execution_count": 77,
   "id": "f90ce742",
   "metadata": {},
   "outputs": [
    {
     "data": {
      "text/plain": [
       "range(0, 7)"
      ]
     },
     "execution_count": 77,
     "metadata": {},
     "output_type": "execute_result"
    }
   ],
   "source": [
    "range(len(s))"
   ]
  },
  {
   "cell_type": "code",
   "execution_count": 7,
   "id": "d3f53121",
   "metadata": {},
   "outputs": [
    {
     "name": "stdout",
     "output_type": "stream",
     "text": [
      "mahindra 605 di\n"
     ]
    }
   ],
   "source": [
    "k=\"ah1indra 605 di\"\n",
    "j=\"m\"\n",
    "\n",
    "for i in range(len(k)):\n",
    "    if k[i]=='1':\n",
    "        pass\n",
    "    else:\n",
    "        j=j+k[i]\n",
    "print(j)"
   ]
  },
  {
   "cell_type": "code",
   "execution_count": 93,
   "id": "b5770e29",
   "metadata": {},
   "outputs": [
    {
     "name": "stdout",
     "output_type": "stream",
     "text": [
      " ishal itthal thorat\n"
     ]
    }
   ],
   "source": [
    "v=\"vishal vitthal thorat\"\n",
    "s=\" \"\n",
    "for i in range(len(v)):\n",
    "    if v[i]==\"v\":\n",
    "        pass\n",
    "    else:\n",
    "        s=s+v[i]\n",
    "print(s)"
   ]
  },
  {
   "cell_type": "code",
   "execution_count": 1,
   "id": "47ea90a9",
   "metadata": {},
   "outputs": [
    {
     "name": "stdout",
     "output_type": "stream",
     "text": [
      " +\n",
      " + +\n",
      " + + +\n",
      " + + + +\n",
      " + + + + +\n",
      " + + + + + +\n",
      " + + + + + + +\n"
     ]
    }
   ],
   "source": [
    "n=7\n",
    "for i in range(0,n):\n",
    "    for j in range(0, i+1):\n",
    "        print(\" +\", end=\"\")\n",
    "    print()\n",
    " "
   ]
  },
  {
   "cell_type": "code",
   "execution_count": 129,
   "id": "bfba3803",
   "metadata": {},
   "outputs": [
    {
     "name": "stdout",
     "output_type": "stream",
     "text": [
      "               +\n",
      "             + +\n",
      "           + + +\n",
      "         + + + +\n",
      "       + + + + +\n",
      "     + + + + + +\n",
      "   + + + + + + +\n"
     ]
    }
   ],
   "source": [
    "n=7\n",
    "for i in range(0,n):\n",
    "    for j in range(n-i):\n",
    "        print(\"  \",end=\"\")\n",
    "    for j in range(0,i+1):\n",
    "        print(\" +\",end=\"\")\n",
    "    print()"
   ]
  },
  {
   "cell_type": "code",
   "execution_count": 139,
   "id": "7d8a2ebe",
   "metadata": {},
   "outputs": [
    {
     "name": "stdout",
     "output_type": "stream",
     "text": [
      "  * * * * * * *\n",
      "   * * * * * *\n",
      "    * * * * *\n",
      "     * * * *\n",
      "      * * *\n",
      "       * *\n",
      "        *\n"
     ]
    }
   ],
   "source": [
    "n=7\n",
    "for i in range(0,n):\n",
    "    for j in range(i+1):\n",
    "        print(\" \",end=\"\")\n",
    "    for j in range(n-i):\n",
    "        print(\" *\",end=\"\")\n",
    "    print()"
   ]
  },
  {
   "cell_type": "code",
   "execution_count": 147,
   "id": "809d08be",
   "metadata": {},
   "outputs": [
    {
     "name": "stdout",
     "output_type": "stream",
     "text": [
      "       * \n",
      "      * * \n",
      "     * * * \n",
      "    * * * * \n",
      "   * * * * * \n",
      "  * * * * * * \n",
      " * * * * * * * \n"
     ]
    }
   ],
   "source": [
    "v=7\n",
    "for i in range(0,v):\n",
    "    for j in range(v-i):\n",
    "        print(\"\",end=\" \")\n",
    "    \n",
    "    for j in range(i+1):\n",
    "        print(\"*\",end=\" \")\n",
    "    print(\"\")"
   ]
  },
  {
   "cell_type": "code",
   "execution_count": 153,
   "id": "34127334",
   "metadata": {},
   "outputs": [
    {
     "name": "stdout",
     "output_type": "stream",
     "text": [
      "Enter number of rows: 7\n",
      "* * * * * * \n",
      " * * * * * \n",
      "  * * * * \n",
      "   * * * \n",
      "    * * \n",
      "     * \n",
      "      \n"
     ]
    }
   ],
   "source": [
    "n= int(input('Enter number of rows: '))\n",
    "\n",
    "for i in  range(n,0,-1):\n",
    "    for j in range(n-i):\n",
    "        print(\" \",end=\"\")\n",
    "        \n",
    "    for j in range(i-1):\n",
    "        print('* ',end='')\n",
    "    print()\n",
    "    "
   ]
  },
  {
   "cell_type": "code",
   "execution_count": 353,
   "id": "45daf4e7",
   "metadata": {},
   "outputs": [
    {
     "name": "stdout",
     "output_type": "stream",
     "text": [
      "          *\n",
      "         * *\n",
      "        * * *\n",
      "       * * * *\n",
      "      * * * * *\n",
      "     * * * * * *\n",
      "    * * * * * * *\n",
      "   * * * * * * * *\n",
      "  * * * * * * * * *\n",
      " * * * * * * * * * *\n"
     ]
    }
   ],
   "source": [
    "n=10\n",
    "i=0\n",
    "while i < n:\n",
    "    print(' '*(n-i-1)+ ' *'*(i+1))\n",
    "    i=i+1"
   ]
  },
  {
   "cell_type": "code",
   "execution_count": 85,
   "id": "8008e350",
   "metadata": {},
   "outputs": [
    {
     "name": "stdout",
     "output_type": "stream",
     "text": [
      "  * * * * * * * *\n",
      "   * * * * * * *\n",
      "    * * * * * *\n",
      "     * * * * *\n",
      "      * * * *\n",
      "       * * *\n",
      "        * *\n",
      "         *\n",
      "         \n"
     ]
    }
   ],
   "source": [
    "n=9\n",
    "i=0\n",
    "while i <n:\n",
    "    print(\" \"*(i+1) + \" *\"*(n-i-1))\n",
    "    \n",
    "    i+=1"
   ]
  },
  {
   "cell_type": "code",
   "execution_count": 92,
   "id": "2d48e89a",
   "metadata": {},
   "outputs": [
    {
     "name": "stdout",
     "output_type": "stream",
     "text": [
      "         *\n",
      "        * *\n",
      "       * * *\n",
      "      * * * *\n",
      "     * * * * *\n",
      "    * * * * * *\n",
      "   * * * * * * *\n",
      "  * * * * * * * *\n",
      " * * * * * * * * *\n"
     ]
    }
   ],
   "source": [
    "n=9\n",
    "i=0\n",
    "while i <n:\n",
    "    print(\" \"*(n-i-1) + \" *\"*(i+1))\n",
    "    \n",
    "    i+=1"
   ]
  },
  {
   "cell_type": "code",
   "execution_count": 131,
   "id": "7e4a66fd",
   "metadata": {},
   "outputs": [
    {
     "name": "stdout",
     "output_type": "stream",
     "text": [
      "No of rows: 7\n",
      " # # # # # # # \n",
      "  # # # # # # \n",
      "   # # # # # \n",
      "    # # # # \n",
      "     # # # \n",
      "      # # \n",
      "       # \n"
     ]
    }
   ],
   "source": [
    "n=int(input(\"No of rows: \"))\n",
    "i=0\n",
    "\n",
    "while i<n:\n",
    "    print(\" \"*(i+1)+ \"# \"*(n-i))\n",
    "    i=i+1"
   ]
  },
  {
   "cell_type": "code",
   "execution_count": 365,
   "id": "57c50991",
   "metadata": {},
   "outputs": [
    {
     "name": "stdout",
     "output_type": "stream",
     "text": [
      "       + \n",
      "      + + \n",
      "     + + + \n",
      "    + + + + \n",
      "   + + + + + \n",
      "  + + + + + + \n",
      " + + + + + + + \n"
     ]
    }
   ],
   "source": [
    "n=7\n",
    "\n",
    "for i in range(0,n,1):\n",
    "    for j in range(n-i):\n",
    "        print('',end=' ')\n",
    "      \n",
    "    for j in range(i+1):\n",
    "        print('+ ',end='')\n",
    "    print()"
   ]
  },
  {
   "cell_type": "code",
   "execution_count": 66,
   "id": "4685729a",
   "metadata": {},
   "outputs": [
    {
     "name": "stdout",
     "output_type": "stream",
     "text": [
      "              * \n",
      "\n",
      "            * * * \n",
      "\n",
      "          * * * * * \n",
      "\n",
      "        * * * * * * * \n",
      "\n",
      "      * * * * * * * * * \n",
      "\n",
      "    * * * * * * * * * * * \n",
      "\n",
      "  * * * * * * * * * * * * * \n",
      "\n"
     ]
    }
   ],
   "source": [
    "n = 7\n",
    "\n",
    "for i in range(0,n,1):\n",
    "    for j in range(n-i):\n",
    "        print(\" \",end=\" \")\n",
    "    \n",
    "    for j in range(2*i+1):\n",
    "        print(\"*\", end=\" \")\n",
    "    print(\"\\n\")"
   ]
  },
  {
   "cell_type": "code",
   "execution_count": 359,
   "id": "84bb24d5",
   "metadata": {},
   "outputs": [
    {
     "name": "stdout",
     "output_type": "stream",
     "text": [
      "+  +  +  +  +  +  +  +  +  +  +  +  +  \n",
      "\n",
      "   +  +  +  +  +  +  +  +  +  +  +  \n",
      "\n",
      "      +  +  +  +  +  +  +  +  +  \n",
      "\n",
      "         +  +  +  +  +  +  +  \n",
      "\n",
      "            +  +  +  +  +  \n",
      "\n",
      "               +  +  +  \n",
      "\n",
      "                  +  \n",
      "\n"
     ]
    }
   ],
   "source": [
    "n=7\n",
    "for i in range(n,0,-1):\n",
    "    for j in range(n-i):\n",
    "        print(\"  \", end=\" \")\n",
    "    for j in range(2*i-1):\n",
    "        print(\"+ \", end=\" \")\n",
    "    print(\"\\n\")\n",
    " "
   ]
  },
  {
   "cell_type": "code",
   "execution_count": 367,
   "id": "9ebcd1dd",
   "metadata": {},
   "outputs": [
    {
     "name": "stdout",
     "output_type": "stream",
     "text": [
      "Enter number of rows: 7\n",
      "              * \n",
      "            * * * \n",
      "          * * * * * \n",
      "        * * * * * * * \n",
      "      * * * * * * * * * \n",
      "    * * * * * * * * * * * \n",
      "  * * * * * * * * * * * * * \n"
     ]
    }
   ],
   "source": [
    "n= int(input('Enter number of rows: '))\n",
    "\n",
    "for i in  range(0,n,1):\n",
    "    for j in range(n-i):\n",
    "        print(\" \",end=\" \")\n",
    "        \n",
    "    for j in range(2*i+1):\n",
    "        print('*',end=' ')\n",
    "    print()"
   ]
  },
  {
   "cell_type": "code",
   "execution_count": 108,
   "id": "e85ab930",
   "metadata": {},
   "outputs": [
    {
     "name": "stdout",
     "output_type": "stream",
     "text": [
      "                  * * * * * * * * * * * \n",
      "                   * * * * * * * * * * \n",
      "                    * * * * * * * * * \n",
      "                     * * * * * * * * \n",
      "                      * * * * * * * \n",
      "                       * * * * * * \n",
      "                        * * * * * \n",
      "                         * * * * \n",
      "                          * * * \n",
      "                           * * \n",
      "                            * \n"
     ]
    }
   ],
   "source": [
    "n = 10\n",
    "m = 2*n-2\n",
    "for i in range(n,-1,-1):\n",
    "    for j in range(m,0,-1):\n",
    "        print(\"\",end=\" \")\n",
    "    m=m+1\n",
    "    for j in range(0,i+1):\n",
    "        print( \"* \",end=\"\")\n",
    "    print(\"\")"
   ]
  },
  {
   "cell_type": "code",
   "execution_count": 16,
   "id": "fab40596",
   "metadata": {},
   "outputs": [],
   "source": [
    "l = [\"vdgxjh\",8798 ,\"bdish\",\"vishal\", 9322 ,[9,9,2]]"
   ]
  },
  {
   "cell_type": "code",
   "execution_count": 17,
   "id": "09757e59",
   "metadata": {},
   "outputs": [
    {
     "data": {
      "text/plain": [
       "6"
      ]
     },
     "execution_count": 17,
     "metadata": {},
     "output_type": "execute_result"
    }
   ],
   "source": [
    "len(l)"
   ]
  },
  {
   "cell_type": "code",
   "execution_count": 18,
   "id": "2566b45e",
   "metadata": {},
   "outputs": [
    {
     "data": {
      "text/plain": [
       "list"
      ]
     },
     "execution_count": 18,
     "metadata": {},
     "output_type": "execute_result"
    }
   ],
   "source": [
    "type(l)"
   ]
  },
  {
   "cell_type": "code",
   "execution_count": 19,
   "id": "76e468e1",
   "metadata": {},
   "outputs": [
    {
     "name": "stdout",
     "output_type": "stream",
     "text": [
      "20\n",
      "<class 'int'>\n"
     ]
    }
   ],
   "source": [
    "for i in l:\n",
    "    if type(i) ==list:\n",
    "        n=0\n",
    "        for j in i:\n",
    "            if type(j) == int:\n",
    "                n = n+j\n",
    "        print(n)\n",
    "        \n",
    "        print(type(j))\n",
    "        \n",
    "            "
   ]
  },
  {
   "cell_type": "code",
   "execution_count": 99,
   "id": "60d55738",
   "metadata": {},
   "outputs": [],
   "source": [
    "l = [\"vdgxjh\",8798,\"bdish\",\"vishal\",92,[9,9,2,\"thorat\",\"shubha\"]]"
   ]
  },
  {
   "cell_type": "code",
   "execution_count": 100,
   "id": "0b749b02",
   "metadata": {},
   "outputs": [
    {
     "data": {
      "text/plain": [
       "['vdgxjh', 8798, 'bdish', 'vishal', 92, [9, 9, 2, 'thorat', 'shubha']]"
      ]
     },
     "execution_count": 100,
     "metadata": {},
     "output_type": "execute_result"
    }
   ],
   "source": [
    "\n",
    "l[0:80:1]"
   ]
  },
  {
   "cell_type": "code",
   "execution_count": 444,
   "id": "26bdc574",
   "metadata": {},
   "outputs": [
    {
     "name": "stdout",
     "output_type": "stream",
     "text": [
      "0\n",
      "1\n",
      "2\n",
      "3\n",
      "4\n",
      "5\n",
      "6\n",
      "7\n",
      "8\n",
      "9\n"
     ]
    }
   ],
   "source": [
    "for i in range(0,10):\n",
    "    print(i)"
   ]
  },
  {
   "cell_type": "code",
   "execution_count": 15,
   "id": "a28df314",
   "metadata": {},
   "outputs": [
    {
     "data": {
      "text/plain": [
       "[0, 1, 2, 3, 4, 5, 6, 7, 8, 9]"
      ]
     },
     "execution_count": 15,
     "metadata": {},
     "output_type": "execute_result"
    }
   ],
   "source": [
    "list(range(10))"
   ]
  },
  {
   "cell_type": "code",
   "execution_count": 16,
   "id": "ec2aef85",
   "metadata": {},
   "outputs": [
    {
     "data": {
      "text/plain": [
       "range(0, 10)"
      ]
     },
     "execution_count": 16,
     "metadata": {},
     "output_type": "execute_result"
    }
   ],
   "source": [
    "range(10)"
   ]
  },
  {
   "cell_type": "code",
   "execution_count": 17,
   "id": "e3c31f17",
   "metadata": {},
   "outputs": [
    {
     "data": {
      "text/plain": [
       "6"
      ]
     },
     "execution_count": 17,
     "metadata": {},
     "output_type": "execute_result"
    }
   ],
   "source": [
    "len(l)"
   ]
  },
  {
   "cell_type": "code",
   "execution_count": 22,
   "id": "0db3981d",
   "metadata": {},
   "outputs": [
    {
     "name": "stdout",
     "output_type": "stream",
     "text": [
      "vishal"
     ]
    }
   ],
   "source": [
    "string=\"vishal\"\n",
    "for i in string:\n",
    "    print(i,end=\"\")"
   ]
  },
  {
   "cell_type": "code",
   "execution_count": 405,
   "id": "2ce6062c",
   "metadata": {},
   "outputs": [
    {
     "name": "stdout",
     "output_type": "stream",
     "text": [
      "*\n",
      "*\n",
      "*\n",
      "*\n",
      "*\n"
     ]
    }
   ],
   "source": [
    "for i in range (5):\n",
    "    print(\"*\",end= \"\\n\")"
   ]
  },
  {
   "cell_type": "code",
   "execution_count": 28,
   "id": "18262e60",
   "metadata": {},
   "outputs": [
    {
     "name": "stdout",
     "output_type": "stream",
     "text": [
      "* * * * * * * * * * "
     ]
    }
   ],
   "source": [
    "for i in range (10):\n",
    "    print(\"*\",end= \" \")"
   ]
  },
  {
   "cell_type": "code",
   "execution_count": 33,
   "id": "94fc081e",
   "metadata": {},
   "outputs": [],
   "source": [
    "lst=[1,2,3,4]"
   ]
  },
  {
   "cell_type": "code",
   "execution_count": 37,
   "id": "1ee855ba",
   "metadata": {},
   "outputs": [
    {
     "name": "stdout",
     "output_type": "stream",
     "text": [
      "1\n",
      "2\n",
      "3\n",
      "4\n"
     ]
    }
   ],
   "source": [
    "for i  in lst:\n",
    "    print(i)"
   ]
  },
  {
   "cell_type": "code",
   "execution_count": 106,
   "id": "9fa62d41",
   "metadata": {},
   "outputs": [
    {
     "name": "stdout",
     "output_type": "stream",
     "text": [
      "Enter number of rows: 7\n",
      "* * * * * * * * * * * * * \n",
      "  * * * * * * * * * * * \n",
      "    * * * * * * * * * \n",
      "      * * * * * * * \n",
      "        * * * * * \n",
      "          * * * \n",
      "            * \n"
     ]
    }
   ],
   "source": [
    "n= int(input('Enter number of rows: '))\n",
    "\n",
    "for i in  range(n,0,-1):\n",
    "    for j in range(n-i):\n",
    "        print(\" \",end=\" \")\n",
    "        \n",
    "    for j in range(2*i-1):\n",
    "        print('*',end=' ')\n",
    "    print()"
   ]
  },
  {
   "cell_type": "code",
   "execution_count": 107,
   "id": "54f23abe",
   "metadata": {},
   "outputs": [],
   "source": [
    "v=\"my name is vishal , this is my full stack data analyst class\""
   ]
  },
  {
   "cell_type": "code",
   "execution_count": 111,
   "id": "3762ed0d",
   "metadata": {},
   "outputs": [
    {
     "data": {
      "text/plain": [
       "'ssalc tsy'"
      ]
     },
     "execution_count": 111,
     "metadata": {},
     "output_type": "execute_result"
    }
   ],
   "source": [
    "v[-1:-10:-1]"
   ]
  },
  {
   "cell_type": "code",
   "execution_count": 112,
   "id": "feceda82",
   "metadata": {},
   "outputs": [
    {
     "data": {
      "text/plain": [
       "'my name is vishal , this is my full stack data analyst class'"
      ]
     },
     "execution_count": 112,
     "metadata": {},
     "output_type": "execute_result"
    }
   ],
   "source": [
    "v"
   ]
  },
  {
   "cell_type": "code",
   "execution_count": 117,
   "id": "c9f3c720",
   "metadata": {},
   "outputs": [
    {
     "name": "stdout",
     "output_type": "stream",
     "text": [
      "my name is vishal , this is my full stack data analyst class"
     ]
    }
   ],
   "source": [
    "for i in v:\n",
    "    print(i, end=\"\")"
   ]
  },
  {
   "cell_type": "code",
   "execution_count": 119,
   "id": "89472839",
   "metadata": {},
   "outputs": [],
   "source": [
    "l=[\"thorat\",9898,7676,7676.878]"
   ]
  },
  {
   "cell_type": "code",
   "execution_count": 122,
   "id": "e7991ab4",
   "metadata": {},
   "outputs": [],
   "source": [
    "l[0]=\"vishal\""
   ]
  },
  {
   "cell_type": "code",
   "execution_count": 123,
   "id": "2abfb53c",
   "metadata": {},
   "outputs": [
    {
     "data": {
      "text/plain": [
       "['vishal', 9898, 7676, 7676.878]"
      ]
     },
     "execution_count": 123,
     "metadata": {},
     "output_type": "execute_result"
    }
   ],
   "source": [
    "l"
   ]
  },
  {
   "cell_type": "code",
   "execution_count": 124,
   "id": "c5894b51",
   "metadata": {},
   "outputs": [
    {
     "data": {
      "text/plain": [
       "'vishalthorat'"
      ]
     },
     "execution_count": 124,
     "metadata": {},
     "output_type": "execute_result"
    }
   ],
   "source": [
    "\"vishal\"+ 'thorat'"
   ]
  },
  {
   "cell_type": "code",
   "execution_count": 126,
   "id": "3ffd74b5",
   "metadata": {},
   "outputs": [
    {
     "data": {
      "text/plain": [
       "'vishal vishal vishal vishal vishal '"
      ]
     },
     "execution_count": 126,
     "metadata": {},
     "output_type": "execute_result"
    }
   ],
   "source": [
    "\"vishal \"*5"
   ]
  },
  {
   "cell_type": "code",
   "execution_count": 3,
   "id": "be3372b6",
   "metadata": {},
   "outputs": [],
   "source": [
    "v= \"my name is vishal thorat , i am vishal from satara\""
   ]
  },
  {
   "cell_type": "code",
   "execution_count": 4,
   "id": "eb57644f",
   "metadata": {},
   "outputs": [
    {
     "data": {
      "text/plain": [
       "'my name is vishal thorat , i am vishal from satara'"
      ]
     },
     "execution_count": 4,
     "metadata": {},
     "output_type": "execute_result"
    }
   ],
   "source": [
    "v"
   ]
  },
  {
   "cell_type": "code",
   "execution_count": 5,
   "id": "c7414589",
   "metadata": {},
   "outputs": [
    {
     "data": {
      "text/plain": [
       "3"
      ]
     },
     "execution_count": 5,
     "metadata": {},
     "output_type": "execute_result"
    }
   ],
   "source": [
    "v.find(\"name\")"
   ]
  },
  {
   "cell_type": "code",
   "execution_count": 6,
   "id": "089187b6",
   "metadata": {},
   "outputs": [
    {
     "name": "stdout",
     "output_type": "stream",
     "text": [
      "11 12 13 14 15 16 "
     ]
    }
   ],
   "source": [
    "b=v.find(\"vishal\")\n",
    "for i in range(len(\"vishal\")):\n",
    "    continue\n",
    "for i in range(len(\"vishal\")):\n",
    "        print(b+i,end=' ')"
   ]
  },
  {
   "cell_type": "code",
   "execution_count": 7,
   "id": "c0a3f5df",
   "metadata": {},
   "outputs": [
    {
     "data": {
      "text/plain": [
       "'my name is vishal thorat , i am vishal from satara'"
      ]
     },
     "execution_count": 7,
     "metadata": {},
     "output_type": "execute_result"
    }
   ],
   "source": [
    "v"
   ]
  },
  {
   "cell_type": "code",
   "execution_count": 490,
   "id": "1d25c96b",
   "metadata": {},
   "outputs": [
    {
     "name": "stdout",
     "output_type": "stream",
     "text": [
      "8 9 "
     ]
    }
   ],
   "source": [
    "s=v.find(\"is\")\n",
    "for i in range(len(\"is\")):\n",
    "    print(s+i,end=\" \")"
   ]
  },
  {
   "cell_type": "code",
   "execution_count": 512,
   "id": "9c4da0b3",
   "metadata": {},
   "outputs": [
    {
     "data": {
      "text/plain": [
       "2"
      ]
     },
     "execution_count": 512,
     "metadata": {},
     "output_type": "execute_result"
    }
   ],
   "source": [
    "v.count(\"vishal\")"
   ]
  },
  {
   "cell_type": "code",
   "execution_count": 481,
   "id": "a3aeaf98",
   "metadata": {},
   "outputs": [],
   "source": [
    "v= 'my name is, my Name is Thorat'"
   ]
  },
  {
   "cell_type": "code",
   "execution_count": 184,
   "id": "a5068ba8",
   "metadata": {},
   "outputs": [
    {
     "data": {
      "text/plain": [
       "'my name is, my Name is Thorat'"
      ]
     },
     "execution_count": 184,
     "metadata": {},
     "output_type": "execute_result"
    }
   ],
   "source": [
    "v"
   ]
  },
  {
   "cell_type": "code",
   "execution_count": 185,
   "id": "310e2bfc",
   "metadata": {},
   "outputs": [
    {
     "data": {
      "text/plain": [
       "1"
      ]
     },
     "execution_count": 185,
     "metadata": {},
     "output_type": "execute_result"
    }
   ],
   "source": [
    "v.count(\"name\")"
   ]
  },
  {
   "cell_type": "code",
   "execution_count": 186,
   "id": "acb66a8f",
   "metadata": {},
   "outputs": [
    {
     "data": {
      "text/plain": [
       "['my name is', ' my Name is Thorat']"
      ]
     },
     "execution_count": 186,
     "metadata": {},
     "output_type": "execute_result"
    }
   ],
   "source": [
    "v.split(\",\")"
   ]
  },
  {
   "cell_type": "code",
   "execution_count": 187,
   "id": "cefb31ce",
   "metadata": {},
   "outputs": [
    {
     "data": {
      "text/plain": [
       "'MY NAME IS, MY NAME IS THORAT'"
      ]
     },
     "execution_count": 187,
     "metadata": {},
     "output_type": "execute_result"
    }
   ],
   "source": [
    "v.upper()"
   ]
  },
  {
   "cell_type": "code",
   "execution_count": 188,
   "id": "29b248ef",
   "metadata": {},
   "outputs": [
    {
     "data": {
      "text/plain": [
       "'my name is, my name is thorat'"
      ]
     },
     "execution_count": 188,
     "metadata": {},
     "output_type": "execute_result"
    }
   ],
   "source": [
    "v.lower()"
   ]
  },
  {
   "cell_type": "code",
   "execution_count": 191,
   "id": "2d11e454",
   "metadata": {},
   "outputs": [
    {
     "data": {
      "text/plain": [
       "'MY NAME IS, MY nAME IS tHORAT'"
      ]
     },
     "execution_count": 191,
     "metadata": {},
     "output_type": "execute_result"
    }
   ],
   "source": [
    "v.swapcase()"
   ]
  },
  {
   "cell_type": "code",
   "execution_count": 525,
   "id": "9972878d",
   "metadata": {},
   "outputs": [
    {
     "data": {
      "text/plain": [
       "'m y   n a m e   i s   v i s h a l   t h o r a t   ,   i   a m   v i s h a l   f r o m   s a t a r a'"
      ]
     },
     "execution_count": 525,
     "metadata": {},
     "output_type": "execute_result"
    }
   ],
   "source": [
    "\" \".join(v)"
   ]
  },
  {
   "cell_type": "code",
   "execution_count": 526,
   "id": "e12c726e",
   "metadata": {},
   "outputs": [
    {
     "data": {
      "text/plain": [
       "'my name is vishal thorat , i am vishal from satara'"
      ]
     },
     "execution_count": 526,
     "metadata": {},
     "output_type": "execute_result"
    }
   ],
   "source": [
    "v"
   ]
  },
  {
   "cell_type": "code",
   "execution_count": 527,
   "id": "3fea858b",
   "metadata": {},
   "outputs": [
    {
     "name": "stdout",
     "output_type": "stream",
     "text": [
      "aratas morf lahsiv ma i , taroht lahsiv si eman ym"
     ]
    }
   ],
   "source": [
    "for i in reversed(v):\n",
    "    print(i, end=\"\")"
   ]
  },
  {
   "cell_type": "code",
   "execution_count": 528,
   "id": "578f3b7f",
   "metadata": {},
   "outputs": [
    {
     "data": {
      "text/plain": [
       "'aratas morf lahsiv ma i , taroht lahsiv si eman ym'"
      ]
     },
     "execution_count": 528,
     "metadata": {},
     "output_type": "execute_result"
    }
   ],
   "source": [
    "v[::-1]"
   ]
  },
  {
   "cell_type": "code",
   "execution_count": 532,
   "id": "c4121b0e",
   "metadata": {},
   "outputs": [],
   "source": [
    "v=\"  vish   \""
   ]
  },
  {
   "cell_type": "code",
   "execution_count": 533,
   "id": "a4b4aa56",
   "metadata": {},
   "outputs": [
    {
     "data": {
      "text/plain": [
       "'  vish   '"
      ]
     },
     "execution_count": 533,
     "metadata": {},
     "output_type": "execute_result"
    }
   ],
   "source": [
    "v"
   ]
  },
  {
   "cell_type": "code",
   "execution_count": 534,
   "id": "fa541267",
   "metadata": {},
   "outputs": [
    {
     "data": {
      "text/plain": [
       "'vish'"
      ]
     },
     "execution_count": 534,
     "metadata": {},
     "output_type": "execute_result"
    }
   ],
   "source": [
    "v.strip()"
   ]
  },
  {
   "cell_type": "code",
   "execution_count": 535,
   "id": "b9775632",
   "metadata": {},
   "outputs": [
    {
     "data": {
      "text/plain": [
       "'vish   '"
      ]
     },
     "execution_count": 535,
     "metadata": {},
     "output_type": "execute_result"
    }
   ],
   "source": [
    "v.lstrip()"
   ]
  },
  {
   "cell_type": "code",
   "execution_count": 536,
   "id": "60e69f13",
   "metadata": {},
   "outputs": [
    {
     "data": {
      "text/plain": [
       "'  vish'"
      ]
     },
     "execution_count": 536,
     "metadata": {},
     "output_type": "execute_result"
    }
   ],
   "source": [
    "v.rstrip()"
   ]
  },
  {
   "cell_type": "code",
   "execution_count": 540,
   "id": "6b401f1d",
   "metadata": {},
   "outputs": [],
   "source": [
    "v=\"my name of the class is ineuron\""
   ]
  },
  {
   "cell_type": "code",
   "execution_count": 541,
   "id": "2fbdb1ad",
   "metadata": {},
   "outputs": [],
   "source": [
    "v=v.replace('name','vishal')"
   ]
  },
  {
   "cell_type": "code",
   "execution_count": 542,
   "id": "8caa7345",
   "metadata": {},
   "outputs": [
    {
     "data": {
      "text/plain": [
       "'my vishal of the class is ineuron'"
      ]
     },
     "execution_count": 542,
     "metadata": {},
     "output_type": "execute_result"
    }
   ],
   "source": [
    "v"
   ]
  },
  {
   "cell_type": "code",
   "execution_count": 543,
   "id": "0314f6cc",
   "metadata": {},
   "outputs": [],
   "source": [
    "v=\"vish\""
   ]
  },
  {
   "cell_type": "code",
   "execution_count": 544,
   "id": "d4b5dfe6",
   "metadata": {},
   "outputs": [
    {
     "data": {
      "text/plain": [
       "'++++++vish+++++'"
      ]
     },
     "execution_count": 544,
     "metadata": {},
     "output_type": "execute_result"
    }
   ],
   "source": [
    "v.center(15,\"+\")"
   ]
  },
  {
   "cell_type": "code",
   "execution_count": 545,
   "id": "1ceee427",
   "metadata": {},
   "outputs": [],
   "source": [
    "v=\"vishal\\tthorat\""
   ]
  },
  {
   "cell_type": "code",
   "execution_count": 546,
   "id": "e32df3cf",
   "metadata": {},
   "outputs": [
    {
     "data": {
      "text/plain": [
       "'vishal  thorat'"
      ]
     },
     "execution_count": 546,
     "metadata": {},
     "output_type": "execute_result"
    }
   ],
   "source": [
    "v.expandtabs()"
   ]
  },
  {
   "cell_type": "code",
   "execution_count": 547,
   "id": "59d72951",
   "metadata": {},
   "outputs": [],
   "source": [
    "a=\"we all are a part of Full Stack\""
   ]
  },
  {
   "cell_type": "code",
   "execution_count": 548,
   "id": "c7b8ed7d",
   "metadata": {},
   "outputs": [
    {
     "data": {
      "text/plain": [
       "'we all are a part of Full Stack'"
      ]
     },
     "execution_count": 548,
     "metadata": {},
     "output_type": "execute_result"
    }
   ],
   "source": [
    "a"
   ]
  },
  {
   "cell_type": "code",
   "execution_count": 549,
   "id": "fda05ea6",
   "metadata": {},
   "outputs": [
    {
     "data": {
      "text/plain": [
       "'we all are a part of full stack'"
      ]
     },
     "execution_count": 549,
     "metadata": {},
     "output_type": "execute_result"
    }
   ],
   "source": [
    "a.lower()"
   ]
  },
  {
   "cell_type": "code",
   "execution_count": 550,
   "id": "e7a67d26",
   "metadata": {},
   "outputs": [
    {
     "data": {
      "text/plain": [
       "5"
      ]
     },
     "execution_count": 550,
     "metadata": {},
     "output_type": "execute_result"
    }
   ],
   "source": [
    "a.count(\"a\")"
   ]
  },
  {
   "cell_type": "code",
   "execution_count": 552,
   "id": "c0587fd0",
   "metadata": {},
   "outputs": [
    {
     "name": "stdout",
     "output_type": "stream",
     "text": [
      "8 15 "
     ]
    }
   ],
   "source": [
    "for i in range(len(a)):\n",
    "    if(a[i]==\"r\"):\n",
    "        print(i,end=\" \")"
   ]
  },
  {
   "cell_type": "code",
   "execution_count": 553,
   "id": "92851109",
   "metadata": {},
   "outputs": [
    {
     "data": {
      "text/plain": [
       "31"
      ]
     },
     "execution_count": 553,
     "metadata": {},
     "output_type": "execute_result"
    }
   ],
   "source": [
    "len(a)"
   ]
  },
  {
   "cell_type": "code",
   "execution_count": 554,
   "id": "6f6feb57",
   "metadata": {},
   "outputs": [
    {
     "data": {
      "text/plain": [
       "'we ineuronll ineuronre ineuron pineuronrt of Full Stineuronck'"
      ]
     },
     "execution_count": 554,
     "metadata": {},
     "output_type": "execute_result"
    }
   ],
   "source": [
    "a.replace('a','ineuron')"
   ]
  },
  {
   "cell_type": "code",
   "execution_count": 555,
   "id": "573fed26",
   "metadata": {},
   "outputs": [
    {
     "data": {
      "text/plain": [
       "['we', 'all', 'are', 'a', 'part', 'of', 'Full', 'Stack']"
      ]
     },
     "execution_count": 555,
     "metadata": {},
     "output_type": "execute_result"
    }
   ],
   "source": [
    "a.split()"
   ]
  },
  {
   "cell_type": "code",
   "execution_count": 558,
   "id": "2965b0c6",
   "metadata": {},
   "outputs": [
    {
     "name": "stdout",
     "output_type": "stream",
     "text": [
      "we all are a part of full stack\n",
      "count of a is : 5\n",
      "3\n",
      "7\n",
      "11\n",
      "14\n",
      "28\n",
      "we ineuronll ineuronre ineuron pineuronrt of Full Stineuronck\n"
     ]
    },
    {
     "data": {
      "text/plain": [
       "['we', 'all', 'are', 'a', 'part', 'of', 'Full', 'Stack']"
      ]
     },
     "execution_count": 558,
     "metadata": {},
     "output_type": "execute_result"
    }
   ],
   "source": [
    "a=\"we all are a part of Full Stack\"\n",
    "b=a.lower()\n",
    "print(b)\n",
    "\n",
    "c=a.count(\"a\")\n",
    "print(\"count of a is :\",c)\n",
    "\n",
    "for i in range(len(a)):\n",
    "    if(a[i]==\"a\"):\n",
    "        print(i)\n",
    "        \n",
    "d=a.replace('a','ineuron')\n",
    "print(d)\n",
    "\n",
    "a.split()"
   ]
  },
  {
   "cell_type": "code",
   "execution_count": 562,
   "id": "25ea9074",
   "metadata": {},
   "outputs": [],
   "source": [
    "v=\"vishal thorat\""
   ]
  },
  {
   "cell_type": "code",
   "execution_count": 563,
   "id": "673f2e67",
   "metadata": {},
   "outputs": [
    {
     "data": {
      "text/plain": [
       "True"
      ]
     },
     "execution_count": 563,
     "metadata": {},
     "output_type": "execute_result"
    }
   ],
   "source": [
    "v.islower()"
   ]
  },
  {
   "cell_type": "code",
   "execution_count": 564,
   "id": "a0bc8271",
   "metadata": {},
   "outputs": [
    {
     "data": {
      "text/plain": [
       "False"
      ]
     },
     "execution_count": 564,
     "metadata": {},
     "output_type": "execute_result"
    }
   ],
   "source": [
    "v.isupper()"
   ]
  },
  {
   "cell_type": "code",
   "execution_count": 565,
   "id": "03fb0c4f",
   "metadata": {},
   "outputs": [
    {
     "data": {
      "text/plain": [
       "False"
      ]
     },
     "execution_count": 565,
     "metadata": {},
     "output_type": "execute_result"
    }
   ],
   "source": [
    "v.isdigit()"
   ]
  },
  {
   "cell_type": "code",
   "execution_count": 566,
   "id": "d5494cc5",
   "metadata": {},
   "outputs": [
    {
     "data": {
      "text/plain": [
       "True"
      ]
     },
     "execution_count": 566,
     "metadata": {},
     "output_type": "execute_result"
    }
   ],
   "source": [
    "v.startswith('v')"
   ]
  },
  {
   "cell_type": "code",
   "execution_count": 568,
   "id": "e993e99e",
   "metadata": {},
   "outputs": [
    {
     "data": {
      "text/plain": [
       "True"
      ]
     },
     "execution_count": 568,
     "metadata": {},
     "output_type": "execute_result"
    }
   ],
   "source": [
    "v.endswith('t')"
   ]
  },
  {
   "cell_type": "code",
   "execution_count": 569,
   "id": "8cb3848c",
   "metadata": {},
   "outputs": [
    {
     "data": {
      "text/plain": [
       "False"
      ]
     },
     "execution_count": 569,
     "metadata": {},
     "output_type": "execute_result"
    }
   ],
   "source": [
    "v.isalnum()"
   ]
  },
  {
   "cell_type": "code",
   "execution_count": 572,
   "id": "de47f374",
   "metadata": {},
   "outputs": [
    {
     "data": {
      "text/plain": [
       "False"
      ]
     },
     "execution_count": 572,
     "metadata": {},
     "output_type": "execute_result"
    }
   ],
   "source": [
    "v.istitle()"
   ]
  },
  {
   "cell_type": "code",
   "execution_count": 573,
   "id": "92beced2",
   "metadata": {},
   "outputs": [
    {
     "data": {
      "text/plain": [
       "13"
      ]
     },
     "execution_count": 573,
     "metadata": {},
     "output_type": "execute_result"
    }
   ],
   "source": [
    "len(v)"
   ]
  },
  {
   "cell_type": "code",
   "execution_count": 574,
   "id": "8662818f",
   "metadata": {},
   "outputs": [],
   "source": [
    "v=\"this is a full stack batch\""
   ]
  },
  {
   "cell_type": "code",
   "execution_count": 575,
   "id": "ce264ec9",
   "metadata": {},
   "outputs": [
    {
     "name": "stdout",
     "output_type": "stream",
     "text": [
      "26\n"
     ]
    }
   ],
   "source": [
    "count = 0\n",
    "for i in v:\n",
    "    count=count+1\n",
    "print(count)"
   ]
  },
  {
   "cell_type": "code",
   "execution_count": 578,
   "id": "d7c22acb",
   "metadata": {},
   "outputs": [
    {
     "name": "stdout",
     "output_type": "stream",
     "text": [
      "h c t a b   k c a t s   l l u f   a   s i   s i h "
     ]
    }
   ],
   "source": [
    "for i in range(1,len(v)):\n",
    "    print(v[-i],end=\" \")"
   ]
  },
  {
   "cell_type": "code",
   "execution_count": 580,
   "id": "bde6a9ae",
   "metadata": {},
   "outputs": [
    {
     "name": "stdout",
     "output_type": "stream",
     "text": [
      "lahsiv"
     ]
    }
   ],
   "source": [
    "v=\"vishal\"\n",
    "ch= len(v)-1\n",
    "while ch>=0:\n",
    "    print(v[ch],end=\"\")\n",
    "    ch=ch-1"
   ]
  },
  {
   "cell_type": "code",
   "execution_count": 581,
   "id": "1104940c",
   "metadata": {},
   "outputs": [
    {
     "name": "stdout",
     "output_type": "stream",
     "text": [
      "i is a vowel\n",
      "n is not a vowel\n",
      "e is a vowel\n",
      "r is not a vowel\n",
      "u is a vowel\n",
      "o is a vowel\n",
      "n is not a vowel\n"
     ]
    }
   ],
   "source": [
    "name = \"ineruon\"\n",
    "vowels=\"AaEeIiOoUu\"\n",
    "\n",
    "for i in name:\n",
    "    if i in vowels:\n",
    "        print(\"{} is a vowel\".format(i))\n",
    "    else:\n",
    "        print(\"{} is not a vowel\".format(i))"
   ]
  },
  {
   "cell_type": "code",
   "execution_count": 593,
   "id": "5c07892d",
   "metadata": {},
   "outputs": [
    {
     "name": "stdout",
     "output_type": "stream",
     "text": [
      "v is not a replace\n",
      "i is a replace\n",
      "s is a replace\n",
      "h is not a replace\n",
      "a is a replace\n",
      "l is not a replace\n"
     ]
    }
   ],
   "source": [
    "v=\"vishal\"\n",
    "replace=\"mynameis\"\n",
    "\n",
    "for i in v:\n",
    "    if i in replace:\n",
    "        print(\"{} is a replace\".format(i))\n",
    "    else:\n",
    "        print(\"{} is not a replace\".format(i))"
   ]
  },
  {
   "cell_type": "code",
   "execution_count": 582,
   "id": "d776ef9a",
   "metadata": {},
   "outputs": [
    {
     "data": {
      "text/plain": [
       "'my name is vishal'"
      ]
     },
     "execution_count": 582,
     "metadata": {},
     "output_type": "execute_result"
    }
   ],
   "source": [
    "\"{} name is vishal\".format(\"my\")"
   ]
  },
  {
   "cell_type": "code",
   "execution_count": 587,
   "id": "064ca4de",
   "metadata": {},
   "outputs": [
    {
     "name": "stdout",
     "output_type": "stream",
     "text": [
      "my\n",
      "is\n"
     ]
    }
   ],
   "source": [
    "a=input()\n",
    "b=input()"
   ]
  },
  {
   "cell_type": "code",
   "execution_count": 588,
   "id": "d74dfac1",
   "metadata": {},
   "outputs": [
    {
     "data": {
      "text/plain": [
       "'my name is vishal'"
      ]
     },
     "execution_count": 588,
     "metadata": {},
     "output_type": "execute_result"
    }
   ],
   "source": [
    "\"{} name {} vishal\".format(a,b)"
   ]
  },
  {
   "cell_type": "code",
   "execution_count": 26,
   "id": "b894a469",
   "metadata": {},
   "outputs": [
    {
     "name": "stdout",
     "output_type": "stream",
     "text": [
      "enter a data for which would you like to check palindrom -->nitin\n",
      "its a same\n"
     ]
    }
   ],
   "source": [
    "v=input(\"enter a data for which would you like to check palindrom -->\")\n",
    "v1=v[::-1]\n",
    "if v==v1:\n",
    "    print(\"its a same\")\n",
    "else:\n",
    "    print(\"its not a same\")"
   ]
  },
  {
   "cell_type": "code",
   "execution_count": 30,
   "id": "1beb6567",
   "metadata": {},
   "outputs": [],
   "source": [
    "l=[\"vishal\",889,\"thorat\",\"shubhangi\",[98,87,3,\"vids\"]]"
   ]
  },
  {
   "cell_type": "code",
   "execution_count": 31,
   "id": "92044e34",
   "metadata": {},
   "outputs": [
    {
     "data": {
      "text/plain": [
       "'shubhangi'"
      ]
     },
     "execution_count": 31,
     "metadata": {},
     "output_type": "execute_result"
    }
   ],
   "source": [
    "l[3]"
   ]
  },
  {
   "cell_type": "code",
   "execution_count": 32,
   "id": "fc607156",
   "metadata": {},
   "outputs": [],
   "source": [
    "v=\"vishal\""
   ]
  },
  {
   "cell_type": "code",
   "execution_count": 33,
   "id": "3ff4a971",
   "metadata": {},
   "outputs": [
    {
     "data": {
      "text/plain": [
       "['vishal', 889, 'thorat', 'shubhangi', [98, 87, 3, 'vids'], 'vishal']"
      ]
     },
     "execution_count": 33,
     "metadata": {},
     "output_type": "execute_result"
    }
   ],
   "source": [
    "l+[v]"
   ]
  },
  {
   "cell_type": "code",
   "execution_count": 34,
   "id": "38988674",
   "metadata": {},
   "outputs": [
    {
     "data": {
      "text/plain": [
       "5"
      ]
     },
     "execution_count": 34,
     "metadata": {},
     "output_type": "execute_result"
    }
   ],
   "source": [
    "len(l)"
   ]
  },
  {
   "cell_type": "code",
   "execution_count": 35,
   "id": "c15bb714",
   "metadata": {},
   "outputs": [
    {
     "data": {
      "text/plain": [
       "True"
      ]
     },
     "execution_count": 35,
     "metadata": {},
     "output_type": "execute_result"
    }
   ],
   "source": [
    "889 in l"
   ]
  },
  {
   "cell_type": "code",
   "execution_count": 36,
   "id": "43ed80fb",
   "metadata": {},
   "outputs": [],
   "source": [
    "l1=[\"vishal\",8728,\"shiba\",7767,[76,\"thorat\",\"shubhangi\",6276],87]"
   ]
  },
  {
   "cell_type": "code",
   "execution_count": 37,
   "id": "855aa061",
   "metadata": {},
   "outputs": [
    {
     "data": {
      "text/plain": [
       "False"
      ]
     },
     "execution_count": 37,
     "metadata": {},
     "output_type": "execute_result"
    }
   ],
   "source": [
    "8728 in l"
   ]
  },
  {
   "cell_type": "code",
   "execution_count": 38,
   "id": "aa431dac",
   "metadata": {},
   "outputs": [
    {
     "data": {
      "text/plain": [
       "['vishal',\n",
       " 889,\n",
       " 'thorat',\n",
       " 'shubhangi',\n",
       " [98, 87, 3, 'vids'],\n",
       " 'vishal',\n",
       " 8728,\n",
       " 'shiba',\n",
       " 7767,\n",
       " [76, 'thorat', 'shubhangi', 6276],\n",
       " 87]"
      ]
     },
     "execution_count": 38,
     "metadata": {},
     "output_type": "execute_result"
    }
   ],
   "source": [
    "l+ l1"
   ]
  },
  {
   "cell_type": "code",
   "execution_count": 39,
   "id": "4673c44a",
   "metadata": {},
   "outputs": [
    {
     "data": {
      "text/plain": [
       "'vishal'"
      ]
     },
     "execution_count": 39,
     "metadata": {},
     "output_type": "execute_result"
    }
   ],
   "source": [
    "max(\"vishal\",\"thorat\")"
   ]
  },
  {
   "cell_type": "code",
   "execution_count": 40,
   "id": "a8d3d77d",
   "metadata": {},
   "outputs": [
    {
     "data": {
      "text/plain": [
       "674"
      ]
     },
     "execution_count": 40,
     "metadata": {},
     "output_type": "execute_result"
    }
   ],
   "source": [
    "min(897,674,763.763)"
   ]
  },
  {
   "cell_type": "code",
   "execution_count": 41,
   "id": "113d4e00",
   "metadata": {},
   "outputs": [
    {
     "data": {
      "text/plain": [
       "873.8726"
      ]
     },
     "execution_count": 41,
     "metadata": {},
     "output_type": "execute_result"
    }
   ],
   "source": [
    "max(846,873.8726,76)"
   ]
  },
  {
   "cell_type": "code",
   "execution_count": 42,
   "id": "36f02416",
   "metadata": {},
   "outputs": [
    {
     "data": {
      "text/plain": [
       "2"
      ]
     },
     "execution_count": 42,
     "metadata": {},
     "output_type": "execute_result"
    }
   ],
   "source": [
    "min(2,3,4,5,6,7,8)"
   ]
  },
  {
   "cell_type": "code",
   "execution_count": 43,
   "id": "9b11cdd7",
   "metadata": {},
   "outputs": [
    {
     "data": {
      "text/plain": [
       "'A'"
      ]
     },
     "execution_count": 43,
     "metadata": {},
     "output_type": "execute_result"
    }
   ],
   "source": [
    "min(\"A\",\"B\")"
   ]
  },
  {
   "cell_type": "code",
   "execution_count": 44,
   "id": "c6b596e4",
   "metadata": {},
   "outputs": [],
   "source": [
    "l=[1,2,3,4]"
   ]
  },
  {
   "cell_type": "code",
   "execution_count": 45,
   "id": "975f2525",
   "metadata": {},
   "outputs": [],
   "source": [
    "l.append(\"vishal\")"
   ]
  },
  {
   "cell_type": "code",
   "execution_count": 46,
   "id": "e7a748c7",
   "metadata": {},
   "outputs": [
    {
     "data": {
      "text/plain": [
       "[1, 2, 3, 4, 'vishal']"
      ]
     },
     "execution_count": 46,
     "metadata": {},
     "output_type": "execute_result"
    }
   ],
   "source": [
    "l"
   ]
  },
  {
   "cell_type": "code",
   "execution_count": 47,
   "id": "ffdf7ecd",
   "metadata": {},
   "outputs": [
    {
     "data": {
      "text/plain": [
       "[1, 2, 3, 4, 'vishal', 'thorat']"
      ]
     },
     "execution_count": 47,
     "metadata": {},
     "output_type": "execute_result"
    }
   ],
   "source": [
    "l+[\"thorat\"]"
   ]
  },
  {
   "cell_type": "code",
   "execution_count": 48,
   "id": "3bdee111",
   "metadata": {},
   "outputs": [],
   "source": [
    "l=[1,2,3,4,5]"
   ]
  },
  {
   "cell_type": "code",
   "execution_count": 49,
   "id": "d96b5b67",
   "metadata": {},
   "outputs": [],
   "source": [
    "l.insert(1,'vishal')"
   ]
  },
  {
   "cell_type": "code",
   "execution_count": 50,
   "id": "50f981c2",
   "metadata": {},
   "outputs": [
    {
     "data": {
      "text/plain": [
       "[1, 'vishal', 2, 3, 4, 5]"
      ]
     },
     "execution_count": 50,
     "metadata": {},
     "output_type": "execute_result"
    }
   ],
   "source": [
    "l"
   ]
  },
  {
   "cell_type": "code",
   "execution_count": 51,
   "id": "2c257a2f",
   "metadata": {},
   "outputs": [],
   "source": [
    "l.insert(-1,'thorat')"
   ]
  },
  {
   "cell_type": "code",
   "execution_count": 52,
   "id": "78cbb88b",
   "metadata": {},
   "outputs": [
    {
     "data": {
      "text/plain": [
       "[1, 'vishal', 2, 3, 4, 'thorat', 5]"
      ]
     },
     "execution_count": 52,
     "metadata": {},
     "output_type": "execute_result"
    }
   ],
   "source": [
    "l"
   ]
  },
  {
   "cell_type": "code",
   "execution_count": 664,
   "id": "bac7ff81",
   "metadata": {},
   "outputs": [
    {
     "data": {
      "text/plain": [
       "1"
      ]
     },
     "execution_count": 664,
     "metadata": {},
     "output_type": "execute_result"
    }
   ],
   "source": [
    "l.count('vishal')"
   ]
  },
  {
   "cell_type": "code",
   "execution_count": 665,
   "id": "86614a0b",
   "metadata": {},
   "outputs": [],
   "source": [
    "l=[1,2,3,4,5]"
   ]
  },
  {
   "cell_type": "code",
   "execution_count": 666,
   "id": "690b078f",
   "metadata": {},
   "outputs": [],
   "source": [
    "l.append('vishal')"
   ]
  },
  {
   "cell_type": "code",
   "execution_count": 667,
   "id": "09642605",
   "metadata": {},
   "outputs": [
    {
     "data": {
      "text/plain": [
       "[1, 2, 3, 4, 5, 'vishal']"
      ]
     },
     "execution_count": 667,
     "metadata": {},
     "output_type": "execute_result"
    }
   ],
   "source": [
    "l"
   ]
  },
  {
   "cell_type": "code",
   "execution_count": 668,
   "id": "1833aa44",
   "metadata": {},
   "outputs": [],
   "source": [
    "l.extend(\"thorat\")"
   ]
  },
  {
   "cell_type": "code",
   "execution_count": 669,
   "id": "d5e718f5",
   "metadata": {},
   "outputs": [
    {
     "data": {
      "text/plain": [
       "[1, 2, 3, 4, 5, 'vishal', 't', 'h', 'o', 'r', 'a', 't']"
      ]
     },
     "execution_count": 669,
     "metadata": {},
     "output_type": "execute_result"
    }
   ],
   "source": [
    "l"
   ]
  },
  {
   "cell_type": "code",
   "execution_count": 671,
   "id": "2b97d641",
   "metadata": {},
   "outputs": [
    {
     "data": {
      "text/plain": [
       "['t', 'h', 'o', 'r', 'a', 't']"
      ]
     },
     "execution_count": 671,
     "metadata": {},
     "output_type": "execute_result"
    }
   ],
   "source": [
    "v=\"thorat\"\n",
    "list(v)"
   ]
  },
  {
   "cell_type": "code",
   "execution_count": 674,
   "id": "c5e310b4",
   "metadata": {},
   "outputs": [
    {
     "data": {
      "text/plain": [
       "[1, 2, 3, 4]"
      ]
     },
     "execution_count": 674,
     "metadata": {},
     "output_type": "execute_result"
    }
   ],
   "source": [
    "l=[1,2,3,4]\n",
    "l"
   ]
  },
  {
   "cell_type": "code",
   "execution_count": 675,
   "id": "6b462a7d",
   "metadata": {},
   "outputs": [],
   "source": [
    "l.extend([5,6,7,8,9])"
   ]
  },
  {
   "cell_type": "code",
   "execution_count": 676,
   "id": "237407ca",
   "metadata": {},
   "outputs": [
    {
     "data": {
      "text/plain": [
       "[1, 2, 3, 4, 5, 6, 7, 8, 9]"
      ]
     },
     "execution_count": 676,
     "metadata": {},
     "output_type": "execute_result"
    }
   ],
   "source": [
    "l"
   ]
  },
  {
   "cell_type": "code",
   "execution_count": 678,
   "id": "9fab9e56",
   "metadata": {},
   "outputs": [
    {
     "data": {
      "text/plain": [
       "4"
      ]
     },
     "execution_count": 678,
     "metadata": {},
     "output_type": "execute_result"
    }
   ],
   "source": [
    "l.index(5)"
   ]
  },
  {
   "cell_type": "code",
   "execution_count": 679,
   "id": "c96b54ff",
   "metadata": {},
   "outputs": [],
   "source": [
    "l=[2,3,4,5,6,7,8,9]"
   ]
  },
  {
   "cell_type": "code",
   "execution_count": 681,
   "id": "527c0366",
   "metadata": {},
   "outputs": [
    {
     "data": {
      "text/plain": [
       "3"
      ]
     },
     "execution_count": 681,
     "metadata": {},
     "output_type": "execute_result"
    }
   ],
   "source": [
    "l.pop(1)"
   ]
  },
  {
   "cell_type": "code",
   "execution_count": 712,
   "id": "fe82145d",
   "metadata": {},
   "outputs": [
    {
     "data": {
      "text/plain": [
       "[35, 9, 8, 7, 5, 4]"
      ]
     },
     "execution_count": 712,
     "metadata": {},
     "output_type": "execute_result"
    }
   ],
   "source": [
    "l"
   ]
  },
  {
   "cell_type": "code",
   "execution_count": 714,
   "id": "783b8c42",
   "metadata": {},
   "outputs": [],
   "source": [
    "l.remove(35)"
   ]
  },
  {
   "cell_type": "code",
   "execution_count": 715,
   "id": "9ffb4e39",
   "metadata": {},
   "outputs": [],
   "source": [
    "l.reverse()"
   ]
  },
  {
   "cell_type": "code",
   "execution_count": 716,
   "id": "679551f2",
   "metadata": {},
   "outputs": [
    {
     "data": {
      "text/plain": [
       "[4, 5, 7, 8, 9]"
      ]
     },
     "execution_count": 716,
     "metadata": {},
     "output_type": "execute_result"
    }
   ],
   "source": [
    "l"
   ]
  },
  {
   "cell_type": "code",
   "execution_count": 717,
   "id": "ca718b39",
   "metadata": {},
   "outputs": [],
   "source": [
    "l.sort()"
   ]
  },
  {
   "cell_type": "code",
   "execution_count": 718,
   "id": "9eeb7775",
   "metadata": {},
   "outputs": [
    {
     "data": {
      "text/plain": [
       "[4, 5, 7, 8, 9]"
      ]
     },
     "execution_count": 718,
     "metadata": {},
     "output_type": "execute_result"
    }
   ],
   "source": [
    "l"
   ]
  },
  {
   "cell_type": "code",
   "execution_count": 35,
   "id": "198e3c66",
   "metadata": {},
   "outputs": [
    {
     "name": "stdout",
     "output_type": "stream",
     "text": [
      "[[2, 3, 6], ['raj', 'arya', 'aditya'], (77+99j), ['ineuron', 'krish', 'shudhanshu'], [7, 9, 10], ['vishal', 'thorat'], 4, 6, 7, 21]\n",
      "0\n",
      "1\n",
      "2\n",
      "0\n",
      "1\n",
      "2\n",
      "0\n",
      "1\n"
     ]
    }
   ],
   "source": [
    "l=[[2,3,6],[7,9,10],[\"vishal\",\"thorat\"],4,6,7,21]\n",
    "#part=1\n",
    "l.insert(1,[\"raj\",\"arya\",\"aditya\"])\n",
    "l.insert(2,[\"ineuron\",\"krish\",\"shudhanshu\"])\n",
    "l.insert(2,77+99j)\n",
    "print(l)\n",
    "#part=2\n",
    "for i in l:\n",
    "    if type(i)==list:\n",
    "        for j in i:\n",
    "            if type(j)==str:\n",
    "                print(i.index(j))"
   ]
  },
  {
   "cell_type": "code",
   "execution_count": 36,
   "id": "31cc87af",
   "metadata": {},
   "outputs": [
    {
     "name": "stdout",
     "output_type": "stream",
     "text": [
      "11\n",
      "12\n",
      "13\n",
      "14\n",
      "15\n",
      "[11, 12, 13, 14, 15]\n"
     ]
    }
   ],
   "source": [
    "l=[]\n",
    "for i in range(5):\n",
    "    l.append(int(input()))\n",
    "print(l)"
   ]
  },
  {
   "cell_type": "code",
   "execution_count": 10,
   "id": "a82bbed4",
   "metadata": {},
   "outputs": [
    {
     "name": "stdout",
     "output_type": "stream",
     "text": [
      "enter the row no : 7\n",
      "               *  \n",
      "             *   *  \n",
      "           *   *   *  \n",
      "         *   *   *   *  \n",
      "       *   *   *   *   *  \n",
      "     *   *   *   *   *   *  \n",
      "   *   *   *   *   *   *   *  \n"
     ]
    }
   ],
   "source": [
    "v=int(input(\"enter the row no : \"))\n",
    "for i in range(0,v):\n",
    "    for j in range(v-i):\n",
    "        print(\" \",end=\" \")\n",
    "    for j in range(i+1):\n",
    "        print(\" * \",end=\" \")\n",
    "    print()"
   ]
  },
  {
   "cell_type": "code",
   "execution_count": 17,
   "id": "5e240e18",
   "metadata": {},
   "outputs": [
    {
     "name": "stdout",
     "output_type": "stream",
     "text": [
      "enter the row no: 7\n",
      " * * * * * * * \n",
      "  * * * * * * \n",
      "   * * * * * \n",
      "    * * * * \n",
      "     * * * \n",
      "      * * \n",
      "       * \n"
     ]
    }
   ],
   "source": [
    "n=int(input(\"enter the row no: \"))\n",
    "m=0\n",
    "while m<n:\n",
    "    print(\" \"*(m+1) + \"* \"*(n-m))\n",
    "    m=m+1"
   ]
  },
  {
   "cell_type": "code",
   "execution_count": 23,
   "id": "44ea4011",
   "metadata": {},
   "outputs": [
    {
     "name": "stdout",
     "output_type": "stream",
     "text": [
      "No of rows: 7\n",
      "       * \n",
      "      * * \n",
      "     * * * \n",
      "    * * * * \n",
      "   * * * * * \n",
      "  * * * * * * \n",
      " * * * * * * * \n"
     ]
    }
   ],
   "source": [
    "n=int(input(\"No of rows: \"))\n",
    "i=0\n",
    "\n",
    "while i<n:\n",
    "    print(\" \"*(n-i) + \"* \"*(i+1))\n",
    "    i=i+1"
   ]
  },
  {
   "cell_type": "code",
   "execution_count": 19,
   "id": "92df7ac8",
   "metadata": {},
   "outputs": [
    {
     "name": "stdout",
     "output_type": "stream",
     "text": [
      "               *  \n",
      "             *   *  \n",
      "           *   *   *  \n",
      "         *   *   *   *  \n",
      "       *   *   *   *   *  \n",
      "     *   *   *   *   *   *  \n",
      "   *   *   *   *   *   *   *  \n"
     ]
    }
   ],
   "source": [
    "n=7\n",
    "for i in range (0,n,1):\n",
    "    for j in range(n-i):\n",
    "        print(\"  \",end=\"\")\n",
    "    for j in range(i+1):\n",
    "        print(\" * \",end=\" \")\n",
    "    print()"
   ]
  },
  {
   "cell_type": "code",
   "execution_count": 21,
   "id": "9bd5709c",
   "metadata": {},
   "outputs": [
    {
     "name": "stdout",
     "output_type": "stream",
     "text": [
      "78\n",
      "787\n",
      "564\n",
      "4547\n",
      "566\n",
      "[78, 787, 564, 4547, 566]\n"
     ]
    }
   ],
   "source": [
    "#input in list\n",
    "l=[]\n",
    "for i in range(5):\n",
    "    l.append(int(input()))\n",
    "print(l)"
   ]
  },
  {
   "cell_type": "code",
   "execution_count": 12,
   "id": "3c39f44a",
   "metadata": {},
   "outputs": [
    {
     "name": "stdout",
     "output_type": "stream",
     "text": [
      "Index of string b is : 2\n",
      "Index of string b is : 3\n",
      "Index of string b is : 4\n",
      "The string in the nested lost is 'b'\n",
      "The string in the nested lost is 'b'\n",
      "The string in the nested lost is 'b'\n",
      "Index of string t is : 1\n",
      "The string in the nested lost is 't'\n",
      "List after removal of string from nested list is\r",
      " [[1, 2, 3], [11, 12], [21, 223], [4, 5, 6], [7, 8, 9], 'demo', 12.5] \n",
      "\n",
      "CPU times: total: 0 ns\n",
      "Wall time: 1.27 ms\n"
     ]
    }
   ],
   "source": [
    "%%time\n",
    "l=[[1,2,3],[11,12,'b','b','b'],[21,'t',223],[4,5,6],[7,8,9],\"demo\",12.5]\n",
    "\n",
    "for i in l:\n",
    "    if type(i) == list:\n",
    "        j=0\n",
    "        while j< len(i):\n",
    "            if type(i[j]) is str:\n",
    "                print(\"Index of string {} is :\".format(i[j]),j)\n",
    "            j=j+1\n",
    "        j=0\n",
    "        while j<len(i):\n",
    "            if type(i[j]) is str:\n",
    "                print(\"The string in the nested lost is '{}'\".format(i[j]))\n",
    "                i.remove(i[j])\n",
    "                continue\n",
    "            j=j+1\n",
    "print (\"List after removal of string from nested list is\\r\",l,'\\n')"
   ]
  },
  {
   "cell_type": "code",
   "execution_count": 25,
   "id": "f6255a64",
   "metadata": {},
   "outputs": [
    {
     "name": "stdout",
     "output_type": "stream",
     "text": [
      "Index of string b is : 2\n",
      "Index of string b is : 3\n",
      "Index of string b is : 4\n",
      "The string in the nested lost is: b \n",
      "The string in the nested lost is: b \n",
      "The string in the nested lost is: b \n",
      "Index of string t is : 1\n",
      "The string in the nested lost is: t \n",
      "List after removal of string from nested list is\r",
      " [[1, 2, 3], [11, 12], [21, 223], [4, 5, 6], [7, 8, 9], 'demo', 12.5] \n",
      "\n"
     ]
    }
   ],
   "source": [
    "l=[[1,2,3],[11,12,'b','b','b'],[21,'t',223],[4,5,6],[7,8,9],\"demo\",12.5]\n",
    "\n",
    "for i in l:\n",
    "    if type(i)==list:\n",
    "        j=0\n",
    "        while j<len(i):\n",
    "            if type(i[j])is str:\n",
    "                print(\"Index of string {} is :\".format(i[j]),j)\n",
    "            j=j+1\n",
    "        j=0\n",
    "        while j<len(i):\n",
    "            if type(i[j]) is str:\n",
    "                print(\"The string in the nested lost is: {} \".format(i[j]))\n",
    "                i.remove(i[j])\n",
    "                continue\n",
    "            j=j+1\n",
    "print (\"List after removal of string from nested list is\\r\",l,'\\n')"
   ]
  },
  {
   "cell_type": "code",
   "execution_count": 10,
   "id": "cd8fd286",
   "metadata": {},
   "outputs": [
    {
     "data": {
      "text/plain": [
       "7"
      ]
     },
     "execution_count": 10,
     "metadata": {},
     "output_type": "execute_result"
    }
   ],
   "source": [
    "len(l)"
   ]
  },
  {
   "cell_type": "code",
   "execution_count": 55,
   "id": "3fce93b5",
   "metadata": {},
   "outputs": [],
   "source": [
    "l1=[]"
   ]
  },
  {
   "cell_type": "code",
   "execution_count": 56,
   "id": "d0ee412a",
   "metadata": {},
   "outputs": [],
   "source": [
    "for i in \"vish\":\n",
    "    l1.append(i)"
   ]
  },
  {
   "cell_type": "code",
   "execution_count": 57,
   "id": "a12ac252",
   "metadata": {},
   "outputs": [
    {
     "data": {
      "text/plain": [
       "['v', 'i', 's', 'h']"
      ]
     },
     "execution_count": 57,
     "metadata": {},
     "output_type": "execute_result"
    }
   ],
   "source": [
    "l1"
   ]
  },
  {
   "cell_type": "code",
   "execution_count": 59,
   "id": "5ff37b75",
   "metadata": {},
   "outputs": [
    {
     "data": {
      "text/plain": [
       "['v', 'i', 's', 'h']"
      ]
     },
     "execution_count": 59,
     "metadata": {},
     "output_type": "execute_result"
    }
   ],
   "source": [
    "[i for i in \"vish\"]"
   ]
  },
  {
   "cell_type": "code",
   "execution_count": 61,
   "id": "b43a79c5",
   "metadata": {},
   "outputs": [],
   "source": [
    "l=[]\n",
    "for i in range(11):\n",
    "    if i%2==0:\n",
    "        l.append(i)"
   ]
  },
  {
   "cell_type": "code",
   "execution_count": 62,
   "id": "d4e48e29",
   "metadata": {},
   "outputs": [
    {
     "data": {
      "text/plain": [
       "[0, 2, 4, 6, 8, 10]"
      ]
     },
     "execution_count": 62,
     "metadata": {},
     "output_type": "execute_result"
    }
   ],
   "source": [
    "l"
   ]
  },
  {
   "cell_type": "code",
   "execution_count": 63,
   "id": "9b5c821a",
   "metadata": {},
   "outputs": [
    {
     "data": {
      "text/plain": [
       "[0, 2, 4, 6, 8, 10]"
      ]
     },
     "execution_count": 63,
     "metadata": {},
     "output_type": "execute_result"
    }
   ],
   "source": [
    "[i for i in range(11) if i%2==0]"
   ]
  },
  {
   "cell_type": "code",
   "execution_count": 64,
   "id": "b3c5ac1f",
   "metadata": {},
   "outputs": [],
   "source": [
    "l=[]\n",
    "for i in range(10):\n",
    "    if i %2 !=0:\n",
    "        l.append(\"odd\")\n",
    "    else:\n",
    "        l.append(\"even\")"
   ]
  },
  {
   "cell_type": "code",
   "execution_count": 65,
   "id": "fee19207",
   "metadata": {},
   "outputs": [
    {
     "data": {
      "text/plain": [
       "['even', 'odd', 'even', 'odd', 'even', 'odd', 'even', 'odd', 'even', 'odd']"
      ]
     },
     "execution_count": 65,
     "metadata": {},
     "output_type": "execute_result"
    }
   ],
   "source": [
    "l"
   ]
  },
  {
   "cell_type": "code",
   "execution_count": 67,
   "id": "46f3eb2d",
   "metadata": {},
   "outputs": [
    {
     "data": {
      "text/plain": [
       "['even', 'odd', 'even', 'odd', 'even', 'odd', 'even', 'odd', 'even', 'odd']"
      ]
     },
     "execution_count": 67,
     "metadata": {},
     "output_type": "execute_result"
    }
   ],
   "source": [
    "[\"odd\" if i%2!=0 else \"even\" for i in range(10)]"
   ]
  },
  {
   "cell_type": "code",
   "execution_count": 73,
   "id": "39ffa4a2",
   "metadata": {},
   "outputs": [
    {
     "data": {
      "text/plain": [
       "[[0, 1, 2], [0, 1, 2], [0, 1, 2]]"
      ]
     },
     "execution_count": 73,
     "metadata": {},
     "output_type": "execute_result"
    }
   ],
   "source": [
    "mat=[]\n",
    "for i in range(3):\n",
    "    mat.append([])\n",
    "    for j in range(3):\n",
    "        mat [i].append(j)\n",
    "mat"
   ]
  },
  {
   "cell_type": "code",
   "execution_count": 75,
   "id": "bc1a57ca",
   "metadata": {},
   "outputs": [
    {
     "data": {
      "text/plain": [
       "[[0, 1, 2], [0, 1, 2], [0, 1, 2]]"
      ]
     },
     "execution_count": 75,
     "metadata": {},
     "output_type": "execute_result"
    }
   ],
   "source": [
    "[[j for j in range(3)]for i in range(3)]"
   ]
  },
  {
   "cell_type": "code",
   "execution_count": 3,
   "id": "e90c0e57",
   "metadata": {},
   "outputs": [
    {
     "data": {
      "text/plain": [
       "[0, 6]"
      ]
     },
     "execution_count": 3,
     "metadata": {},
     "output_type": "execute_result"
    }
   ],
   "source": [
    "[i for i in range(8) if i%2==0 if i%3 ==0]"
   ]
  },
  {
   "cell_type": "code",
   "execution_count": 5,
   "id": "e51a481a",
   "metadata": {},
   "outputs": [],
   "source": [
    "l=[]\n",
    "for i in range(8):\n",
    "    if i%2==0:\n",
    "        if i%3==0:\n",
    "            l.append(i)"
   ]
  },
  {
   "cell_type": "code",
   "execution_count": 2,
   "id": "138f2333",
   "metadata": {},
   "outputs": [
    {
     "data": {
      "text/plain": [
       "[0, 6]"
      ]
     },
     "execution_count": 2,
     "metadata": {},
     "output_type": "execute_result"
    }
   ],
   "source": [
    "l"
   ]
  },
  {
   "cell_type": "code",
   "execution_count": 6,
   "id": "7ca9afa5",
   "metadata": {},
   "outputs": [],
   "source": [
    "l=[1,2,3,4,5]"
   ]
  },
  {
   "cell_type": "code",
   "execution_count": 7,
   "id": "de1958e9",
   "metadata": {},
   "outputs": [],
   "source": [
    "l1=[]"
   ]
  },
  {
   "cell_type": "code",
   "execution_count": 8,
   "id": "2b40fadb",
   "metadata": {},
   "outputs": [],
   "source": [
    "for i in \"vish\":\n",
    "    l1.append(i)"
   ]
  },
  {
   "cell_type": "code",
   "execution_count": 9,
   "id": "a620f825",
   "metadata": {},
   "outputs": [
    {
     "data": {
      "text/plain": [
       "['v', 'i', 's', 'h']"
      ]
     },
     "execution_count": 9,
     "metadata": {},
     "output_type": "execute_result"
    }
   ],
   "source": [
    "l1"
   ]
  },
  {
   "cell_type": "code",
   "execution_count": 27,
   "id": "904b2441",
   "metadata": {},
   "outputs": [
    {
     "data": {
      "text/plain": [
       "['v', 'i', 's', 'h']"
      ]
     },
     "execution_count": 27,
     "metadata": {},
     "output_type": "execute_result"
    }
   ],
   "source": [
    "[i for i in \"vish\"] #list comprejunction operation"
   ]
  },
  {
   "cell_type": "code",
   "execution_count": 17,
   "id": "f448e3c0",
   "metadata": {},
   "outputs": [
    {
     "data": {
      "text/plain": [
       "[['t'], ['h'], ['o'], ['r'], ['a'], ['t']]"
      ]
     },
     "execution_count": 17,
     "metadata": {},
     "output_type": "execute_result"
    }
   ],
   "source": [
    "[[k] for k in \"thorat\"]"
   ]
  },
  {
   "cell_type": "code",
   "execution_count": 20,
   "id": "d4924375",
   "metadata": {},
   "outputs": [],
   "source": [
    "l=[]\n",
    "for i in range(10):\n",
    "    if i%2==0:\n",
    "        l.append(i)"
   ]
  },
  {
   "cell_type": "code",
   "execution_count": 21,
   "id": "b5bab143",
   "metadata": {},
   "outputs": [
    {
     "data": {
      "text/plain": [
       "[0, 2, 4, 6, 8]"
      ]
     },
     "execution_count": 21,
     "metadata": {},
     "output_type": "execute_result"
    }
   ],
   "source": [
    "l"
   ]
  },
  {
   "cell_type": "code",
   "execution_count": 29,
   "id": "fadce51f",
   "metadata": {},
   "outputs": [
    {
     "data": {
      "text/plain": [
       "[0, 2, 4, 6, 8]"
      ]
     },
     "execution_count": 29,
     "metadata": {},
     "output_type": "execute_result"
    }
   ],
   "source": [
    "[i for i in range(10) if i%2==0 ]"
   ]
  },
  {
   "cell_type": "code",
   "execution_count": 30,
   "id": "6a530a7f",
   "metadata": {},
   "outputs": [
    {
     "data": {
      "text/plain": [
       "[1, 3, 5, 7, 9]"
      ]
     },
     "execution_count": 30,
     "metadata": {},
     "output_type": "execute_result"
    }
   ],
   "source": [
    "[i for i in range (10) if i%2==1]"
   ]
  },
  {
   "cell_type": "code",
   "execution_count": 31,
   "id": "eba999b6",
   "metadata": {},
   "outputs": [
    {
     "data": {
      "text/plain": [
       "[1, 3, 5, 7, 9]"
      ]
     },
     "execution_count": 31,
     "metadata": {},
     "output_type": "execute_result"
    }
   ],
   "source": [
    "[i for i in range(10) if i%2 !=0 ]"
   ]
  },
  {
   "cell_type": "code",
   "execution_count": 34,
   "id": "3a36358b",
   "metadata": {},
   "outputs": [],
   "source": [
    "l=[]\n",
    "for i in range (10):\n",
    "    if i%2 !=0:\n",
    "        l.append(\"odd\")\n",
    "    else:\n",
    "        l.append(\"even\")"
   ]
  },
  {
   "cell_type": "code",
   "execution_count": 35,
   "id": "3df1bd94",
   "metadata": {},
   "outputs": [
    {
     "data": {
      "text/plain": [
       "['even', 'odd', 'even', 'odd', 'even', 'odd', 'even', 'odd', 'even', 'odd']"
      ]
     },
     "execution_count": 35,
     "metadata": {},
     "output_type": "execute_result"
    }
   ],
   "source": [
    "l"
   ]
  },
  {
   "cell_type": "code",
   "execution_count": 38,
   "id": "371c9d30",
   "metadata": {},
   "outputs": [
    {
     "data": {
      "text/plain": [
       "['even', 'odd', 'even', 'odd', 'even', 'odd', 'even', 'odd', 'even', 'odd']"
      ]
     },
     "execution_count": 38,
     "metadata": {},
     "output_type": "execute_result"
    }
   ],
   "source": [
    "[\"odd\" if i%2!=0 else \"even\" for i in range(10)]"
   ]
  },
  {
   "cell_type": "code",
   "execution_count": 39,
   "id": "ae3fe26c",
   "metadata": {},
   "outputs": [
    {
     "data": {
      "text/plain": [
       "['even', 'odd', 'even', 'odd', 'even', 'odd', 'even', 'odd', 'even', 'odd']"
      ]
     },
     "execution_count": 39,
     "metadata": {},
     "output_type": "execute_result"
    }
   ],
   "source": [
    "[\"even\" if i%2==0 else \"odd\" for i in range(10)]"
   ]
  },
  {
   "cell_type": "code",
   "execution_count": 40,
   "id": "db4f9a6f",
   "metadata": {},
   "outputs": [
    {
     "data": {
      "text/plain": [
       "[[0, 1, 2], [0, 1, 2], [0, 1, 2]]"
      ]
     },
     "execution_count": 40,
     "metadata": {},
     "output_type": "execute_result"
    }
   ],
   "source": [
    "mat =[]\n",
    "for i in range (3):\n",
    "    mat.append([])\n",
    "    for j in range(3):\n",
    "        mat[i].append(j)\n",
    "mat"
   ]
  },
  {
   "cell_type": "code",
   "execution_count": 42,
   "id": "e553004a",
   "metadata": {},
   "outputs": [
    {
     "data": {
      "text/plain": [
       "[[0, 1, 2], [0, 1, 2], [0, 1, 2]]"
      ]
     },
     "execution_count": 42,
     "metadata": {},
     "output_type": "execute_result"
    }
   ],
   "source": [
    "[[j for j in range(3)]for i in range(3)]"
   ]
  },
  {
   "cell_type": "code",
   "execution_count": 51,
   "id": "a463c35d",
   "metadata": {},
   "outputs": [
    {
     "data": {
      "text/plain": [
       "[[0, 1, 2, 3, 4], [0, 1, 2, 3, 4], [0, 1, 2, 3, 4], [0, 1, 2, 3, 4]]"
      ]
     },
     "execution_count": 51,
     "metadata": {},
     "output_type": "execute_result"
    }
   ],
   "source": [
    "[[v for v in range(5)]for k in range (4)]"
   ]
  },
  {
   "cell_type": "code",
   "execution_count": 58,
   "id": "318dfd68",
   "metadata": {},
   "outputs": [
    {
     "data": {
      "text/plain": [
       "[0, 6]"
      ]
     },
     "execution_count": 58,
     "metadata": {},
     "output_type": "execute_result"
    }
   ],
   "source": [
    "[i for i in range (8)if i %2==0 if i%3==0]"
   ]
  },
  {
   "cell_type": "code",
   "execution_count": 59,
   "id": "1c69ea1b",
   "metadata": {},
   "outputs": [
    {
     "data": {
      "text/plain": [
       "[1, 7]"
      ]
     },
     "execution_count": 59,
     "metadata": {},
     "output_type": "execute_result"
    }
   ],
   "source": [
    "[i for i in range (8)if i %2==1 if i%3==1]"
   ]
  },
  {
   "cell_type": "code",
   "execution_count": 37,
   "id": "b5e86f14",
   "metadata": {},
   "outputs": [
    {
     "data": {
      "text/plain": [
       "[0, 6]"
      ]
     },
     "execution_count": 37,
     "metadata": {},
     "output_type": "execute_result"
    }
   ],
   "source": [
    "l=[]\n",
    "for i in range(8):\n",
    "    if i%2==0:\n",
    "        if i%3==0:\n",
    "            l.append(i)  \n",
    "l"
   ]
  },
  {
   "cell_type": "code",
   "execution_count": 63,
   "id": "50ca1394",
   "metadata": {},
   "outputs": [
    {
     "data": {
      "text/plain": [
       "[0, 6]"
      ]
     },
     "execution_count": 63,
     "metadata": {},
     "output_type": "execute_result"
    }
   ],
   "source": [
    "l"
   ]
  },
  {
   "cell_type": "code",
   "execution_count": 74,
   "id": "c7799a1a",
   "metadata": {},
   "outputs": [
    {
     "data": {
      "text/plain": [
       "[0, 1, 2, 3, 4, 5, 6, 7, 8, 9]"
      ]
     },
     "execution_count": 74,
     "metadata": {},
     "output_type": "execute_result"
    }
   ],
   "source": [
    "l=[]\n",
    "for i in range(10):\n",
    "    l.append(i)\n",
    "l"
   ]
  },
  {
   "cell_type": "code",
   "execution_count": 75,
   "id": "db2facf6",
   "metadata": {},
   "outputs": [
    {
     "data": {
      "text/plain": [
       "['test', 'yes', 'no', 'test', 'test', 'test', 'test', 'test', 'test', 'test']"
      ]
     },
     "execution_count": 75,
     "metadata": {},
     "output_type": "execute_result"
    }
   ],
   "source": [
    "[\"yes\"if i==1 else \"no\" if i ==2 else \"test\" for i in l]"
   ]
  },
  {
   "cell_type": "code",
   "execution_count": 76,
   "id": "d673b882",
   "metadata": {},
   "outputs": [],
   "source": [
    "vish=[]\n",
    "for i in l:\n",
    "    if i == 1:\n",
    "        vish.append(\"yes\")\n",
    "    elif i == 2:\n",
    "        vish.append(\"no\")\n",
    "    else:\n",
    "        vish.append(\"test\")"
   ]
  },
  {
   "cell_type": "code",
   "execution_count": 77,
   "id": "8e4ca04e",
   "metadata": {},
   "outputs": [
    {
     "data": {
      "text/plain": [
       "['test', 'yes', 'no', 'test', 'test', 'test', 'test', 'test', 'test', 'test']"
      ]
     },
     "execution_count": 77,
     "metadata": {},
     "output_type": "execute_result"
    }
   ],
   "source": [
    "vish"
   ]
  },
  {
   "cell_type": "code",
   "execution_count": 82,
   "id": "91299282",
   "metadata": {},
   "outputs": [],
   "source": [
    "lst=[1,3,5,6,3,2,35,5,6,76]"
   ]
  },
  {
   "cell_type": "code",
   "execution_count": 85,
   "id": "7498a070",
   "metadata": {},
   "outputs": [
    {
     "data": {
      "text/plain": [
       "[1, 2, 3, 3, 5, 5, 6, 6, 35, 76]"
      ]
     },
     "execution_count": 85,
     "metadata": {},
     "output_type": "execute_result"
    }
   ],
   "source": [
    "lst.sort()\n",
    "lst"
   ]
  },
  {
   "cell_type": "code",
   "execution_count": 86,
   "id": "2d0ee9c7",
   "metadata": {},
   "outputs": [],
   "source": [
    "lst=[\"vish\",\"subh\",\"shashi\",\"a\",\"b\"]"
   ]
  },
  {
   "cell_type": "code",
   "execution_count": 89,
   "id": "4c7386ac",
   "metadata": {},
   "outputs": [
    {
     "data": {
      "text/plain": [
       "['a', 'b', 'shashi', 'subh', 'vish']"
      ]
     },
     "execution_count": 89,
     "metadata": {},
     "output_type": "execute_result"
    }
   ],
   "source": [
    "lst.sort()\n",
    "lst"
   ]
  },
  {
   "cell_type": "code",
   "execution_count": 97,
   "id": "da2fc5d2",
   "metadata": {},
   "outputs": [
    {
     "data": {
      "text/plain": [
       "['a', 'b', 'shashi', 'subh', 'vish']"
      ]
     },
     "execution_count": 97,
     "metadata": {},
     "output_type": "execute_result"
    }
   ],
   "source": [
    "lst.reverse()\n",
    "lst"
   ]
  },
  {
   "cell_type": "code",
   "execution_count": 109,
   "id": "88f937f2",
   "metadata": {},
   "outputs": [],
   "source": [
    "l=[1,2,3,4,5,6,7,8,9,10]"
   ]
  },
  {
   "cell_type": "code",
   "execution_count": 1,
   "id": "52ff8dfe",
   "metadata": {},
   "outputs": [
    {
     "name": "stdout",
     "output_type": "stream",
     "text": [
      "5\n",
      "8\n",
      "11\n",
      "14\n",
      "CPU times: total: 0 ns\n",
      "Wall time: 0 ns\n"
     ]
    }
   ],
   "source": [
    "%%time\n",
    "for i in range(0,10,3):\n",
    "    i=i+5\n",
    "    print(i)"
   ]
  },
  {
   "cell_type": "code",
   "execution_count": 112,
   "id": "4ad0479b",
   "metadata": {},
   "outputs": [
    {
     "data": {
      "text/plain": [
       "4"
      ]
     },
     "execution_count": 112,
     "metadata": {},
     "output_type": "execute_result"
    }
   ],
   "source": [
    "len(range(0,10,3))"
   ]
  },
  {
   "cell_type": "code",
   "execution_count": 115,
   "id": "1f24d9c9",
   "metadata": {},
   "outputs": [
    {
     "data": {
      "text/plain": [
       "[0, 3, 6, 9, 12, 15, 18, 21, 24, 27]"
      ]
     },
     "execution_count": 115,
     "metadata": {},
     "output_type": "execute_result"
    }
   ],
   "source": [
    "[i*3 for i in range(10)]"
   ]
  },
  {
   "cell_type": "code",
   "execution_count": 120,
   "id": "3fc64f98",
   "metadata": {},
   "outputs": [],
   "source": [
    "list=[\"vuisgdh\",\"hdsh\",'thorat',\"gfacSfd\",\"zuhsdug\"]"
   ]
  },
  {
   "cell_type": "code",
   "execution_count": 121,
   "id": "9895609b",
   "metadata": {},
   "outputs": [
    {
     "data": {
      "text/plain": [
       "'zuhsdug'"
      ]
     },
     "execution_count": 121,
     "metadata": {},
     "output_type": "execute_result"
    }
   ],
   "source": [
    "max(list)"
   ]
  },
  {
   "cell_type": "code",
   "execution_count": 122,
   "id": "bbcd49a1",
   "metadata": {},
   "outputs": [
    {
     "data": {
      "text/plain": [
       "'gfacSfd'"
      ]
     },
     "execution_count": 122,
     "metadata": {},
     "output_type": "execute_result"
    }
   ],
   "source": [
    "min(list)"
   ]
  },
  {
   "cell_type": "code",
   "execution_count": 3,
   "id": "cb16bcb3",
   "metadata": {},
   "outputs": [
    {
     "name": "stdout",
     "output_type": "stream",
     "text": [
      "1\n",
      "1\n",
      "2\n",
      "4\n",
      "8\n",
      "16\n",
      "32\n",
      "64\n",
      "128\n",
      "256\n"
     ]
    }
   ],
   "source": [
    "def vishal(n):\n",
    "    a=1\n",
    "    b=1\n",
    "    for i in range(n):\n",
    "        print(a)\n",
    "        a=b\n",
    "        b=a+b\n",
    "vishal(10)"
   ]
  },
  {
   "cell_type": "code",
   "execution_count": 4,
   "id": "f5ff516a",
   "metadata": {},
   "outputs": [
    {
     "name": "stdout",
     "output_type": "stream",
     "text": [
      "1\n",
      "1\n",
      "2\n",
      "3\n",
      "5\n",
      "8\n",
      "13\n",
      "21\n",
      "34\n",
      "55\n"
     ]
    }
   ],
   "source": [
    "def vishal(n):\n",
    "    a=1\n",
    "    b=1\n",
    "    for i in range(n):\n",
    "        print(a)\n",
    "        a,b=b,a+b\n",
    "vishal(10)"
   ]
  },
  {
   "cell_type": "code",
   "execution_count": 12,
   "id": "de6b0be6",
   "metadata": {},
   "outputs": [
    {
     "name": "stdout",
     "output_type": "stream",
     "text": [
      "a\n",
      "c\n",
      "s\n"
     ]
    }
   ],
   "source": [
    "x=[\"a\",\"b\",\"c\",\"v\",\"s\"]\n",
    "for i in x:\n",
    "    print(i)\n",
    "    x.remove(i)"
   ]
  },
  {
   "cell_type": "code",
   "execution_count": 14,
   "id": "6c8b6892",
   "metadata": {},
   "outputs": [
    {
     "data": {
      "text/plain": [
       "['b', 'v']"
      ]
     },
     "execution_count": 14,
     "metadata": {},
     "output_type": "execute_result"
    }
   ],
   "source": [
    "x "
   ]
  },
  {
   "cell_type": "code",
   "execution_count": 15,
   "id": "2172d6d1",
   "metadata": {},
   "outputs": [
    {
     "data": {
      "text/plain": [
       "<enumerate at 0x19607c1d8c0>"
      ]
     },
     "execution_count": 15,
     "metadata": {},
     "output_type": "execute_result"
    }
   ],
   "source": [
    "enumerate([1,2,3,4,5,6])"
   ]
  },
  {
   "cell_type": "code",
   "execution_count": 16,
   "id": "c2199174",
   "metadata": {},
   "outputs": [
    {
     "name": "stdout",
     "output_type": "stream",
     "text": [
      "(0, 1)\n",
      "(1, 2)\n",
      "(2, 3)\n",
      "(3, 4)\n",
      "(4, 5)\n",
      "(5, 6)\n"
     ]
    }
   ],
   "source": [
    "for i in enumerate([1,2,3,4,5,6]):\n",
    "    print(i)"
   ]
  },
  {
   "cell_type": "code",
   "execution_count": 34,
   "id": "0e0488cb",
   "metadata": {
    "scrolled": true
   },
   "outputs": [
    {
     "name": "stdout",
     "output_type": "stream",
     "text": [
      "The index Of b is : 2\n",
      "The index Of b is : 3\n",
      "The index Of b is : 4\n",
      "Index in the nested lost is:b \n",
      "Index in the nested lost is:b \n",
      "Index in the nested lost is:b \n",
      "The index Of t is : 1\n",
      "Index in the nested lost is:t \n",
      "The list after remove string in the nested [[1, 2, 3], [11, 12], [21, 223], [4, 5, 6], [7, 8, 9], 'demo', 12.5] \n",
      "\n"
     ]
    }
   ],
   "source": [
    "l=[[1,2,3],[11,12,'b','b','b'],[21,'t',223],[4,5,6],[7,8,9],\"demo\",12.5]\n",
    "\n",
    "for i in l:\n",
    "    if type(i)== list:\n",
    "        j=0\n",
    "        while j < len(i):\n",
    "            if type(i[j])is str:\n",
    "                print(\"The index Of {} is :\".format(i[j]),j)\n",
    "            j=j+1\n",
    "        j=0\n",
    "        while j<len(i):\n",
    "            if type(i[j]) is str:\n",
    "                print(\"Index in the nested lost is:{} \".format(i[j]))\n",
    "                i.remove(i[j])\n",
    "                continue\n",
    "            j=j+1\n",
    "print(\"The list after remove string in the nested\",l,\"\\n\")"
   ]
  },
  {
   "cell_type": "code",
   "execution_count": 84,
   "id": "10742939",
   "metadata": {},
   "outputs": [
    {
     "name": "stdout",
     "output_type": "stream",
     "text": [
      "       * \n",
      "      * * \n",
      "     * * * \n",
      "    * * * * \n",
      "   * * * * * \n",
      "  * * * * * * \n",
      " * * * * * * * \n"
     ]
    }
   ],
   "source": [
    "n=7\n",
    "for i in range (0,n,1):\n",
    "    for j in range(n-i):\n",
    "        print(\" \",end=\"\")\n",
    "    for j in range(i+1):\n",
    "        print(\"*\",end=\" \")\n",
    "    print()"
   ]
  },
  {
   "cell_type": "code",
   "execution_count": 87,
   "id": "9234c2cb",
   "metadata": {},
   "outputs": [
    {
     "name": "stdout",
     "output_type": "stream",
     "text": [
      "No. if rows: 9\n",
      " *   *   *   *   *   *   *   *  \n",
      "   *   *   *   *   *   *   *  \n",
      "     *   *   *   *   *   *  \n",
      "       *   *   *   *   *  \n",
      "         *   *   *   *  \n",
      "           *   *   *  \n",
      "             *   *  \n",
      "               *  \n",
      "                \n"
     ]
    }
   ],
   "source": [
    "n=int(input(\"No. if rows: \"))\n",
    "for i in range(n,0,-1):\n",
    "    for j in range(n-i):\n",
    "        print(\" \",end=\" \")\n",
    "    for j in range(i-1):\n",
    "        print(\" * \",end=\" \")\n",
    "    print()"
   ]
  },
  {
   "cell_type": "code",
   "execution_count": 54,
   "id": "0f2eca2f",
   "metadata": {},
   "outputs": [
    {
     "name": "stdout",
     "output_type": "stream",
     "text": [
      "Enter no of rows: 9\n",
      "         \n",
      "        + \n",
      "       + + \n",
      "      + + + \n",
      "     + + + + \n",
      "    + + + + + \n",
      "   + + + + + + \n",
      "  + + + + + + + \n",
      " + + + + + + + + \n"
     ]
    }
   ],
   "source": [
    "n=int(input(\"Enter no of rows: \"))\n",
    "for i in range(0,n,1):\n",
    "    for j in range(n-i):\n",
    "        print(\" \",end=\"\")\n",
    "    for j in range(i):\n",
    "        print(\"+ \",end=\"\")\n",
    "    print()"
   ]
  },
  {
   "cell_type": "code",
   "execution_count": 74,
   "id": "4cdae913",
   "metadata": {},
   "outputs": [
    {
     "name": "stdout",
     "output_type": "stream",
     "text": [
      "Enter the no of rows: 9\n",
      "+ + + + + + + + \n",
      " + + + + + + + \n",
      "  + + + + + + \n",
      "   + + + + + \n",
      "    + + + + \n",
      "     + + + \n",
      "      + + \n",
      "       + \n",
      "        \n"
     ]
    }
   ],
   "source": [
    "n=int(input(\"Enter the no of rows: \"))\n",
    "for i in range(n,0,-1):\n",
    "    for j in range(n-i):\n",
    "        print(\" \",end=\"\")\n",
    "    for j in range(i-1):\n",
    "        print(\"+ \",end=\"\")\n",
    "    print()"
   ]
  },
  {
   "cell_type": "code",
   "execution_count": 82,
   "id": "7f9712f2",
   "metadata": {},
   "outputs": [
    {
     "name": "stdout",
     "output_type": "stream",
     "text": [
      "Index of the nested list b is : 2\n",
      "Index of the nested list b is : 3\n",
      "Index of the nested list b is : 4\n",
      "The string removed from the nested list is:b\n",
      "The string removed from the nested list is:b\n",
      "The string removed from the nested list is:b\n",
      "Index of the nested list t is : 1\n",
      "The string removed from the nested list is:t\n",
      "The list after remove str from the nested list : [[1, 2, 3], [11, 12], [21, 223], [4, 5, 6], [7, 8, 9], 'demo', 12.5]\n"
     ]
    }
   ],
   "source": [
    "l=[[1,2,3],[11,12,'b','b','b'],[21,'t',223],[4,5,6],[7,8,9],\"demo\",12.5]\n",
    "\n",
    "for i in l:\n",
    "    if type(i)==list:\n",
    "        j=0\n",
    "        while j<len(i):\n",
    "            if type(i[j]) is str:\n",
    "                print(\"Index of the nested list {} is :\".format(i[j]),j)\n",
    "            j=j+1\n",
    "        \n",
    "        j=0\n",
    "        while j<len(i):\n",
    "            if type(i[j]) is str:\n",
    "                print(\"The string removed from the nested list is:{}\".format(i[j]))\n",
    "                i.remove(i[j])\n",
    "                continue\n",
    "            j=j+1\n",
    "            \n",
    "print(\"The list after remove str from the nested list :\",l)"
   ]
  },
  {
   "cell_type": "code",
   "execution_count": 116,
   "id": "4fdd5ded",
   "metadata": {},
   "outputs": [
    {
     "name": "stdout",
     "output_type": "stream",
     "text": [
      "  * * * * * * * *\n",
      "   * * * * * * *\n",
      "    * * * * * *\n",
      "     * * * * *\n",
      "      * * * *\n",
      "       * * *\n",
      "        * *\n",
      "         *\n",
      "         \n"
     ]
    }
   ],
   "source": [
    "n=9\n",
    "i=0\n",
    "while i <n:\n",
    "    print(\" \"*(i+1) + \" *\"*(n-i-1))\n",
    "    \n",
    "    i=i+1"
   ]
  },
  {
   "cell_type": "code",
   "execution_count": 122,
   "id": "2a2cb3a1",
   "metadata": {},
   "outputs": [
    {
     "name": "stdout",
     "output_type": "stream",
     "text": [
      "         \n",
      "        \n",
      "       * \n",
      "      * * \n",
      "     * * * \n",
      "    * * * * \n",
      "   * * * * * \n",
      "  * * * * * * \n",
      " * * * * * * * \n"
     ]
    }
   ],
   "source": [
    "n=9\n",
    "i=0\n",
    "while i<n:\n",
    "    print(\" \"*(n-i) + \"* \"*(i-1))\n",
    "    i=i+1"
   ]
  },
  {
   "cell_type": "code",
   "execution_count": 1,
   "id": "17ba6a9a",
   "metadata": {},
   "outputs": [
    {
     "name": "stdout",
     "output_type": "stream",
     "text": [
      "0\n",
      "3\n",
      "6\n",
      "9\n"
     ]
    }
   ],
   "source": [
    "for i in range(0,10,3):\n",
    "    print(i)"
   ]
  },
  {
   "cell_type": "code",
   "execution_count": 6,
   "id": "d9b699a4",
   "metadata": {},
   "outputs": [
    {
     "data": {
      "text/plain": [
       "5"
      ]
     },
     "execution_count": 6,
     "metadata": {},
     "output_type": "execute_result"
    }
   ],
   "source": [
    "len(range(11,20,2))"
   ]
  },
  {
   "cell_type": "code",
   "execution_count": 7,
   "id": "1c3f4246",
   "metadata": {},
   "outputs": [
    {
     "name": "stdout",
     "output_type": "stream",
     "text": [
      "0\n",
      "1\n",
      "2\n",
      "3\n"
     ]
    }
   ],
   "source": [
    "for i in range(len([1,2,3,4])):\n",
    "    print(i)"
   ]
  },
  {
   "cell_type": "code",
   "execution_count": 8,
   "id": "8b966c52",
   "metadata": {},
   "outputs": [
    {
     "data": {
      "text/plain": [
       "['odd', 'even', 'odd', 'even', 'odd', 'even', 'odd', 'even', 'odd', 'even']"
      ]
     },
     "execution_count": 8,
     "metadata": {},
     "output_type": "execute_result"
    }
   ],
   "source": [
    "[\"even\" if i%2==1 else \"odd\" for i in range(10)]"
   ]
  },
  {
   "cell_type": "code",
   "execution_count": 12,
   "id": "aa08cda8",
   "metadata": {},
   "outputs": [],
   "source": [
    "lst=[]\n",
    "for i in range(10):\n",
    "    if i%2==0:\n",
    "        lst.append(\"even\")\n",
    "    else:\n",
    "        lst.append(\"odd\")"
   ]
  },
  {
   "cell_type": "code",
   "execution_count": 13,
   "id": "66aa7bc2",
   "metadata": {},
   "outputs": [
    {
     "data": {
      "text/plain": [
       "['even', 'odd', 'even', 'odd', 'even', 'odd', 'even', 'odd', 'even', 'odd']"
      ]
     },
     "execution_count": 13,
     "metadata": {},
     "output_type": "execute_result"
    }
   ],
   "source": [
    "lst"
   ]
  },
  {
   "cell_type": "code",
   "execution_count": 20,
   "id": "5b872aac",
   "metadata": {},
   "outputs": [
    {
     "data": {
      "text/plain": [
       "[0, 3, 6, 9, 12, 15, 18, 21, 24, 27]"
      ]
     },
     "execution_count": 20,
     "metadata": {},
     "output_type": "execute_result"
    }
   ],
   "source": [
    "[i*3 for i in range(10)]"
   ]
  },
  {
   "cell_type": "code",
   "execution_count": 34,
   "id": "7f642997",
   "metadata": {},
   "outputs": [],
   "source": [
    "lsst=[\"aishal\",\"AISHAL\",\"Thorat\",\"raj\",\"aditya\"]"
   ]
  },
  {
   "cell_type": "code",
   "execution_count": 35,
   "id": "18c8c535",
   "metadata": {},
   "outputs": [
    {
     "data": {
      "text/plain": [
       "'raj'"
      ]
     },
     "execution_count": 35,
     "metadata": {},
     "output_type": "execute_result"
    }
   ],
   "source": [
    "max(lsst)"
   ]
  },
  {
   "cell_type": "code",
   "execution_count": 33,
   "id": "19a3994e",
   "metadata": {},
   "outputs": [
    {
     "data": {
      "text/plain": [
       "'AISHAL'"
      ]
     },
     "execution_count": 33,
     "metadata": {},
     "output_type": "execute_result"
    }
   ],
   "source": [
    "min(lsst)"
   ]
  },
  {
   "cell_type": "code",
   "execution_count": 2,
   "id": "9b61e145",
   "metadata": {},
   "outputs": [],
   "source": [
    "t = ()"
   ]
  },
  {
   "cell_type": "code",
   "execution_count": 3,
   "id": "fb4a10b5",
   "metadata": {},
   "outputs": [
    {
     "data": {
      "text/plain": [
       "tuple"
      ]
     },
     "execution_count": 3,
     "metadata": {},
     "output_type": "execute_result"
    }
   ],
   "source": [
    "type(t)"
   ]
  },
  {
   "cell_type": "code",
   "execution_count": 4,
   "id": "472ca5fd",
   "metadata": {},
   "outputs": [],
   "source": [
    "t1=(77,23,54,65,\"vishal\",True)"
   ]
  },
  {
   "cell_type": "code",
   "execution_count": 5,
   "id": "e0e1441c",
   "metadata": {},
   "outputs": [],
   "source": [
    "l1=[876,655,78,\"thorat\",False]"
   ]
  },
  {
   "cell_type": "code",
   "execution_count": 6,
   "id": "74d1bb89",
   "metadata": {},
   "outputs": [
    {
     "data": {
      "text/plain": [
       "(77, 23, 54, 65, 'vishal', True)"
      ]
     },
     "execution_count": 6,
     "metadata": {},
     "output_type": "execute_result"
    }
   ],
   "source": [
    "t1[0:6]"
   ]
  },
  {
   "cell_type": "code",
   "execution_count": 7,
   "id": "361e281d",
   "metadata": {},
   "outputs": [],
   "source": [
    "l1[0]=\"vishal\""
   ]
  },
  {
   "cell_type": "code",
   "execution_count": 8,
   "id": "ea778a70",
   "metadata": {},
   "outputs": [
    {
     "data": {
      "text/plain": [
       "['vishal', 655, 78, 'thorat', False]"
      ]
     },
     "execution_count": 8,
     "metadata": {},
     "output_type": "execute_result"
    }
   ],
   "source": [
    "l1"
   ]
  },
  {
   "cell_type": "code",
   "execution_count": 9,
   "id": "3cb11758",
   "metadata": {},
   "outputs": [],
   "source": [
    "#tuple- immutuable collection\n",
    "#list- mutuable collection"
   ]
  },
  {
   "cell_type": "code",
   "execution_count": 10,
   "id": "e3413034",
   "metadata": {},
   "outputs": [],
   "source": [
    "t2=(637,23,45,56,\"bishal\")"
   ]
  },
  {
   "cell_type": "code",
   "execution_count": 11,
   "id": "3791ecfb",
   "metadata": {},
   "outputs": [
    {
     "data": {
      "text/plain": [
       "(77, 23, 54, 65, 'vishal', True, 637, 23, 45, 56, 'bishal')"
      ]
     },
     "execution_count": 11,
     "metadata": {},
     "output_type": "execute_result"
    }
   ],
   "source": [
    "t1+t2"
   ]
  },
  {
   "cell_type": "code",
   "execution_count": 12,
   "id": "0232a3c1",
   "metadata": {},
   "outputs": [
    {
     "data": {
      "text/plain": [
       "(77, 23, 54, 65, 'vishal', True)"
      ]
     },
     "execution_count": 12,
     "metadata": {},
     "output_type": "execute_result"
    }
   ],
   "source": [
    "t1"
   ]
  },
  {
   "cell_type": "code",
   "execution_count": 13,
   "id": "bf0e6057",
   "metadata": {},
   "outputs": [
    {
     "data": {
      "text/plain": [
       "True"
      ]
     },
     "execution_count": 13,
     "metadata": {},
     "output_type": "execute_result"
    }
   ],
   "source": [
    "77 in t1"
   ]
  },
  {
   "cell_type": "code",
   "execution_count": 14,
   "id": "26a152be",
   "metadata": {},
   "outputs": [
    {
     "data": {
      "text/plain": [
       "False"
      ]
     },
     "execution_count": 14,
     "metadata": {},
     "output_type": "execute_result"
    }
   ],
   "source": [
    "\"bjxhcv\" in t1"
   ]
  },
  {
   "cell_type": "code",
   "execution_count": 15,
   "id": "b03ec0f6",
   "metadata": {},
   "outputs": [],
   "source": [
    "t3=(32,45,65,76,34,56,34,356)"
   ]
  },
  {
   "cell_type": "code",
   "execution_count": 16,
   "id": "cf19db6d",
   "metadata": {},
   "outputs": [
    {
     "data": {
      "text/plain": [
       "356"
      ]
     },
     "execution_count": 16,
     "metadata": {},
     "output_type": "execute_result"
    }
   ],
   "source": [
    "max(t3)"
   ]
  },
  {
   "cell_type": "code",
   "execution_count": 17,
   "id": "ba1cb508",
   "metadata": {},
   "outputs": [
    {
     "data": {
      "text/plain": [
       "0"
      ]
     },
     "execution_count": 17,
     "metadata": {},
     "output_type": "execute_result"
    }
   ],
   "source": [
    "t1.index(77)"
   ]
  },
  {
   "cell_type": "code",
   "execution_count": 18,
   "id": "13b9f99d",
   "metadata": {},
   "outputs": [
    {
     "data": {
      "text/plain": [
       "2"
      ]
     },
     "execution_count": 18,
     "metadata": {},
     "output_type": "execute_result"
    }
   ],
   "source": [
    "t3.count(34)"
   ]
  },
  {
   "cell_type": "code",
   "execution_count": 19,
   "id": "5135f6ca",
   "metadata": {},
   "outputs": [
    {
     "data": {
      "text/plain": [
       "['vishal', 655, 78, 'thorat', False]"
      ]
     },
     "execution_count": 19,
     "metadata": {},
     "output_type": "execute_result"
    }
   ],
   "source": [
    "l1"
   ]
  },
  {
   "cell_type": "code",
   "execution_count": 20,
   "id": "2ea717d0",
   "metadata": {},
   "outputs": [
    {
     "data": {
      "text/plain": [
       "1"
      ]
     },
     "execution_count": 20,
     "metadata": {},
     "output_type": "execute_result"
    }
   ],
   "source": [
    "l1.count(\"vishal\")"
   ]
  },
  {
   "cell_type": "code",
   "execution_count": 21,
   "id": "0fadccf4",
   "metadata": {},
   "outputs": [
    {
     "data": {
      "text/plain": [
       "(32, 45, 65, 76, 34, 56, 34, 356)"
      ]
     },
     "execution_count": 21,
     "metadata": {},
     "output_type": "execute_result"
    }
   ],
   "source": [
    "t3"
   ]
  },
  {
   "cell_type": "code",
   "execution_count": 23,
   "id": "857f633d",
   "metadata": {},
   "outputs": [
    {
     "data": {
      "text/plain": [
       "32"
      ]
     },
     "execution_count": 23,
     "metadata": {},
     "output_type": "execute_result"
    }
   ],
   "source": [
    "min(t3)"
   ]
  },
  {
   "cell_type": "code",
   "execution_count": 88,
   "id": "cd197007",
   "metadata": {},
   "outputs": [
    {
     "data": {
      "text/plain": [
       "(77, 23, 54, 65, 'vishal', True, 6.34, False)"
      ]
     },
     "execution_count": 88,
     "metadata": {},
     "output_type": "execute_result"
    }
   ],
   "source": [
    "t1"
   ]
  },
  {
   "cell_type": "code",
   "execution_count": 26,
   "id": "b349354c",
   "metadata": {},
   "outputs": [
    {
     "data": {
      "text/plain": [
       "(77, 23, 54, 65, 'vishal', True, 6.34, False)"
      ]
     },
     "execution_count": 26,
     "metadata": {},
     "output_type": "execute_result"
    }
   ],
   "source": [
    "t1"
   ]
  },
  {
   "cell_type": "code",
   "execution_count": 27,
   "id": "2e3e7d34",
   "metadata": {},
   "outputs": [],
   "source": [
    "t5=(786,652)"
   ]
  },
  {
   "cell_type": "code",
   "execution_count": 28,
   "id": "57982267",
   "metadata": {},
   "outputs": [
    {
     "data": {
      "text/plain": [
       "(77, 23, 54, 65, 'vishal', True, 6.34, False, 786, 652)"
      ]
     },
     "execution_count": 28,
     "metadata": {},
     "output_type": "execute_result"
    }
   ],
   "source": [
    "t1+t5"
   ]
  },
  {
   "cell_type": "code",
   "execution_count": 29,
   "id": "803b16c3",
   "metadata": {},
   "outputs": [],
   "source": [
    "l5=list(t1)"
   ]
  },
  {
   "cell_type": "code",
   "execution_count": 30,
   "id": "8a5e65a1",
   "metadata": {},
   "outputs": [
    {
     "data": {
      "text/plain": [
       "[77, 23, 54, 65, 'vishal', True, 6.34, False]"
      ]
     },
     "execution_count": 30,
     "metadata": {},
     "output_type": "execute_result"
    }
   ],
   "source": [
    "l5"
   ]
  },
  {
   "cell_type": "code",
   "execution_count": 31,
   "id": "2ce79dc2",
   "metadata": {},
   "outputs": [],
   "source": [
    "t6=87"
   ]
  },
  {
   "cell_type": "code",
   "execution_count": 33,
   "id": "64e6fc0f",
   "metadata": {},
   "outputs": [],
   "source": [
    "l5.insert(3,t6)"
   ]
  },
  {
   "cell_type": "code",
   "execution_count": 41,
   "id": "0bbfed41",
   "metadata": {},
   "outputs": [
    {
     "data": {
      "text/plain": [
       "[77, 23, 54, 87, 65, 'vishal', True, 6.34, False]"
      ]
     },
     "execution_count": 41,
     "metadata": {},
     "output_type": "execute_result"
    }
   ],
   "source": [
    "l5"
   ]
  },
  {
   "cell_type": "code",
   "execution_count": 42,
   "id": "57124807",
   "metadata": {},
   "outputs": [
    {
     "data": {
      "text/plain": [
       "(77, 23, 54, 87, 65, 'vishal', True, 6.34, False)"
      ]
     },
     "execution_count": 42,
     "metadata": {},
     "output_type": "execute_result"
    }
   ],
   "source": [
    "v=tuple(l5)\n",
    "v"
   ]
  },
  {
   "cell_type": "code",
   "execution_count": 71,
   "id": "f646cf5e",
   "metadata": {},
   "outputs": [],
   "source": [
    "s=((\"vishal\",7634,7436,9845,8975.43),(\"thorat\",736,7834,234),787,898,65,[1,2,\"vish\",34,5,6,7])"
   ]
  },
  {
   "cell_type": "code",
   "execution_count": 72,
   "id": "bb905b33",
   "metadata": {},
   "outputs": [
    {
     "data": {
      "text/plain": [
       "34"
      ]
     },
     "execution_count": 72,
     "metadata": {},
     "output_type": "execute_result"
    }
   ],
   "source": [
    "s[5][3]"
   ]
  },
  {
   "cell_type": "code",
   "execution_count": 73,
   "id": "5698c0c5",
   "metadata": {},
   "outputs": [
    {
     "name": "stdout",
     "output_type": "stream",
     "text": [
      "vishal\n",
      "thorat\n"
     ]
    }
   ],
   "source": [
    "for i in s:\n",
    "    if type(i)==tuple:\n",
    "        print(i[0])"
   ]
  },
  {
   "cell_type": "code",
   "execution_count": 74,
   "id": "fd614006",
   "metadata": {},
   "outputs": [
    {
     "data": {
      "text/plain": [
       "(637, 23, 45, 56, 'bishal')"
      ]
     },
     "execution_count": 74,
     "metadata": {},
     "output_type": "execute_result"
    }
   ],
   "source": [
    "t2"
   ]
  },
  {
   "cell_type": "code",
   "execution_count": 76,
   "id": "1374a2ce",
   "metadata": {},
   "outputs": [
    {
     "name": "stdout",
     "output_type": "stream",
     "text": [
      "not same\n"
     ]
    }
   ],
   "source": [
    "if len(t1)==len(t2):\n",
    "    print(\"its same\")\n",
    "else:\n",
    "    print(\"not same\")"
   ]
  },
  {
   "cell_type": "code",
   "execution_count": 39,
   "id": "96cd66ce",
   "metadata": {},
   "outputs": [],
   "source": [
    "t=(77, 23, 54, 65, 'vishal',8743.3,True,\"thorat\",\"shubha\")"
   ]
  },
  {
   "cell_type": "code",
   "execution_count": 41,
   "id": "d1c1d76d",
   "metadata": {},
   "outputs": [
    {
     "name": "stdout",
     "output_type": "stream",
     "text": [
      "take a user input shubha\n",
      "your name is available\n"
     ]
    }
   ],
   "source": [
    "i= input(\"take a user input \")\n",
    "\n",
    "if i in t:\n",
    "    print(\"your name is available\")\n",
    "else:\n",
    "    print(\"your name is not available\")"
   ]
  },
  {
   "cell_type": "code",
   "execution_count": 96,
   "id": "78ed3ac8",
   "metadata": {},
   "outputs": [],
   "source": [
    "del(t)\n",
    "#for delete operation"
   ]
  },
  {
   "cell_type": "code",
   "execution_count": 103,
   "id": "a3340f94",
   "metadata": {},
   "outputs": [
    {
     "data": {
      "text/plain": [
       "['vishal', 655, 78, 'thorat', False]"
      ]
     },
     "execution_count": 103,
     "metadata": {},
     "output_type": "execute_result"
    }
   ],
   "source": [
    "l1"
   ]
  },
  {
   "cell_type": "code",
   "execution_count": 98,
   "id": "67faa592",
   "metadata": {},
   "outputs": [
    {
     "data": {
      "text/plain": [
       "(637, 23, 45, 56, 'bishal')"
      ]
     },
     "execution_count": 98,
     "metadata": {},
     "output_type": "execute_result"
    }
   ],
   "source": [
    "t2"
   ]
  },
  {
   "cell_type": "code",
   "execution_count": 99,
   "id": "cd2e1538",
   "metadata": {},
   "outputs": [],
   "source": [
    "x=set()"
   ]
  },
  {
   "cell_type": "code",
   "execution_count": 100,
   "id": "72fb2b89",
   "metadata": {},
   "outputs": [
    {
     "data": {
      "text/plain": [
       "set"
      ]
     },
     "execution_count": 100,
     "metadata": {},
     "output_type": "execute_result"
    }
   ],
   "source": [
    "type(x)"
   ]
  },
  {
   "cell_type": "code",
   "execution_count": 120,
   "id": "9b380bbb",
   "metadata": {},
   "outputs": [],
   "source": [
    "l=[34,45,45,45,67,34,56,73847588,3478567634,76324562,78,\"vish\",\"vish\",\"Vish\",\"thorat\"]"
   ]
  },
  {
   "cell_type": "code",
   "execution_count": 121,
   "id": "76099625",
   "metadata": {},
   "outputs": [
    {
     "data": {
      "text/plain": [
       "{34, 3478567634, 45, 56, 67, 73847588, 76324562, 78, 'Vish', 'thorat', 'vish'}"
      ]
     },
     "execution_count": 121,
     "metadata": {},
     "output_type": "execute_result"
    }
   ],
   "source": [
    "set(l)"
   ]
  },
  {
   "cell_type": "code",
   "execution_count": 110,
   "id": "fb0851e8",
   "metadata": {},
   "outputs": [],
   "source": [
    "s=set(l)"
   ]
  },
  {
   "cell_type": "code",
   "execution_count": 111,
   "id": "e4c03c23",
   "metadata": {},
   "outputs": [
    {
     "data": {
      "text/plain": [
       "{34, 45, 56, 67, 78, 'Vish', 'thorat', 'vish'}"
      ]
     },
     "execution_count": 111,
     "metadata": {},
     "output_type": "execute_result"
    }
   ],
   "source": [
    "s"
   ]
  },
  {
   "cell_type": "code",
   "execution_count": 113,
   "id": "12c190e3",
   "metadata": {},
   "outputs": [
    {
     "name": "stdout",
     "output_type": "stream",
     "text": [
      "34\n",
      "67\n",
      "Vish\n",
      "45\n",
      "78\n",
      "thorat\n",
      "vish\n",
      "56\n"
     ]
    }
   ],
   "source": [
    "for i in s:\n",
    "    print(i)"
   ]
  },
  {
   "cell_type": "code",
   "execution_count": 114,
   "id": "018313bb",
   "metadata": {},
   "outputs": [
    {
     "data": {
      "text/plain": [
       "True"
      ]
     },
     "execution_count": 114,
     "metadata": {},
     "output_type": "execute_result"
    }
   ],
   "source": [
    "34 in s"
   ]
  },
  {
   "cell_type": "code",
   "execution_count": 122,
   "id": "46cb0553",
   "metadata": {},
   "outputs": [],
   "source": [
    "s=set()"
   ]
  },
  {
   "cell_type": "code",
   "execution_count": 123,
   "id": "07a4c59d",
   "metadata": {},
   "outputs": [],
   "source": [
    "s.add(\"vish\")"
   ]
  },
  {
   "cell_type": "code",
   "execution_count": 124,
   "id": "f977480f",
   "metadata": {},
   "outputs": [
    {
     "data": {
      "text/plain": [
       "{'vish'}"
      ]
     },
     "execution_count": 124,
     "metadata": {},
     "output_type": "execute_result"
    }
   ],
   "source": [
    "s"
   ]
  },
  {
   "cell_type": "code",
   "execution_count": 132,
   "id": "f7ee4813",
   "metadata": {},
   "outputs": [],
   "source": [
    "s.add(98)"
   ]
  },
  {
   "cell_type": "code",
   "execution_count": 133,
   "id": "9685b28d",
   "metadata": {},
   "outputs": [
    {
     "data": {
      "text/plain": [
       "{334, 98, 'vish'}"
      ]
     },
     "execution_count": 133,
     "metadata": {},
     "output_type": "execute_result"
    }
   ],
   "source": [
    "s"
   ]
  },
  {
   "cell_type": "code",
   "execution_count": 140,
   "id": "078e8470",
   "metadata": {},
   "outputs": [],
   "source": [
    "s.remove(334)"
   ]
  },
  {
   "cell_type": "code",
   "execution_count": 141,
   "id": "1ea1e7d6",
   "metadata": {},
   "outputs": [],
   "source": [
    "s.add(334)"
   ]
  },
  {
   "cell_type": "code",
   "execution_count": 142,
   "id": "f2b13e05",
   "metadata": {},
   "outputs": [
    {
     "data": {
      "text/plain": [
       "{334, 98, 'vish'}"
      ]
     },
     "execution_count": 142,
     "metadata": {},
     "output_type": "execute_result"
    }
   ],
   "source": [
    "s"
   ]
  },
  {
   "cell_type": "code",
   "execution_count": 143,
   "id": "d7666e0c",
   "metadata": {},
   "outputs": [],
   "source": [
    "s.clear()"
   ]
  },
  {
   "cell_type": "code",
   "execution_count": 144,
   "id": "398bab75",
   "metadata": {},
   "outputs": [
    {
     "data": {
      "text/plain": [
       "set()"
      ]
     },
     "execution_count": 144,
     "metadata": {},
     "output_type": "execute_result"
    }
   ],
   "source": [
    "s"
   ]
  },
  {
   "cell_type": "code",
   "execution_count": 146,
   "id": "49130933",
   "metadata": {},
   "outputs": [],
   "source": [
    "s.add(\"vihsk\")"
   ]
  },
  {
   "cell_type": "code",
   "execution_count": 147,
   "id": "63481d34",
   "metadata": {},
   "outputs": [],
   "source": [
    "s.add(672)"
   ]
  },
  {
   "cell_type": "code",
   "execution_count": 148,
   "id": "dac0f21f",
   "metadata": {},
   "outputs": [],
   "source": [
    "s.add(\"thorat\")"
   ]
  },
  {
   "cell_type": "code",
   "execution_count": 150,
   "id": "142e4330",
   "metadata": {},
   "outputs": [],
   "source": [
    "s.add(87)"
   ]
  },
  {
   "cell_type": "code",
   "execution_count": 151,
   "id": "31a088cf",
   "metadata": {},
   "outputs": [
    {
     "data": {
      "text/plain": [
       "{672, 87, 'thorat', 'vihsk'}"
      ]
     },
     "execution_count": 151,
     "metadata": {},
     "output_type": "execute_result"
    }
   ],
   "source": [
    "s"
   ]
  },
  {
   "cell_type": "code",
   "execution_count": 154,
   "id": "7ef37b6f",
   "metadata": {},
   "outputs": [],
   "source": [
    "s1=set(l)"
   ]
  },
  {
   "cell_type": "code",
   "execution_count": 153,
   "id": "8fdae801",
   "metadata": {},
   "outputs": [],
   "source": [
    "l=[32,43,657,678,785]"
   ]
  },
  {
   "cell_type": "code",
   "execution_count": 155,
   "id": "1741c97f",
   "metadata": {},
   "outputs": [
    {
     "data": {
      "text/plain": [
       "{32, 43, 657, 678, 785}"
      ]
     },
     "execution_count": 155,
     "metadata": {},
     "output_type": "execute_result"
    }
   ],
   "source": [
    "s1"
   ]
  },
  {
   "cell_type": "code",
   "execution_count": 159,
   "id": "46023228",
   "metadata": {},
   "outputs": [],
   "source": [
    "l4=list(s)"
   ]
  },
  {
   "cell_type": "code",
   "execution_count": 162,
   "id": "cae6cb8a",
   "metadata": {},
   "outputs": [],
   "source": [
    "l4.append(67352)"
   ]
  },
  {
   "cell_type": "code",
   "execution_count": 163,
   "id": "2e751b84",
   "metadata": {},
   "outputs": [
    {
     "data": {
      "text/plain": [
       "[672, 'thorat', 'vihsk', 87, 67352, 67352]"
      ]
     },
     "execution_count": 163,
     "metadata": {},
     "output_type": "execute_result"
    }
   ],
   "source": [
    "l4"
   ]
  },
  {
   "cell_type": "code",
   "execution_count": 165,
   "id": "f3f74d43",
   "metadata": {},
   "outputs": [],
   "source": [
    "t4=tuple(s)"
   ]
  },
  {
   "cell_type": "code",
   "execution_count": 166,
   "id": "2fa30614",
   "metadata": {},
   "outputs": [
    {
     "data": {
      "text/plain": [
       "{672, 87, 'thorat', 'vihsk'}"
      ]
     },
     "execution_count": 166,
     "metadata": {},
     "output_type": "execute_result"
    }
   ],
   "source": [
    "set(t4)"
   ]
  },
  {
   "cell_type": "markdown",
   "id": "d049f65b",
   "metadata": {},
   "source": [
    "# tuple"
   ]
  },
  {
   "cell_type": "code",
   "execution_count": 2,
   "id": "41cd8e3b",
   "metadata": {},
   "outputs": [],
   "source": [
    "l1=[\"vish\",23,34,65]"
   ]
  },
  {
   "cell_type": "code",
   "execution_count": 3,
   "id": "7b1a4736",
   "metadata": {},
   "outputs": [],
   "source": [
    "l1[0]=\"vishal\""
   ]
  },
  {
   "cell_type": "code",
   "execution_count": 5,
   "id": "4ec80970",
   "metadata": {},
   "outputs": [
    {
     "data": {
      "text/plain": [
       "['vishal', 23, 34, 65]"
      ]
     },
     "execution_count": 5,
     "metadata": {},
     "output_type": "execute_result"
    }
   ],
   "source": [
    "l1\n",
    "#list is mutable elemet and tuple is immutable element(we cannot replace)"
   ]
  },
  {
   "cell_type": "code",
   "execution_count": 24,
   "id": "9233aa6c",
   "metadata": {},
   "outputs": [],
   "source": [
    "t1=(\"vishal\",\"thorat\",76,34,34,34,34,98,54,True)"
   ]
  },
  {
   "cell_type": "code",
   "execution_count": 25,
   "id": "afdf1eab",
   "metadata": {},
   "outputs": [
    {
     "data": {
      "text/plain": [
       "tuple"
      ]
     },
     "execution_count": 25,
     "metadata": {},
     "output_type": "execute_result"
    }
   ],
   "source": [
    "type(t1)"
   ]
  },
  {
   "cell_type": "code",
   "execution_count": 26,
   "id": "7de9a3ac",
   "metadata": {},
   "outputs": [],
   "source": [
    "t2=(234,456,576)"
   ]
  },
  {
   "cell_type": "code",
   "execution_count": 27,
   "id": "29a44bc6",
   "metadata": {},
   "outputs": [
    {
     "data": {
      "text/plain": [
       "('vishal', 'thorat', 76, 34, 34, 34, 34, 98, 54, True, 234, 456, 576)"
      ]
     },
     "execution_count": 27,
     "metadata": {},
     "output_type": "execute_result"
    }
   ],
   "source": [
    "t1+t2"
   ]
  },
  {
   "cell_type": "code",
   "execution_count": 28,
   "id": "f3d929cc",
   "metadata": {},
   "outputs": [
    {
     "data": {
      "text/plain": [
       "True"
      ]
     },
     "execution_count": 28,
     "metadata": {},
     "output_type": "execute_result"
    }
   ],
   "source": [
    "76 in t1"
   ]
  },
  {
   "cell_type": "code",
   "execution_count": 29,
   "id": "c8ffb11e",
   "metadata": {},
   "outputs": [
    {
     "data": {
      "text/plain": [
       "False"
      ]
     },
     "execution_count": 29,
     "metadata": {},
     "output_type": "execute_result"
    }
   ],
   "source": [
    "787 in t1"
   ]
  },
  {
   "cell_type": "code",
   "execution_count": 30,
   "id": "ed1a83d1",
   "metadata": {},
   "outputs": [],
   "source": [
    "t3=(3,34,45,2,435,34,23)"
   ]
  },
  {
   "cell_type": "code",
   "execution_count": 31,
   "id": "d064fa26",
   "metadata": {},
   "outputs": [
    {
     "data": {
      "text/plain": [
       "435"
      ]
     },
     "execution_count": 31,
     "metadata": {},
     "output_type": "execute_result"
    }
   ],
   "source": [
    "max(t3)"
   ]
  },
  {
   "cell_type": "code",
   "execution_count": 32,
   "id": "e22af9da",
   "metadata": {},
   "outputs": [
    {
     "data": {
      "text/plain": [
       "2"
      ]
     },
     "execution_count": 32,
     "metadata": {},
     "output_type": "execute_result"
    }
   ],
   "source": [
    "t1.index(76)"
   ]
  },
  {
   "cell_type": "code",
   "execution_count": 33,
   "id": "6e781e4c",
   "metadata": {},
   "outputs": [
    {
     "data": {
      "text/plain": [
       "('vishal', 'thorat', 76, 34, 34, 34, 34, 98, 54, True)"
      ]
     },
     "execution_count": 33,
     "metadata": {},
     "output_type": "execute_result"
    }
   ],
   "source": [
    "t1"
   ]
  },
  {
   "cell_type": "code",
   "execution_count": 34,
   "id": "03b12861",
   "metadata": {},
   "outputs": [
    {
     "data": {
      "text/plain": [
       "4"
      ]
     },
     "execution_count": 34,
     "metadata": {},
     "output_type": "execute_result"
    }
   ],
   "source": [
    "t1.count(34)"
   ]
  },
  {
   "cell_type": "code",
   "execution_count": 35,
   "id": "08ccfb63",
   "metadata": {},
   "outputs": [],
   "source": [
    "l5=list(t1)"
   ]
  },
  {
   "cell_type": "code",
   "execution_count": 36,
   "id": "7f3b35e3",
   "metadata": {},
   "outputs": [
    {
     "data": {
      "text/plain": [
       "['vishal', 'thorat', 76, 34, 34, 34, 34, 98, 54, True]"
      ]
     },
     "execution_count": 36,
     "metadata": {},
     "output_type": "execute_result"
    }
   ],
   "source": [
    "l5"
   ]
  },
  {
   "cell_type": "code",
   "execution_count": 37,
   "id": "d9536aa1",
   "metadata": {},
   "outputs": [],
   "source": [
    "t6=56"
   ]
  },
  {
   "cell_type": "code",
   "execution_count": 39,
   "id": "0b72eeaf",
   "metadata": {},
   "outputs": [
    {
     "data": {
      "text/plain": [
       "['vishal', 'thorat', 76, 56, 56, 34, 34, 34, 34, 98, 54, True]"
      ]
     },
     "execution_count": 39,
     "metadata": {},
     "output_type": "execute_result"
    }
   ],
   "source": [
    "l5.insert(3,t6)\n",
    "l5"
   ]
  },
  {
   "cell_type": "code",
   "execution_count": 40,
   "id": "77208f76",
   "metadata": {},
   "outputs": [
    {
     "data": {
      "text/plain": [
       "('vishal', 'thorat', 76, 56, 56, 34, 34, 34, 34, 98, 54, True)"
      ]
     },
     "execution_count": 40,
     "metadata": {},
     "output_type": "execute_result"
    }
   ],
   "source": [
    "tuple(l5)"
   ]
  },
  {
   "cell_type": "code",
   "execution_count": 41,
   "id": "c88c3190",
   "metadata": {},
   "outputs": [],
   "source": [
    "t=((3,4,5,6,7,6),(\"vish\",\"thor\",\"shaus\",4,34,5,67),45,5,3,34,[3,4,5,6,7])"
   ]
  },
  {
   "cell_type": "code",
   "execution_count": 44,
   "id": "b6dc0ca5",
   "metadata": {},
   "outputs": [
    {
     "data": {
      "text/plain": [
       "5"
      ]
     },
     "execution_count": 44,
     "metadata": {},
     "output_type": "execute_result"
    }
   ],
   "source": [
    "t[7][2]"
   ]
  },
  {
   "cell_type": "code",
   "execution_count": 45,
   "id": "4cdda558",
   "metadata": {},
   "outputs": [
    {
     "data": {
      "text/plain": [
       "'shaus'"
      ]
     },
     "execution_count": 45,
     "metadata": {},
     "output_type": "execute_result"
    }
   ],
   "source": [
    "t[1][2]"
   ]
  },
  {
   "cell_type": "code",
   "execution_count": 46,
   "id": "d57e4b9f",
   "metadata": {},
   "outputs": [
    {
     "name": "stdout",
     "output_type": "stream",
     "text": [
      "3\n",
      "vish\n"
     ]
    }
   ],
   "source": [
    "for i in t:\n",
    "    if type(i)==tuple:\n",
    "        print(i[0])"
   ]
  },
  {
   "cell_type": "code",
   "execution_count": 49,
   "id": "a04bff23",
   "metadata": {},
   "outputs": [
    {
     "data": {
      "text/plain": [
       "(234, 456, 576)"
      ]
     },
     "execution_count": 49,
     "metadata": {},
     "output_type": "execute_result"
    }
   ],
   "source": [
    "t2"
   ]
  },
  {
   "cell_type": "code",
   "execution_count": 50,
   "id": "79ae8b7e",
   "metadata": {},
   "outputs": [
    {
     "data": {
      "text/plain": [
       "('vishal', 'thorat', 76, 34, 34, 34, 34, 98, 54, True)"
      ]
     },
     "execution_count": 50,
     "metadata": {},
     "output_type": "execute_result"
    }
   ],
   "source": [
    "t1"
   ]
  },
  {
   "cell_type": "code",
   "execution_count": 51,
   "id": "d9b5538d",
   "metadata": {},
   "outputs": [
    {
     "name": "stdout",
     "output_type": "stream",
     "text": [
      "not same\n"
     ]
    }
   ],
   "source": [
    "if len(t1) == len(t2):\n",
    "    print(\"its same\")\n",
    "else:\n",
    "    print(\"not same\")"
   ]
  },
  {
   "cell_type": "code",
   "execution_count": 52,
   "id": "efdd0ec1",
   "metadata": {},
   "outputs": [
    {
     "data": {
      "text/plain": [
       "('vishal', 'thorat', 76, 34, 34, 34, 34, 98, 54, True)"
      ]
     },
     "execution_count": 52,
     "metadata": {},
     "output_type": "execute_result"
    }
   ],
   "source": [
    "t1"
   ]
  },
  {
   "cell_type": "code",
   "execution_count": 55,
   "id": "0396233f",
   "metadata": {},
   "outputs": [
    {
     "name": "stdout",
     "output_type": "stream",
     "text": [
      "take a  user input: vishal\n",
      "yes your is available\n"
     ]
    }
   ],
   "source": [
    "i = input('take a  user input: ')\n",
    "\n",
    "if i in t1:\n",
    "    print(\"yes your is available\")\n",
    "else:\n",
    "    print(\"your name is not available\")"
   ]
  },
  {
   "cell_type": "markdown",
   "id": "ba7bbf4d",
   "metadata": {},
   "source": [
    "# set"
   ]
  },
  {
   "cell_type": "code",
   "execution_count": 60,
   "id": "b0cbb27f",
   "metadata": {},
   "outputs": [],
   "source": [
    "x=set()"
   ]
  },
  {
   "cell_type": "code",
   "execution_count": 61,
   "id": "6c60192f",
   "metadata": {},
   "outputs": [
    {
     "data": {
      "text/plain": [
       "set"
      ]
     },
     "execution_count": 61,
     "metadata": {},
     "output_type": "execute_result"
    }
   ],
   "source": [
    "type(x)"
   ]
  },
  {
   "cell_type": "code",
   "execution_count": 71,
   "id": "3baf863d",
   "metadata": {},
   "outputs": [],
   "source": [
    "l=[1,2,3,2345344,5,5,5,5,5,5,\"vish\",\"vish\",\"thorat\",\"Vish\"]"
   ]
  },
  {
   "cell_type": "code",
   "execution_count": 72,
   "id": "9d9d2840",
   "metadata": {},
   "outputs": [],
   "source": [
    "s=set(l)"
   ]
  },
  {
   "cell_type": "code",
   "execution_count": 73,
   "id": "6b96ae99",
   "metadata": {},
   "outputs": [
    {
     "data": {
      "text/plain": [
       "{1, 2, 2345344, 3, 5, 'Vish', 'thorat', 'vish'}"
      ]
     },
     "execution_count": 73,
     "metadata": {},
     "output_type": "execute_result"
    }
   ],
   "source": [
    "s"
   ]
  },
  {
   "cell_type": "code",
   "execution_count": 74,
   "id": "bfd82bf1",
   "metadata": {},
   "outputs": [
    {
     "name": "stdout",
     "output_type": "stream",
     "text": [
      "2345344\n",
      "1\n",
      "2\n",
      "3\n",
      "5\n",
      "thorat\n",
      "Vish\n",
      "vish\n"
     ]
    }
   ],
   "source": [
    "for i in s:\n",
    "    print(i)"
   ]
  },
  {
   "cell_type": "code",
   "execution_count": 76,
   "id": "32079ac8",
   "metadata": {},
   "outputs": [
    {
     "data": {
      "text/plain": [
       "set()"
      ]
     },
     "execution_count": 76,
     "metadata": {},
     "output_type": "execute_result"
    }
   ],
   "source": [
    "s=set()\n",
    "s"
   ]
  },
  {
   "cell_type": "code",
   "execution_count": 77,
   "id": "2e5c83c9",
   "metadata": {},
   "outputs": [],
   "source": [
    "s.add(765)"
   ]
  },
  {
   "cell_type": "code",
   "execution_count": 78,
   "id": "a46d32f8",
   "metadata": {},
   "outputs": [],
   "source": [
    "s.add(984)"
   ]
  },
  {
   "cell_type": "code",
   "execution_count": 79,
   "id": "30098684",
   "metadata": {},
   "outputs": [],
   "source": [
    "s.add(\"visg\")"
   ]
  },
  {
   "cell_type": "code",
   "execution_count": 80,
   "id": "4dd2b40d",
   "metadata": {},
   "outputs": [],
   "source": [
    "s.add(7)"
   ]
  },
  {
   "cell_type": "code",
   "execution_count": 81,
   "id": "c9093647",
   "metadata": {},
   "outputs": [],
   "source": [
    "s.add(7)"
   ]
  },
  {
   "cell_type": "code",
   "execution_count": 82,
   "id": "acee584b",
   "metadata": {},
   "outputs": [
    {
     "data": {
      "text/plain": [
       "{7, 765, 984, 'visg'}"
      ]
     },
     "execution_count": 82,
     "metadata": {},
     "output_type": "execute_result"
    }
   ],
   "source": [
    "s"
   ]
  },
  {
   "cell_type": "code",
   "execution_count": 84,
   "id": "0547d0e1",
   "metadata": {},
   "outputs": [],
   "source": [
    "s.add(9)"
   ]
  },
  {
   "cell_type": "code",
   "execution_count": 85,
   "id": "7e0c7578",
   "metadata": {},
   "outputs": [
    {
     "data": {
      "text/plain": [
       "{7, 765, 9, 984, 'visg'}"
      ]
     },
     "execution_count": 85,
     "metadata": {},
     "output_type": "execute_result"
    }
   ],
   "source": [
    "s"
   ]
  },
  {
   "cell_type": "code",
   "execution_count": 86,
   "id": "64a9ef4d",
   "metadata": {},
   "outputs": [],
   "source": [
    "s.remove(9)"
   ]
  },
  {
   "cell_type": "code",
   "execution_count": 87,
   "id": "ceaf444b",
   "metadata": {},
   "outputs": [
    {
     "data": {
      "text/plain": [
       "{7, 765, 984, 'visg'}"
      ]
     },
     "execution_count": 87,
     "metadata": {},
     "output_type": "execute_result"
    }
   ],
   "source": [
    "s"
   ]
  },
  {
   "cell_type": "code",
   "execution_count": 88,
   "id": "b0bc0379",
   "metadata": {},
   "outputs": [
    {
     "data": {
      "text/plain": [
       "False"
      ]
     },
     "execution_count": 88,
     "metadata": {},
     "output_type": "execute_result"
    }
   ],
   "source": [
    "67 in s"
   ]
  },
  {
   "cell_type": "code",
   "execution_count": 89,
   "id": "38f69adb",
   "metadata": {},
   "outputs": [],
   "source": [
    "s.clear()"
   ]
  },
  {
   "cell_type": "code",
   "execution_count": 153,
   "id": "955c96b7",
   "metadata": {},
   "outputs": [],
   "source": [
    "s=set()"
   ]
  },
  {
   "cell_type": "code",
   "execution_count": 154,
   "id": "6d6d8642",
   "metadata": {},
   "outputs": [],
   "source": [
    "s.add(45)\n",
    "s.add(99)\n",
    "s.add(4)\n",
    "s.add(46)\n",
    "s.add(\"vishal\")\n",
    "s.add(\"thorat\")"
   ]
  },
  {
   "cell_type": "code",
   "execution_count": 165,
   "id": "e9774c5e",
   "metadata": {},
   "outputs": [
    {
     "data": {
      "text/plain": [
       "{4, 45, 46, 99, 'thorat', 'vishal'}"
      ]
     },
     "execution_count": 165,
     "metadata": {},
     "output_type": "execute_result"
    }
   ],
   "source": [
    "s"
   ]
  },
  {
   "cell_type": "code",
   "execution_count": 166,
   "id": "c27caefe",
   "metadata": {},
   "outputs": [],
   "source": [
    "l=[34,34,534,53,45,4,5,34,343,43]"
   ]
  },
  {
   "cell_type": "code",
   "execution_count": 167,
   "id": "fc05a692",
   "metadata": {},
   "outputs": [],
   "source": [
    "s1=set(l)"
   ]
  },
  {
   "cell_type": "code",
   "execution_count": 168,
   "id": "1a489208",
   "metadata": {},
   "outputs": [
    {
     "data": {
      "text/plain": [
       "{4, 5, 34, 43, 45, 53, 343, 534}"
      ]
     },
     "execution_count": 168,
     "metadata": {},
     "output_type": "execute_result"
    }
   ],
   "source": [
    "s1"
   ]
  },
  {
   "cell_type": "code",
   "execution_count": 169,
   "id": "36688486",
   "metadata": {},
   "outputs": [
    {
     "ename": "TypeError",
     "evalue": "'tuple' object is not callable",
     "output_type": "error",
     "traceback": [
      "\u001b[1;31m---------------------------------------------------------------------------\u001b[0m",
      "\u001b[1;31mTypeError\u001b[0m                                 Traceback (most recent call last)",
      "Input \u001b[1;32mIn [169]\u001b[0m, in \u001b[0;36m<cell line: 1>\u001b[1;34m()\u001b[0m\n\u001b[1;32m----> 1\u001b[0m l4\u001b[38;5;241m=\u001b[39m\u001b[38;5;28;43mlist\u001b[39;49m\u001b[43m(\u001b[49m\u001b[43ms\u001b[49m\u001b[43m)\u001b[49m\n",
      "\u001b[1;31mTypeError\u001b[0m: 'tuple' object is not callable"
     ]
    }
   ],
   "source": [
    "l4=list(s)"
   ]
  },
  {
   "cell_type": "code",
   "execution_count": 164,
   "id": "354e5726",
   "metadata": {},
   "outputs": [
    {
     "ename": "NameError",
     "evalue": "name 'l4' is not defined",
     "output_type": "error",
     "traceback": [
      "\u001b[1;31m---------------------------------------------------------------------------\u001b[0m",
      "\u001b[1;31mNameError\u001b[0m                                 Traceback (most recent call last)",
      "Input \u001b[1;32mIn [164]\u001b[0m, in \u001b[0;36m<cell line: 1>\u001b[1;34m()\u001b[0m\n\u001b[1;32m----> 1\u001b[0m \u001b[43ml4\u001b[49m\n",
      "\u001b[1;31mNameError\u001b[0m: name 'l4' is not defined"
     ]
    }
   ],
   "source": [
    "l4"
   ]
  },
  {
   "cell_type": "code",
   "execution_count": 161,
   "id": "023e1353",
   "metadata": {},
   "outputs": [
    {
     "ename": "NameError",
     "evalue": "name 'l4' is not defined",
     "output_type": "error",
     "traceback": [
      "\u001b[1;31m---------------------------------------------------------------------------\u001b[0m",
      "\u001b[1;31mNameError\u001b[0m                                 Traceback (most recent call last)",
      "Input \u001b[1;32mIn [161]\u001b[0m, in \u001b[0;36m<cell line: 1>\u001b[1;34m()\u001b[0m\n\u001b[1;32m----> 1\u001b[0m \u001b[43ml4\u001b[49m\u001b[38;5;241m.\u001b[39mappend(\u001b[38;5;241m67\u001b[39m)\n",
      "\u001b[1;31mNameError\u001b[0m: name 'l4' is not defined"
     ]
    }
   ],
   "source": [
    "l4.append(67)"
   ]
  },
  {
   "cell_type": "code",
   "execution_count": 109,
   "id": "d7d76d8b",
   "metadata": {},
   "outputs": [
    {
     "data": {
      "text/plain": [
       "[99, 4, 45, 46, 'thorat', 'vishal', 67, 67]"
      ]
     },
     "execution_count": 109,
     "metadata": {},
     "output_type": "execute_result"
    }
   ],
   "source": [
    "l4"
   ]
  },
  {
   "cell_type": "code",
   "execution_count": 111,
   "id": "9a1cee61",
   "metadata": {},
   "outputs": [],
   "source": [
    "s7=set(l4)"
   ]
  },
  {
   "cell_type": "code",
   "execution_count": 149,
   "id": "afdb478a",
   "metadata": {},
   "outputs": [
    {
     "ename": "NameError",
     "evalue": "name 's7' is not defined",
     "output_type": "error",
     "traceback": [
      "\u001b[1;31m---------------------------------------------------------------------------\u001b[0m",
      "\u001b[1;31mNameError\u001b[0m                                 Traceback (most recent call last)",
      "Input \u001b[1;32mIn [149]\u001b[0m, in \u001b[0;36m<cell line: 1>\u001b[1;34m()\u001b[0m\n\u001b[1;32m----> 1\u001b[0m \u001b[43ms7\u001b[49m\n",
      "\u001b[1;31mNameError\u001b[0m: name 's7' is not defined"
     ]
    }
   ],
   "source": [
    "s7"
   ]
  },
  {
   "cell_type": "markdown",
   "id": "cbd86d21",
   "metadata": {},
   "source": [
    "# Conversion is posible in any type"
   ]
  },
  {
   "cell_type": "code",
   "execution_count": 115,
   "id": "a865fe31",
   "metadata": {},
   "outputs": [
    {
     "data": {
      "text/plain": [
       "(99, 4, 67, 45, 'thorat', 46, 'vishal')"
      ]
     },
     "execution_count": 115,
     "metadata": {},
     "output_type": "execute_result"
    }
   ],
   "source": [
    "t7=tuple(s7)\n",
    "t7"
   ]
  },
  {
   "cell_type": "code",
   "execution_count": 147,
   "id": "6ebde47e",
   "metadata": {},
   "outputs": [
    {
     "data": {
      "text/plain": [
       "(99, 4, 67, 45, 'thorat', 46, 'vishal')"
      ]
     },
     "execution_count": 147,
     "metadata": {},
     "output_type": "execute_result"
    }
   ],
   "source": [
    "t7= (99, 4, 67, 45, 'thorat', 46, 'vishal')\n",
    "t7"
   ]
  },
  {
   "cell_type": "code",
   "execution_count": 148,
   "id": "a588711a",
   "metadata": {},
   "outputs": [
    {
     "ename": "TypeError",
     "evalue": "'tuple' object is not callable",
     "output_type": "error",
     "traceback": [
      "\u001b[1;31m---------------------------------------------------------------------------\u001b[0m",
      "\u001b[1;31mTypeError\u001b[0m                                 Traceback (most recent call last)",
      "Input \u001b[1;32mIn [148]\u001b[0m, in \u001b[0;36m<cell line: 1>\u001b[1;34m()\u001b[0m\n\u001b[1;32m----> 1\u001b[0m l7\u001b[38;5;241m=\u001b[39m\u001b[38;5;28;43mlist\u001b[39;49m\u001b[43m(\u001b[49m\u001b[43mt7\u001b[49m\u001b[43m)\u001b[49m\n\u001b[0;32m      2\u001b[0m l7\n",
      "\u001b[1;31mTypeError\u001b[0m: 'tuple' object is not callable"
     ]
    }
   ],
   "source": [
    "l7=list(t7)\n",
    "l7"
   ]
  },
  {
   "cell_type": "code",
   "execution_count": 117,
   "id": "477f3d9c",
   "metadata": {},
   "outputs": [
    {
     "data": {
      "text/plain": [
       "{4, 45, 46, 67, 99, 'thorat', 'vishal'}"
      ]
     },
     "execution_count": 117,
     "metadata": {},
     "output_type": "execute_result"
    }
   ],
   "source": [
    "s7=set(l7)\n",
    "s7"
   ]
  },
  {
   "cell_type": "markdown",
   "id": "9e0c6a7d",
   "metadata": {},
   "source": [
    "# dictionary"
   ]
  },
  {
   "cell_type": "code",
   "execution_count": 118,
   "id": "fea3d977",
   "metadata": {},
   "outputs": [],
   "source": [
    "x={}"
   ]
  },
  {
   "cell_type": "code",
   "execution_count": 119,
   "id": "ab2716c6",
   "metadata": {},
   "outputs": [
    {
     "data": {
      "text/plain": [
       "dict"
      ]
     },
     "execution_count": 119,
     "metadata": {},
     "output_type": "execute_result"
    }
   ],
   "source": [
    "type(x)"
   ]
  },
  {
   "cell_type": "code",
   "execution_count": 120,
   "id": "8d4ed748",
   "metadata": {},
   "outputs": [],
   "source": [
    "x1={1,2}"
   ]
  },
  {
   "cell_type": "code",
   "execution_count": 122,
   "id": "a52c530b",
   "metadata": {},
   "outputs": [
    {
     "data": {
      "text/plain": [
       "set"
      ]
     },
     "execution_count": 122,
     "metadata": {},
     "output_type": "execute_result"
    }
   ],
   "source": [
    "type(x1)"
   ]
  },
  {
   "cell_type": "code",
   "execution_count": 123,
   "id": "f0596017",
   "metadata": {},
   "outputs": [],
   "source": [
    "x={\"name\":\"vishal\", \"age\":23}"
   ]
  },
  {
   "cell_type": "code",
   "execution_count": 126,
   "id": "a12a8fb2",
   "metadata": {},
   "outputs": [
    {
     "data": {
      "text/plain": [
       "dict"
      ]
     },
     "execution_count": 126,
     "metadata": {},
     "output_type": "execute_result"
    }
   ],
   "source": [
    "type(x)"
   ]
  },
  {
   "cell_type": "code",
   "execution_count": 42,
   "id": "8e3740fc",
   "metadata": {},
   "outputs": [],
   "source": [
    "x1={\"name\":{\"visha\":\"thorat\",\"thorat\":[77,2,323,23]},\"age\":23,\"key\":(76,43,4,33,43,4,8),False:[87,43,43,4,\"Thorat\"],\"namet\":\"vishal\",763:23564,9.76:\"thor\",(8,45):\"kshal\"}"
   ]
  },
  {
   "cell_type": "code",
   "execution_count": 43,
   "id": "75810155",
   "metadata": {},
   "outputs": [
    {
     "data": {
      "text/plain": [
       "dict"
      ]
     },
     "execution_count": 43,
     "metadata": {},
     "output_type": "execute_result"
    }
   ],
   "source": [
    "type(x1)"
   ]
  },
  {
   "cell_type": "code",
   "execution_count": 166,
   "id": "c3cd8a04",
   "metadata": {},
   "outputs": [
    {
     "data": {
      "text/plain": [
       "{'name': {'visha': 'thorat', 'thorat': [77, 2, 323, 23]},\n",
       " 'age': 23,\n",
       " 'key': (76, 43, 4, 33, 43, 4, 8),\n",
       " False: [87, 43, 43, 4, 'Thorat'],\n",
       " 'namet': 'vishal',\n",
       " 763: 23564,\n",
       " 9.76: 'thor',\n",
       " (8, 45): 'kshal'}"
      ]
     },
     "execution_count": 166,
     "metadata": {},
     "output_type": "execute_result"
    }
   ],
   "source": [
    "x1"
   ]
  },
  {
   "cell_type": "code",
   "execution_count": 167,
   "id": "6c7edd4a",
   "metadata": {},
   "outputs": [
    {
     "data": {
      "text/plain": [
       "43"
      ]
     },
     "execution_count": 167,
     "metadata": {},
     "output_type": "execute_result"
    }
   ],
   "source": [
    "x1[False][1]"
   ]
  },
  {
   "cell_type": "code",
   "execution_count": 168,
   "id": "a95d2236",
   "metadata": {},
   "outputs": [
    {
     "data": {
      "text/plain": [
       "(76, 43, 4, 33, 43, 4, 8)"
      ]
     },
     "execution_count": 168,
     "metadata": {},
     "output_type": "execute_result"
    }
   ],
   "source": [
    "x1[\"key\"]"
   ]
  },
  {
   "cell_type": "code",
   "execution_count": 172,
   "id": "b8409c05",
   "metadata": {
    "scrolled": true
   },
   "outputs": [
    {
     "data": {
      "text/plain": [
       "77"
      ]
     },
     "execution_count": 172,
     "metadata": {},
     "output_type": "execute_result"
    }
   ],
   "source": [
    "x1[\"name\"][\"thorat\"][0]"
   ]
  },
  {
   "cell_type": "code",
   "execution_count": 174,
   "id": "877f0b5c",
   "metadata": {},
   "outputs": [],
   "source": [
    "x3={\"vishal\":\"thorat\",\"k4\":[2,3,4,5]}"
   ]
  },
  {
   "cell_type": "code",
   "execution_count": 180,
   "id": "51cb2768",
   "metadata": {},
   "outputs": [],
   "source": [
    "x3[\"k4\"]=125"
   ]
  },
  {
   "cell_type": "code",
   "execution_count": 181,
   "id": "61d0a991",
   "metadata": {},
   "outputs": [
    {
     "data": {
      "text/plain": [
       "{'vishal': 'thorat', 'k4': 125}"
      ]
     },
     "execution_count": 181,
     "metadata": {},
     "output_type": "execute_result"
    }
   ],
   "source": [
    "x3"
   ]
  },
  {
   "cell_type": "code",
   "execution_count": 183,
   "id": "6088180d",
   "metadata": {},
   "outputs": [],
   "source": [
    "x3[\"k4\"]-=10"
   ]
  },
  {
   "cell_type": "code",
   "execution_count": 184,
   "id": "c9fd36d9",
   "metadata": {},
   "outputs": [
    {
     "data": {
      "text/plain": [
       "{'vishal': 'thorat', 'k4': 115}"
      ]
     },
     "execution_count": 184,
     "metadata": {},
     "output_type": "execute_result"
    }
   ],
   "source": [
    "x3"
   ]
  },
  {
   "cell_type": "code",
   "execution_count": 190,
   "id": "51104c5c",
   "metadata": {},
   "outputs": [
    {
     "data": {
      "text/plain": [
       "dict_keys(['vishal', 'k4'])"
      ]
     },
     "execution_count": 190,
     "metadata": {},
     "output_type": "execute_result"
    }
   ],
   "source": [
    "x3.keys()"
   ]
  },
  {
   "cell_type": "code",
   "execution_count": 192,
   "id": "c7b88412",
   "metadata": {},
   "outputs": [
    {
     "name": "stdout",
     "output_type": "stream",
     "text": [
      "thorat\n",
      "115\n"
     ]
    }
   ],
   "source": [
    "for i in x3.keys():\n",
    "    print(x3[i])"
   ]
  },
  {
   "cell_type": "code",
   "execution_count": 193,
   "id": "f2593e7a",
   "metadata": {},
   "outputs": [
    {
     "data": {
      "text/plain": [
       "{'name': {'visha': 'thorat', 'thorat': [77, 2, 323, 23]},\n",
       " 'age': 23,\n",
       " 'key': (76, 43, 4, 33, 43, 4, 8),\n",
       " False: [87, 43, 43, 4, 'Thorat'],\n",
       " 'namet': 'vishal',\n",
       " 763: 23564,\n",
       " 9.76: 'thor',\n",
       " (8, 45): 'kshal'}"
      ]
     },
     "execution_count": 193,
     "metadata": {},
     "output_type": "execute_result"
    }
   ],
   "source": [
    "x1"
   ]
  },
  {
   "cell_type": "code",
   "execution_count": 203,
   "id": "724a95a2",
   "metadata": {},
   "outputs": [
    {
     "data": {
      "text/plain": [
       "dict_keys(['name', 'age', 'key', False, 'namet', 763, 9.76, (8, 45)])"
      ]
     },
     "execution_count": 203,
     "metadata": {},
     "output_type": "execute_result"
    }
   ],
   "source": [
    "x1.keys()"
   ]
  },
  {
   "cell_type": "code",
   "execution_count": 204,
   "id": "395a021f",
   "metadata": {},
   "outputs": [
    {
     "name": "stdout",
     "output_type": "stream",
     "text": [
      "{'visha': 'thorat', 'thorat': [77, 2, 323, 23]}\n",
      "23\n",
      "(76, 43, 4, 33, 43, 4, 8)\n",
      "[87, 43, 43, 4, 'Thorat']\n",
      "vishal\n",
      "23564\n",
      "thor\n",
      "kshal\n"
     ]
    }
   ],
   "source": [
    "for i in x1.keys():\n",
    "    print(x1[i])"
   ]
  },
  {
   "cell_type": "code",
   "execution_count": 205,
   "id": "3c63c623",
   "metadata": {},
   "outputs": [
    {
     "name": "stdout",
     "output_type": "stream",
     "text": [
      "name\n",
      "age\n",
      "key\n",
      "False\n",
      "namet\n",
      "763\n",
      "9.76\n",
      "(8, 45)\n"
     ]
    }
   ],
   "source": [
    "for i in x1:\n",
    "    print(i)"
   ]
  },
  {
   "cell_type": "code",
   "execution_count": 200,
   "id": "76c17e87",
   "metadata": {},
   "outputs": [
    {
     "name": "stdout",
     "output_type": "stream",
     "text": [
      "<class 'dict'>\n",
      "<class 'int'>\n",
      "<class 'tuple'>\n",
      "<class 'list'>\n",
      "<class 'str'>\n",
      "<class 'int'>\n",
      "<class 'str'>\n",
      "<class 'str'>\n"
     ]
    }
   ],
   "source": [
    "for i in x1.keys():\n",
    "    print(type(x1[i]))"
   ]
  },
  {
   "cell_type": "code",
   "execution_count": 201,
   "id": "e9daf85f",
   "metadata": {},
   "outputs": [
    {
     "data": {
      "text/plain": [
       "dict_items([('name', {'visha': 'thorat', 'thorat': [77, 2, 323, 23]}), ('age', 23), ('key', (76, 43, 4, 33, 43, 4, 8)), (False, [87, 43, 43, 4, 'Thorat']), ('namet', 'vishal'), (763, 23564), (9.76, 'thor'), ((8, 45), 'kshal')])"
      ]
     },
     "execution_count": 201,
     "metadata": {},
     "output_type": "execute_result"
    }
   ],
   "source": [
    "x1.items()"
   ]
  },
  {
   "cell_type": "code",
   "execution_count": 206,
   "id": "ebab86f2",
   "metadata": {},
   "outputs": [
    {
     "name": "stdout",
     "output_type": "stream",
     "text": [
      "name\n",
      "age\n",
      "key\n",
      "False\n",
      "namet\n",
      "763\n",
      "9.76\n",
      "(8, 45)\n"
     ]
    }
   ],
   "source": [
    "for i in x1.items():\n",
    "    print(i[0])"
   ]
  },
  {
   "cell_type": "code",
   "execution_count": 207,
   "id": "e3ae0a9e",
   "metadata": {},
   "outputs": [],
   "source": [
    "x5={(3,4,5,6):\"fdgddg\"}"
   ]
  },
  {
   "cell_type": "code",
   "execution_count": 208,
   "id": "e3774e6c",
   "metadata": {},
   "outputs": [
    {
     "data": {
      "text/plain": [
       "'fdgddg'"
      ]
     },
     "execution_count": 208,
     "metadata": {},
     "output_type": "execute_result"
    }
   ],
   "source": [
    "x5[(3,4,5,6)]"
   ]
  },
  {
   "cell_type": "code",
   "execution_count": 210,
   "id": "aeddf69e",
   "metadata": {},
   "outputs": [
    {
     "data": {
      "text/plain": [
       "8"
      ]
     },
     "execution_count": 210,
     "metadata": {},
     "output_type": "execute_result"
    }
   ],
   "source": [
    "len(x1)"
   ]
  },
  {
   "cell_type": "code",
   "execution_count": 226,
   "id": "a9611ebc",
   "metadata": {},
   "outputs": [
    {
     "name": "stdout",
     "output_type": "stream",
     "text": [
      "Paste your para here: Mumbai is the capital of Maharashtra as well as the financial capital of the entire country. Nagpur is known as the auxiliary capital of the state. Also known as the wealthiest state, Maharashtra contributes around 15% of the industrial output of the country and around 14% of its gross domestic product. The state has a varied landscape and is bounded by the Western Ghats. It boasts of several wildlife sanctuaries and national parks, and also patronizes project Tiger, which is an attempt to preserve the endangered species like the Bengal tiger, to conserve the bio-heritage of the country. Maharashtra has a tropical monsoon climate and the annual rainfall is between 400 mm to 6000 mm annually, with the Konkan area receiving the maximum rainfall in the state. The average temperature varies in between 25 to 27 degree Celsius in a year. With six administrative districts and five main regions, Maharashtra has 19 Rajya Sabha or Upper House seats and 48 Lok Sabha or Lower House seats.\n",
      "Tuple List-->  ('vishal', 'vishal', 'vishal', 'vishal', 'vishal', 'vishal', 'vishal', 'vishal', 'vishal', 'vishal', 'vishal', 'vishal', 'vishal', 'vishal', 'vishal', 'vishal', 'vishal', 'vishal', 'vishal', 'vishal', 'vishal', 'vishal', 'vishal', 'vishal', 'vishal', 'vishal', 'vishal', 'vishal', 'vishal', 'vishal', 'vishal', 'vishal', 'vishal', 'vishal', 'vishal', 'vishal', 'vishal', 'vishal', 'vishal', 'vishal', 'vishal', 'vishal', 'vishal', 'vishal', 'vishal', 'vishal', 'vishal', 'vishal', 'vishal', 'vishal', 'vishal', 'vishal', 'vishal', 'vishal', 'vishal', 'vishal', 'vishal', 'vishal', 'vishal', 'vishal', 'vishal', 'vishal', 'vishal', 'vishal', 'vishal', 'vishal', 'vishal', 'vishal', 'vishal', 'vishal', 'vishal', 'vishal', 'vishal', 'vishal', 'vishal', 'vishal', 'vishal', 'vishal', 'vishal', 'vishal', 'vishal', 'vishal', 'vishal', 'vishal', 'vishal', 'vishal', 'vishal', 'vishal', 'vishal', 'vishal', 'vishal', 'vishal', 'vishal', 'vishal', 'vishal', 'vishal', 'vishal', 'vishal', 'vishal', 'vishal', 'vishal', 'vishal', 'vishal', 'vishal', 'vishal')\n",
      "list_keys--> ['between', 'temperature', 'seats', 'six', '400', 'has', 'degree', 'districts', 'area', 'capital', 'an', 'national', 'receiving', 'sanctuaries', 'main', 'House', 'its', 'parks,', 'known', 'bio-heritage', 'Celsius', 'With', 'contributes', 'Nagpur', 'administrative', 'Upper', 'or', '6000', 'product.', 'endangered', 'Lower', 'varies', 'of', 'rainfall', 'Konkan', '25', 'attempt', 'bounded', 'Ghats.', 'climate', 'year.', '14%', 'boasts', '48', 'tropical', 'entire', 'It', 'annual', 'also', 'patronizes', 'Western', 'project', 'state,', 'varied', 'monsoon', 'financial', 'is', 'auxiliary', 'output', 'wealthiest', 'Maharashtra', 'Rajya', 'annually,', 'Also', 'as', 'species', 'regions,', 'seats.', 'industrial', 'five', 'Mumbai', 'like', 'state', 'mm', 'Lok', 'state.', 'average', 'with', '19', 'Sabha', 'conserve', 'country', 'the', 'Bengal', '27', 'domestic', 'gross', 'well', 'in', 'by', 'a', 'around', 'landscape', 'and', '15%', 'country.', 'tiger,', 'Tiger,', 'several', 'wildlife', 'preserve', 'maximum', 'The', 'which', 'to']\n"
     ]
    }
   ],
   "source": [
    "v=input(\"Paste your para here: \")\n",
    "\n",
    "#Q1\n",
    "l=v.split(\" \")\n",
    "\n",
    "#Q2\n",
    "s=set(l)\n",
    "    \n",
    "#Q3\n",
    "d={}\n",
    "for i in s:\n",
    "    d[i]=\"vishal\"\n",
    "    \n",
    "#Q4\n",
    "t_list=[]\n",
    "for i in d.keys():\n",
    "    t_list.append(d[i])\n",
    "\n",
    "print(\"Tuple List--> \",tuple(t_list))\n",
    "\n",
    "#Q5\n",
    "list_keys=[]\n",
    "for i in d.keys():\n",
    "    list_keys.append(i)\n",
    "\n",
    "print(\"list_keys-->\",list_keys)"
   ]
  },
  {
   "cell_type": "code",
   "execution_count": 231,
   "id": "587f770b",
   "metadata": {},
   "outputs": [
    {
     "name": "stdout",
     "output_type": "stream",
     "text": [
      "Enter the para: Mumbai is the capital of Maharashtra as well as the financial capital of the entire country. Nagpur is known as the auxiliary capital of the state. Also known as the wealthiest state, Maharashtra contributes around 15% of the industrial output of the country and around 14% of its gross domestic product. The state has a varied landscape and is bounded by the Western Ghats. It boasts of several wildlife sanctuaries and national parks, and also patronizes project Tiger, which is an attempt to preserve the endangered species like the Bengal tiger, to conserve the bio-heritage of the country. Maharashtra has a tropical monsoon climate and the annual rainfall is between 400 mm to 6000 mm annually, with the Konkan area receiving the maximum rainfall in the state. The average temperature varies in between 25 to 27 degree Celsius in a year. With six administrative districts and five main regions, Maharashtra has 19 Rajya Sabha or Upper House seats and 48 Lok Sabha or Lower House seats.\n"
     ]
    }
   ],
   "source": [
    "paragph=input(\"Enter the para: \")\n",
    "lst1=paragph.split(\" \")\n",
    "s1=set(lst1)\n",
    "dic1=dict.fromkeys(s1,'vish')\n",
    "t1=tuple(dic1.keys())\n",
    "l2=list(dic1.values())"
   ]
  },
  {
   "cell_type": "code",
   "execution_count": 237,
   "id": "44bd25f4",
   "metadata": {},
   "outputs": [],
   "source": [
    "d={\"company\":\"Tcs\", \"course\":\"full stack data\", \"year\":2022}"
   ]
  },
  {
   "cell_type": "code",
   "execution_count": 234,
   "id": "76179869",
   "metadata": {},
   "outputs": [
    {
     "name": "stdout",
     "output_type": "stream",
     "text": [
      "print a key:  company ;  print a value:  Tcs\n",
      "print a key:  course ;  print a value:  full stack data\n",
      "print a key:  year ;  print a value:  2022\n"
     ]
    }
   ],
   "source": [
    "for i in d:\n",
    "    print(\"print a key: \",i,\"; \",\"print a value: \",d[i])"
   ]
  },
  {
   "cell_type": "code",
   "execution_count": 235,
   "id": "f8d726d1",
   "metadata": {},
   "outputs": [],
   "source": [
    "for i in d:\n",
    "    if i =='year':\n",
    "        if d[i]>2022:\n",
    "            print(\"year is fine\")\n",
    "        else:\n",
    "            d[i]=2023"
   ]
  },
  {
   "cell_type": "code",
   "execution_count": 236,
   "id": "7823342a",
   "metadata": {},
   "outputs": [
    {
     "data": {
      "text/plain": [
       "{'company': 'Tcs', 'course': 'full stack data', 'year': 2023}"
      ]
     },
     "execution_count": 236,
     "metadata": {},
     "output_type": "execute_result"
    }
   ],
   "source": [
    "d"
   ]
  },
  {
   "cell_type": "code",
   "execution_count": 238,
   "id": "860a2743",
   "metadata": {},
   "outputs": [],
   "source": [
    "my_dict={}\n",
    "for i in range(10):\n",
    "    my_dict[i]=i*i"
   ]
  },
  {
   "cell_type": "code",
   "execution_count": 239,
   "id": "c49f62ef",
   "metadata": {},
   "outputs": [
    {
     "data": {
      "text/plain": [
       "{0: 0, 1: 1, 2: 4, 3: 9, 4: 16, 5: 25, 6: 36, 7: 49, 8: 64, 9: 81}"
      ]
     },
     "execution_count": 239,
     "metadata": {},
     "output_type": "execute_result"
    }
   ],
   "source": [
    "my_dict"
   ]
  },
  {
   "cell_type": "code",
   "execution_count": 243,
   "id": "2e2cc52c",
   "metadata": {},
   "outputs": [
    {
     "data": {
      "text/plain": [
       "{1: 1, 3: 9, 5: 25, 7: 49, 9: 81}"
      ]
     },
     "execution_count": 243,
     "metadata": {},
     "output_type": "execute_result"
    }
   ],
   "source": [
    "{i:i*i for i in range(1,10,2)}"
   ]
  },
  {
   "cell_type": "markdown",
   "id": "8a85a4b4",
   "metadata": {},
   "source": [
    "# Function"
   ]
  },
  {
   "cell_type": "code",
   "execution_count": 1,
   "id": "c7a123d2",
   "metadata": {},
   "outputs": [
    {
     "data": {
      "text/plain": [
       "3"
      ]
     },
     "execution_count": 1,
     "metadata": {},
     "output_type": "execute_result"
    }
   ],
   "source": [
    "a=1\n",
    "b=2\n",
    "a+b"
   ]
  },
  {
   "cell_type": "code",
   "execution_count": 9,
   "id": "222a4d15",
   "metadata": {},
   "outputs": [],
   "source": [
    "def test(x,y):\n",
    "    \n",
    "    print(x+y)"
   ]
  },
  {
   "cell_type": "code",
   "execution_count": 17,
   "id": "697904f7",
   "metadata": {},
   "outputs": [
    {
     "name": "stdout",
     "output_type": "stream",
     "text": [
      "35\n"
     ]
    }
   ],
   "source": [
    "test(12,23)"
   ]
  },
  {
   "cell_type": "code",
   "execution_count": 18,
   "id": "a52f66db",
   "metadata": {},
   "outputs": [
    {
     "name": "stdout",
     "output_type": "stream",
     "text": [
      "5\n"
     ]
    },
    {
     "data": {
      "text/plain": [
       "NoneType"
      ]
     },
     "execution_count": 18,
     "metadata": {},
     "output_type": "execute_result"
    }
   ],
   "source": [
    "type(test(1,4))"
   ]
  },
  {
   "cell_type": "code",
   "execution_count": 23,
   "id": "2ac18c47",
   "metadata": {},
   "outputs": [
    {
     "name": "stdout",
     "output_type": "stream",
     "text": [
      "14\n"
     ]
    }
   ],
   "source": [
    "b=test(12,2)"
   ]
  },
  {
   "cell_type": "code",
   "execution_count": 25,
   "id": "cd74b3f8",
   "metadata": {},
   "outputs": [
    {
     "data": {
      "text/plain": [
       "NoneType"
      ]
     },
     "execution_count": 25,
     "metadata": {},
     "output_type": "execute_result"
    }
   ],
   "source": [
    "type(b)"
   ]
  },
  {
   "cell_type": "code",
   "execution_count": 11,
   "id": "e3c55424",
   "metadata": {},
   "outputs": [],
   "source": [
    "def test1(a,b):\n",
    "    return a * b"
   ]
  },
  {
   "cell_type": "code",
   "execution_count": 15,
   "id": "d935f6ca",
   "metadata": {},
   "outputs": [
    {
     "data": {
      "text/plain": [
       "125"
      ]
     },
     "execution_count": 15,
     "metadata": {},
     "output_type": "execute_result"
    }
   ],
   "source": [
    "test1(11,11)+4"
   ]
  },
  {
   "cell_type": "code",
   "execution_count": 19,
   "id": "1b856d9d",
   "metadata": {},
   "outputs": [
    {
     "data": {
      "text/plain": [
       "int"
      ]
     },
     "execution_count": 19,
     "metadata": {},
     "output_type": "execute_result"
    }
   ],
   "source": [
    "type(test1(9,2))"
   ]
  },
  {
   "cell_type": "code",
   "execution_count": 21,
   "id": "1ab0b027",
   "metadata": {},
   "outputs": [
    {
     "data": {
      "text/plain": [
       "42"
      ]
     },
     "execution_count": 21,
     "metadata": {},
     "output_type": "execute_result"
    }
   ],
   "source": [
    "a=test1(7,6)\n",
    "a"
   ]
  },
  {
   "cell_type": "code",
   "execution_count": 27,
   "id": "b60d5f64",
   "metadata": {},
   "outputs": [
    {
     "data": {
      "text/plain": [
       "int"
      ]
     },
     "execution_count": 27,
     "metadata": {},
     "output_type": "execute_result"
    }
   ],
   "source": [
    "type(a)"
   ]
  },
  {
   "cell_type": "code",
   "execution_count": 28,
   "id": "ef3bba33",
   "metadata": {},
   "outputs": [],
   "source": [
    "def test2(t,n,m):\n",
    "    return t+m"
   ]
  },
  {
   "cell_type": "code",
   "execution_count": 29,
   "id": "7ad7a0a1",
   "metadata": {},
   "outputs": [
    {
     "data": {
      "text/plain": [
       "15"
      ]
     },
     "execution_count": 29,
     "metadata": {},
     "output_type": "execute_result"
    }
   ],
   "source": [
    "test2(12,23,3)"
   ]
  },
  {
   "cell_type": "code",
   "execution_count": 30,
   "id": "be281a28",
   "metadata": {},
   "outputs": [],
   "source": [
    "def test3(n,m):\n",
    "    return n*10,m*20,m+n"
   ]
  },
  {
   "cell_type": "code",
   "execution_count": 34,
   "id": "f3732081",
   "metadata": {},
   "outputs": [
    {
     "data": {
      "text/plain": [
       "(20, 60, 5)"
      ]
     },
     "execution_count": 34,
     "metadata": {},
     "output_type": "execute_result"
    }
   ],
   "source": [
    "test3(2,3)"
   ]
  },
  {
   "cell_type": "code",
   "execution_count": 35,
   "id": "a09c3df2",
   "metadata": {},
   "outputs": [],
   "source": [
    "v,w,x=test3(2,3)"
   ]
  },
  {
   "cell_type": "code",
   "execution_count": 40,
   "id": "af3c3815",
   "metadata": {},
   "outputs": [
    {
     "data": {
      "text/plain": [
       "(20, 60, 5)"
      ]
     },
     "execution_count": 40,
     "metadata": {},
     "output_type": "execute_result"
    }
   ],
   "source": [
    "v,w,x"
   ]
  },
  {
   "cell_type": "code",
   "execution_count": 45,
   "id": "d8eb9ef3",
   "metadata": {},
   "outputs": [
    {
     "data": {
      "text/plain": [
       "30"
      ]
     },
     "execution_count": 45,
     "metadata": {},
     "output_type": "execute_result"
    }
   ],
   "source": [
    "v+10"
   ]
  },
  {
   "cell_type": "code",
   "execution_count": 44,
   "id": "e430885d",
   "metadata": {},
   "outputs": [
    {
     "data": {
      "text/plain": [
       "(60, 5)"
      ]
     },
     "execution_count": 44,
     "metadata": {},
     "output_type": "execute_result"
    }
   ],
   "source": [
    "w,x"
   ]
  },
  {
   "cell_type": "code",
   "execution_count": 51,
   "id": "021a2b35",
   "metadata": {},
   "outputs": [],
   "source": [
    "c,x,_=test3(4,5)"
   ]
  },
  {
   "cell_type": "code",
   "execution_count": 47,
   "id": "2084f9a9",
   "metadata": {},
   "outputs": [
    {
     "data": {
      "text/plain": [
       "40"
      ]
     },
     "execution_count": 47,
     "metadata": {},
     "output_type": "execute_result"
    }
   ],
   "source": [
    "c"
   ]
  },
  {
   "cell_type": "code",
   "execution_count": 48,
   "id": "cc95f5fe",
   "metadata": {},
   "outputs": [
    {
     "data": {
      "text/plain": [
       "100"
      ]
     },
     "execution_count": 48,
     "metadata": {},
     "output_type": "execute_result"
    }
   ],
   "source": [
    "x"
   ]
  },
  {
   "cell_type": "code",
   "execution_count": 49,
   "id": "194102b3",
   "metadata": {},
   "outputs": [
    {
     "data": {
      "text/plain": [
       "9"
      ]
     },
     "execution_count": 49,
     "metadata": {},
     "output_type": "execute_result"
    }
   ],
   "source": [
    "_"
   ]
  },
  {
   "cell_type": "code",
   "execution_count": 52,
   "id": "5be64d54",
   "metadata": {},
   "outputs": [],
   "source": [
    "# '_' underscore is placeholder does not take any value"
   ]
  },
  {
   "cell_type": "code",
   "execution_count": 53,
   "id": "772c02b1",
   "metadata": {},
   "outputs": [],
   "source": [
    "def test7():\n",
    "    return(\"this is my first class\")"
   ]
  },
  {
   "cell_type": "code",
   "execution_count": 56,
   "id": "81e5d156",
   "metadata": {},
   "outputs": [],
   "source": [
    "m=test7()"
   ]
  },
  {
   "cell_type": "code",
   "execution_count": 58,
   "id": "a6a81450",
   "metadata": {},
   "outputs": [
    {
     "data": {
      "text/plain": [
       "\"this is my first class vishal's\""
      ]
     },
     "execution_count": 58,
     "metadata": {},
     "output_type": "execute_result"
    }
   ],
   "source": [
    "m+\" vishal's\""
   ]
  },
  {
   "cell_type": "code",
   "execution_count": 61,
   "id": "e9c97d6e",
   "metadata": {},
   "outputs": [],
   "source": [
    "def test8(n):\n",
    "    return n*2"
   ]
  },
  {
   "cell_type": "code",
   "execution_count": 62,
   "id": "6aeeabe4",
   "metadata": {},
   "outputs": [
    {
     "data": {
      "text/plain": [
       "[2, 3, 4, 5, 6, 2, 3, 4, 5, 6]"
      ]
     },
     "execution_count": 62,
     "metadata": {},
     "output_type": "execute_result"
    }
   ],
   "source": [
    "test8([2,3,4,5,6])"
   ]
  },
  {
   "cell_type": "code",
   "execution_count": 63,
   "id": "749980fa",
   "metadata": {},
   "outputs": [
    {
     "data": {
      "text/plain": [
       "18"
      ]
     },
     "execution_count": 63,
     "metadata": {},
     "output_type": "execute_result"
    }
   ],
   "source": [
    "test8(9)"
   ]
  },
  {
   "cell_type": "code",
   "execution_count": 66,
   "id": "73ae1158",
   "metadata": {},
   "outputs": [],
   "source": [
    "def test9(n):\n",
    "    return n,n*2"
   ]
  },
  {
   "cell_type": "code",
   "execution_count": 70,
   "id": "522db50d",
   "metadata": {},
   "outputs": [],
   "source": [
    "b=test9([1,2,3])"
   ]
  },
  {
   "cell_type": "code",
   "execution_count": 71,
   "id": "000397c4",
   "metadata": {},
   "outputs": [
    {
     "data": {
      "text/plain": [
       "([1, 2, 3], [1, 2, 3, 1, 2, 3])"
      ]
     },
     "execution_count": 71,
     "metadata": {},
     "output_type": "execute_result"
    }
   ],
   "source": [
    "b"
   ]
  },
  {
   "cell_type": "code",
   "execution_count": 72,
   "id": "6b094683",
   "metadata": {},
   "outputs": [
    {
     "data": {
      "text/plain": [
       "[1, 2, 3]"
      ]
     },
     "execution_count": 72,
     "metadata": {},
     "output_type": "execute_result"
    }
   ],
   "source": [
    "b[0]"
   ]
  },
  {
   "cell_type": "code",
   "execution_count": 73,
   "id": "df058b6d",
   "metadata": {},
   "outputs": [
    {
     "data": {
      "text/plain": [
       "[1, 2, 3, 1, 2, 3]"
      ]
     },
     "execution_count": 73,
     "metadata": {},
     "output_type": "execute_result"
    }
   ],
   "source": [
    "b[1]"
   ]
  },
  {
   "cell_type": "code",
   "execution_count": 78,
   "id": "b5024775",
   "metadata": {},
   "outputs": [],
   "source": [
    "def test10(n,m=10):\n",
    "    return n+m"
   ]
  },
  {
   "cell_type": "code",
   "execution_count": 83,
   "id": "658072bc",
   "metadata": {},
   "outputs": [
    {
     "data": {
      "text/plain": [
       "40"
      ]
     },
     "execution_count": 83,
     "metadata": {},
     "output_type": "execute_result"
    }
   ],
   "source": [
    "test10(30)"
   ]
  },
  {
   "cell_type": "code",
   "execution_count": 85,
   "id": "272609ad",
   "metadata": {},
   "outputs": [
    {
     "data": {
      "text/plain": [
       "35"
      ]
     },
     "execution_count": 85,
     "metadata": {},
     "output_type": "execute_result"
    }
   ],
   "source": [
    "test10(12,23) #overright the value of m"
   ]
  },
  {
   "cell_type": "code",
   "execution_count": 86,
   "id": "19729597",
   "metadata": {},
   "outputs": [],
   "source": [
    "def boolx(x=True, y=False):\n",
    "    return x+y"
   ]
  },
  {
   "cell_type": "code",
   "execution_count": 87,
   "id": "77338aae",
   "metadata": {},
   "outputs": [
    {
     "data": {
      "text/plain": [
       "1"
      ]
     },
     "execution_count": 87,
     "metadata": {},
     "output_type": "execute_result"
    }
   ],
   "source": [
    "boolx()"
   ]
  },
  {
   "cell_type": "code",
   "execution_count": 96,
   "id": "e2d81ab3",
   "metadata": {},
   "outputs": [
    {
     "data": {
      "text/plain": [
       "0"
      ]
     },
     "execution_count": 96,
     "metadata": {},
     "output_type": "execute_result"
    }
   ],
   "source": [
    "boolx(False) #false taking 1st place "
   ]
  },
  {
   "cell_type": "code",
   "execution_count": 97,
   "id": "d6992b56",
   "metadata": {},
   "outputs": [
    {
     "data": {
      "text/plain": [
       "1"
      ]
     },
     "execution_count": 97,
     "metadata": {},
     "output_type": "execute_result"
    }
   ],
   "source": [
    "boolx(False,True)"
   ]
  },
  {
   "cell_type": "code",
   "execution_count": 98,
   "id": "fbd6b2d9",
   "metadata": {},
   "outputs": [],
   "source": [
    "def travel(bike=True, car=False):\n",
    "    plan_travel = bike or car\n",
    "    return bike , car ,plan_travel"
   ]
  },
  {
   "cell_type": "code",
   "execution_count": 99,
   "id": "db8f34f4",
   "metadata": {},
   "outputs": [
    {
     "data": {
      "text/plain": [
       "(True, False, True)"
      ]
     },
     "execution_count": 99,
     "metadata": {},
     "output_type": "execute_result"
    }
   ],
   "source": [
    "travel()"
   ]
  },
  {
   "cell_type": "code",
   "execution_count": 101,
   "id": "0a32bce8",
   "metadata": {},
   "outputs": [
    {
     "data": {
      "text/plain": [
       "(False, False, False)"
      ]
     },
     "execution_count": 101,
     "metadata": {},
     "output_type": "execute_result"
    }
   ],
   "source": [
    "travel(False)"
   ]
  },
  {
   "cell_type": "code",
   "execution_count": 103,
   "id": "c1b0e100",
   "metadata": {},
   "outputs": [
    {
     "data": {
      "text/plain": [
       "(True, True, True)"
      ]
     },
     "execution_count": 103,
     "metadata": {},
     "output_type": "execute_result"
    }
   ],
   "source": [
    "travel(car=True)"
   ]
  },
  {
   "cell_type": "code",
   "execution_count": 110,
   "id": "59ec7112",
   "metadata": {},
   "outputs": [],
   "source": [
    "def test11(*args):\n",
    "    return args\n",
    "\n",
    "#args is multiple data over the pass"
   ]
  },
  {
   "cell_type": "code",
   "execution_count": 111,
   "id": "c1f6ace8",
   "metadata": {},
   "outputs": [
    {
     "data": {
      "text/plain": [
       "('vishal', 'thorat', 23, 23, [1, 3, 445, 4, 12])"
      ]
     },
     "execution_count": 111,
     "metadata": {},
     "output_type": "execute_result"
    }
   ],
   "source": [
    "test11(\"vishal\", \"thorat\",23,23,[1,3,445,4,12])"
   ]
  },
  {
   "cell_type": "code",
   "execution_count": 180,
   "id": "9d5bf06e",
   "metadata": {},
   "outputs": [],
   "source": [
    "def test12(*args):\n",
    "    l=[]\n",
    "    for i in args:\n",
    "        l.extend(i)\n",
    "    return l"
   ]
  },
  {
   "cell_type": "code",
   "execution_count": 181,
   "id": "e921ed18",
   "metadata": {},
   "outputs": [
    {
     "data": {
      "text/plain": [
       "[1, 2, 3, 45, 'thoart', 23, 354, 56, 23, 45, 56, 77, 8, 12, 'vush']"
      ]
     },
     "execution_count": 181,
     "metadata": {},
     "output_type": "execute_result"
    }
   ],
   "source": [
    "test12([1,2,3,45],[\"thoart\",23,354,56],[23,45,56,77,8],[12,\"vush\"])"
   ]
  },
  {
   "cell_type": "code",
   "execution_count": 182,
   "id": "d60794d4",
   "metadata": {},
   "outputs": [],
   "source": [
    "def test13(a,b,c):\n",
    "    return a+b+c"
   ]
  },
  {
   "cell_type": "code",
   "execution_count": 174,
   "id": "663c4937",
   "metadata": {},
   "outputs": [
    {
     "data": {
      "text/plain": [
       "[1, 22, 3, 4, 3, 456, 4, 5, 5, 24, 45, 545, 54]"
      ]
     },
     "execution_count": 174,
     "metadata": {},
     "output_type": "execute_result"
    }
   ],
   "source": [
    "test13([1,22,3,4],[3,456,4,5,5],[24,45,545,54])"
   ]
  },
  {
   "cell_type": "code",
   "execution_count": 215,
   "id": "6416d54f",
   "metadata": {},
   "outputs": [],
   "source": [
    "def test14(*args):\n",
    "    l = []\n",
    "    for i in args:\n",
    "        l=l+i\n",
    "    return l"
   ]
  },
  {
   "cell_type": "code",
   "execution_count": 216,
   "id": "2b4ccdd0",
   "metadata": {},
   "outputs": [
    {
     "data": {
      "text/plain": [
       "[1, 22, 3, 4, 3, 456, 4, 5, 5, 24, 45, 545, 54]"
      ]
     },
     "execution_count": 216,
     "metadata": {},
     "output_type": "execute_result"
    }
   ],
   "source": [
    "test14([1,22,3,4],[3,456,4,5,5],[24,45,545,54])"
   ]
  },
  {
   "cell_type": "code",
   "execution_count": 217,
   "id": "6e1c11ef",
   "metadata": {},
   "outputs": [
    {
     "data": {
      "text/plain": [
       "[1, 2, 3, 45, 23, 354, 56, 23, 45, 56, 77, 8, 12, 23]"
      ]
     },
     "execution_count": 217,
     "metadata": {},
     "output_type": "execute_result"
    }
   ],
   "source": [
    "test14([1,2,3,45],[23,354,56],[23,45,56,77,8],[12,23])"
   ]
  },
  {
   "cell_type": "code",
   "execution_count": 3,
   "id": "1fff48d4",
   "metadata": {},
   "outputs": [],
   "source": [
    "def test15(*args):\n",
    "    l=[]\n",
    "    for i in args:\n",
    "        if type(i) == list:\n",
    "            l = l+i\n",
    "    return l"
   ]
  },
  {
   "cell_type": "code",
   "execution_count": 4,
   "id": "5d9eb3a1",
   "metadata": {},
   "outputs": [
    {
     "data": {
      "text/plain": [
       "[1, 2, 3, 4, 5, 5, 6, 7, 8]"
      ]
     },
     "execution_count": 4,
     "metadata": {},
     "output_type": "execute_result"
    }
   ],
   "source": [
    "test15(\"fsds\" , [1,2,3,4,5] , [5,6,7,8])"
   ]
  },
  {
   "cell_type": "code",
   "execution_count": 1,
   "id": "5d8a6452",
   "metadata": {},
   "outputs": [],
   "source": [
    "def test15(*args):\n",
    "    l=[]\n",
    "    for i in args:\n",
    "        if type(i) == list:\n",
    "            \n",
    "            l = l+i\n",
    "    return l"
   ]
  },
  {
   "cell_type": "code",
   "execution_count": 2,
   "id": "e2ca027e",
   "metadata": {},
   "outputs": [
    {
     "data": {
      "text/plain": [
       "[1, 2, 3, 4, 5, 5, 6, 7, 8]"
      ]
     },
     "execution_count": 2,
     "metadata": {},
     "output_type": "execute_result"
    }
   ],
   "source": [
    "test15(\"fsds\" , [1,2,3,4,5] , [5,6,7,8])"
   ]
  },
  {
   "cell_type": "code",
   "execution_count": 5,
   "id": "ace770af",
   "metadata": {},
   "outputs": [],
   "source": [
    "def test16(**kwargs):\n",
    "    return kwargs"
   ]
  },
  {
   "cell_type": "code",
   "execution_count": 8,
   "id": "26230203",
   "metadata": {},
   "outputs": [
    {
     "data": {
      "text/plain": [
       "{'a': 12, 'b': 23, 'c': 87}"
      ]
     },
     "execution_count": 8,
     "metadata": {},
     "output_type": "execute_result"
    }
   ],
   "source": [
    "test16(a=12,b=23,c=87)"
   ]
  },
  {
   "cell_type": "code",
   "execution_count": 11,
   "id": "4998601a",
   "metadata": {},
   "outputs": [
    {
     "data": {
      "text/plain": [
       "{'a': [1, 222, 3, 4, 545], 'v': 23, 'c': 87}"
      ]
     },
     "execution_count": 11,
     "metadata": {},
     "output_type": "execute_result"
    }
   ],
   "source": [
    "test16(a=[1,222,3,4,545],v=23,c=87)"
   ]
  },
  {
   "cell_type": "code",
   "execution_count": 12,
   "id": "33633cf1",
   "metadata": {},
   "outputs": [],
   "source": [
    "#args returns tuples\n",
    "#kwargs returns dict"
   ]
  },
  {
   "cell_type": "code",
   "execution_count": 27,
   "id": "f9e666be",
   "metadata": {},
   "outputs": [],
   "source": [
    "def vishal(*args):\n",
    "    a=[]\n",
    "    b=[]\n",
    "    c=[]\n",
    "    d=[]\n",
    "    e=[]\n",
    "    f=[]\n",
    "    g=[]\n",
    "    \n",
    "    for i in args:\n",
    "        if type(i)==str:\n",
    "            a.append(i)\n",
    "        if type(i)==int:\n",
    "            b.append(i)\n",
    "        if type(i)==float:\n",
    "            c.append(i)\n",
    "        if type(i)==list:\n",
    "            d.append(i)\n",
    "        if type(i)==bool:\n",
    "            e.append(i)\n",
    "        if type(i)==dict:\n",
    "            f.append(i)\n",
    "        if type(i)==tuple:\n",
    "            g.append(i)\n",
    "            \n",
    "    return a,b,c,d,e,f,g\n",
    "    \n",
    "    "
   ]
  },
  {
   "cell_type": "code",
   "execution_count": 28,
   "id": "691f22d3",
   "metadata": {},
   "outputs": [
    {
     "data": {
      "text/plain": [
       "(['vishal', 'thorat'],\n",
       " [1, 2, 3, 4, 5],\n",
       " [23.34],\n",
       " [[1, 2, 3, 4]],\n",
       " [True, False],\n",
       " [],\n",
       " [(2, 3, 4)])"
      ]
     },
     "execution_count": 28,
     "metadata": {},
     "output_type": "execute_result"
    }
   ],
   "source": [
    "vishal(1,2,3,4,5,[1,2,3,4],\"vishal\",\"thorat\",True,False,23.34,{1,2,3,4},(2,3,4))"
   ]
  },
  {
   "cell_type": "code",
   "execution_count": 19,
   "id": "eec96102",
   "metadata": {},
   "outputs": [],
   "source": [
    "def fun2(*args,**kwargs):\n",
    "    l=[i for i in args if type(i)==list]\n",
    "    d=[i[1] for i in kwargs.items() if type(i[1])==list]\n",
    "    return l,d"
   ]
  },
  {
   "cell_type": "code",
   "execution_count": 20,
   "id": "5df29731",
   "metadata": {},
   "outputs": [
    {
     "data": {
      "text/plain": [
       "([[2, 3, 4, 5, 6, 7], [2, 3, 4, 5, 6, 7, 8]], [[2, 3, 44, 56]])"
      ]
     },
     "execution_count": 20,
     "metadata": {},
     "output_type": "execute_result"
    }
   ],
   "source": [
    "fun2([2,3,4,5,6,7],[2,3,4,5,6,7,8],4,5,6,7,8,9, a=33,b=34,c=[2,3,44,56])"
   ]
  },
  {
   "cell_type": "code",
   "execution_count": 24,
   "id": "6ab1452c",
   "metadata": {},
   "outputs": [],
   "source": [
    "def test18(**kwargs):\n",
    "    for i in kwargs.items():\n",
    "        if type (i[1])==list:\n",
    "            if \"vish\" in i[1]:\n",
    "                print(\"i am able to find your name\")\n",
    "                print(i[1])\n",
    "    return kwargs"
   ]
  },
  {
   "cell_type": "code",
   "execution_count": 25,
   "id": "f8d9dce0",
   "metadata": {},
   "outputs": [
    {
     "name": "stdout",
     "output_type": "stream",
     "text": [
      "i am able to find your name\n",
      "['vish', 'thorat']\n"
     ]
    },
    {
     "data": {
      "text/plain": [
       "{'a': 12, 'b': [2, 3, 4, 5], 'c': 'vishal', 'e': ['vish', 'thorat']}"
      ]
     },
     "execution_count": 25,
     "metadata": {},
     "output_type": "execute_result"
    }
   ],
   "source": [
    "test18(a=12,b=[2,3,4,5],c=\"vishal\",e=['vish','thorat'])"
   ]
  },
  {
   "cell_type": "code",
   "execution_count": 27,
   "id": "6e2ae93a",
   "metadata": {},
   "outputs": [],
   "source": [
    "d={'a': 12, 'b': [2, 3, 4, 5], 'c': 'vishal', 'e': ['vish', 'thorat']}"
   ]
  },
  {
   "cell_type": "code",
   "execution_count": 28,
   "id": "aabd2848",
   "metadata": {},
   "outputs": [
    {
     "data": {
      "text/plain": [
       "dict_values([12, [2, 3, 4, 5], 'vishal', ['vish', 'thorat']])"
      ]
     },
     "execution_count": 28,
     "metadata": {},
     "output_type": "execute_result"
    }
   ],
   "source": [
    "d.values()"
   ]
  },
  {
   "cell_type": "code",
   "execution_count": 34,
   "id": "49e9b057",
   "metadata": {},
   "outputs": [
    {
     "data": {
      "text/plain": [
       "{int: [1, 2, 3],\n",
       " list: [[4, 5, 6]],\n",
       " tuple: [(23, 34, 45, 56)],\n",
       " str: ['hi', 'io'],\n",
       " bool: [True, False],\n",
       " complex: [(6+9j)]}"
      ]
     },
     "execution_count": 34,
     "metadata": {},
     "output_type": "execute_result"
    }
   ],
   "source": [
    "def fun3(*args):\n",
    "    dt = {}\n",
    "    for i in args:\n",
    "        if type(i) in dt:\n",
    "            dt[type(i)].append(i)\n",
    "        else:\n",
    "            dt[type(i)] =[i]\n",
    "    return dt\n",
    "\n",
    "fun3(1,2,3,[4,5,6],(23,34,45,56),\"hi\",\"io\",True,6+9j,False)"
   ]
  },
  {
   "cell_type": "code",
   "execution_count": null,
   "id": "61f93f0f",
   "metadata": {},
   "outputs": [],
   "source": []
  },
  {
   "cell_type": "code",
   "execution_count": null,
   "id": "d4419772",
   "metadata": {},
   "outputs": [],
   "source": []
  }
 ],
 "metadata": {
  "kernelspec": {
   "display_name": "Python 3 (ipykernel)",
   "language": "python",
   "name": "python3"
  },
  "language_info": {
   "codemirror_mode": {
    "name": "ipython",
    "version": 3
   },
   "file_extension": ".py",
   "mimetype": "text/x-python",
   "name": "python",
   "nbconvert_exporter": "python",
   "pygments_lexer": "ipython3",
   "version": "3.9.12"
  }
 },
 "nbformat": 4,
 "nbformat_minor": 5
}
